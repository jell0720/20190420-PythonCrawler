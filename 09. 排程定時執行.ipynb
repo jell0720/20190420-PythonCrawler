{
 "cells": [
  {
   "cell_type": "markdown",
   "metadata": {},
   "source": [
    "# 在 Windows 設定中尋找 \"排程\" 選擇 \"排程工作\"\n",
    "\n",
    "![crontab.PNG](images/crontab.PNG)\n",
    "\n",
    "![crontab2.PNG](images/crontab2.PNG)\n",
    "\n",
    "![crontab3.PNG](images/crontab3.PNG)\n",
    "\n",
    "![crontab4.PNG](images/crontab4.PNG)\n",
    "\n",
    "![crontab5.PNG](images/crontab5.PNG)\n",
    "\n",
    "![crontab6.PNG](images/crontab6.PNG)\n",
    "\n",
    "![crontab7.PNG](images/crontab7.PNG)\n",
    "\n",
    "![crontab8.PNG](images/crontab8.PNG)\n",
    "\n",
    "\n",
    "# 新增引數: run.py 這個檔案的完整路徑\n",
    "# 開始位置: C:\\ProgramData\\Anaconda3"
   ]
  },
  {
   "cell_type": "markdown",
   "metadata": {},
   "source": [
    "\n",
    "# 將以下程式碼存成一個 run.py 檔，然後放入排程，觀察是否正確生成一個檔案到桌面上。"
   ]
  },
  {
   "cell_type": "code",
   "execution_count": 1,
   "metadata": {},
   "outputs": [],
   "source": [
    "import time, os\n",
    "s = time.strftime(\"%Y%m%d%H%M%S\", time.localtime())\n",
    "desktoppath = os.path.join(os.path.expanduser(\"~\"), 'Desktop')\n",
    "filepath = os.path.join(desktoppath, s+\".text\")\n",
    "with open(filepath, \"w+\") as f:\n",
    "    f.write(\"Hello crontab!!!!\")\n"
   ]
  },
  {
   "cell_type": "markdown",
   "metadata": {},
   "source": [
    "# 若您的執行環境在 conda 的虛擬環境裡，就必須透過 bat 來執行\n",
    "\n",
    "# 參考: [實作4. 定時爬取PM2.5並存入雲端試算表](實作4. 定時爬取PM2.5並存入雲端試算表.ipynb)"
   ]
  },
  {
   "cell_type": "code",
   "execution_count": null,
   "metadata": {},
   "outputs": [],
   "source": []
  }
 ],
 "metadata": {
  "kernelspec": {
   "display_name": "Python 3",
   "language": "python",
   "name": "python3"
  },
  "language_info": {
   "codemirror_mode": {
    "name": "ipython",
    "version": 3
   },
   "file_extension": ".py",
   "mimetype": "text/x-python",
   "name": "python",
   "nbconvert_exporter": "python",
   "pygments_lexer": "ipython3",
   "version": "3.6.5"
  }
 },
 "nbformat": 4,
 "nbformat_minor": 2
}
