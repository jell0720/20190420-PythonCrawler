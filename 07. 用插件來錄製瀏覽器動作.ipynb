{
 "cells": [
  {
   "cell_type": "markdown",
   "metadata": {},
   "source": [
    "# 用 katalon Recoder 錄製瀏覽器動作\n",
    "\n",
    "### katalon 是一個很厲害的自動化測試工具。而且是免費的!\n",
    "\n",
    "### 對於嚴謹的 WEB UI 測試會使用 Katalon Studio，而 Katalon Recoder 是一個瀏覽器插件。\n",
    "\n",
    "### 直接用 google 搜尋 \"katalon chrome\" 即可找到。\n",
    "\n"
   ]
  },
  {
   "attachments": {},
   "cell_type": "markdown",
   "metadata": {},
   "source": [
    "![Katalon.PNG](images/Katalon.PNG)\n",
    "\n",
    "![Katalon2.PNG](images/Katalon2.PNG)\n",
    "\n",
    "![Katalon3.PNG](images/Katalon3.PNG)\n",
    "\n",
    "![Katalon4.PNG](images/Katalon4.PNG)\n",
    "\n",
    "![Katalon5.PNG](images/Katalon5.PNG)\n",
    "\n",
    "## export 可以匯出成 python 程式碼，大幅縮短了擷取標籤的時間。\n"
   ]
  },
  {
   "cell_type": "code",
   "execution_count": 18,
   "metadata": {},
   "outputs": [
    {
     "name": "stderr",
     "output_type": "stream",
     "text": [
      "  Could not find a version that satisfies the requirement unittest (from versions: )\n",
      "No matching distribution found for unittest\n",
      "You are using pip version 18.0, however version 18.1 is available.\n",
      "You should consider upgrading via the 'python -m pip install --upgrade pip' command.\n",
      "E"
     ]
    },
    {
     "name": "stdout",
     "output_type": "stream",
     "text": [
      "Collecting unittest\n"
     ]
    },
    {
     "name": "stderr",
     "output_type": "stream",
     "text": [
      "\n",
      "======================================================================\n",
      "ERROR: C:\\Users\\jiangsir\\AppData\\Roaming\\jupyter\\runtime\\kernel-ec1c9610-0cbe-49eb-86e7-b58605968fa1 (unittest.loader._FailedTest)\n",
      "----------------------------------------------------------------------\n",
      "AttributeError: module '__main__' has no attribute 'C:\\Users\\jiangsir\\AppData\\Roaming\\jupyter\\runtime\\kernel-ec1c9610-0cbe-49eb-86e7-b58605968fa1'\n",
      "\n",
      "----------------------------------------------------------------------\n",
      "Ran 1 test in 0.001s\n",
      "\n",
      "FAILED (errors=1)\n"
     ]
    },
    {
     "ename": "SystemExit",
     "evalue": "True",
     "output_type": "error",
     "traceback": [
      "An exception has occurred, use %tb to see the full traceback.\n",
      "\u001b[1;31mSystemExit\u001b[0m\u001b[1;31m:\u001b[0m True\n"
     ]
    },
    {
     "name": "stderr",
     "output_type": "stream",
     "text": [
      "C:\\Users\\jiangsir\\Anaconda3\\lib\\site-packages\\IPython\\core\\interactiveshell.py:2971: UserWarning: To exit: use 'exit', 'quit', or Ctrl-D.\n",
      "  warn(\"To exit: use 'exit', 'quit', or Ctrl-D.\", stacklevel=1)\n"
     ]
    }
   ],
   "source": [
    "from selenium import webdriver\n",
    "from selenium.webdriver.common.by import By\n",
    "from selenium.webdriver.common.keys import Keys\n",
    "from selenium.webdriver.support.ui import Select\n",
    "from selenium.common.exceptions import NoSuchElementException\n",
    "from selenium.common.exceptions import NoAlertPresentException\n",
    "import unittest, time, re\n",
    "\n",
    "class Google:\n",
    "    def __init__(self, testCase):\n",
    "        self.testCase = testCase\n",
    "        \n",
    "    def setUp(self):\n",
    "        self.driver = webdriver.Firefox()\n",
    "        self.driver.implicitly_wait(30)\n",
    "        self.base_url = \"https://www.katalon.com/\"\n",
    "        self.verificationErrors = []\n",
    "        self.accept_next_alert = True\n",
    "    \n",
    "    def test_google(self):\n",
    "        driver = self.driver\n",
    "        driver.get(\"https://zj.nknush.kh.edu.tw/\")\n",
    "        driver.find_element_by_link_text(\"登入\").click()\n",
    "        driver.find_element_by_link_text(\"用\\n\t\t\t\t\t\tGoogle 登入\").click()\n",
    "        driver.find_element_by_xpath(\"(.//*[normalize-space(text()) and normalize-space(.)='Jiangsir jiang'])[1]/following::div[1]\").click()\n",
    "        driver.find_element_by_link_text(\"jiangsir 0\").click()\n",
    "        driver.find_element_by_link_text(\"登出\").click()\n",
    "    \n",
    "    def is_element_present(self, how, what):\n",
    "        try: \n",
    "            self.driver.find_element(by=how, value=what)\n",
    "        except NoSuchElementException as e: \n",
    "            return False\n",
    "        return True\n",
    "    \n",
    "    def is_alert_present(self):\n",
    "        try: \n",
    "            self.driver.switch_to_alert()\n",
    "        except NoAlertPresentException as e: \n",
    "            return False\n",
    "        return True\n",
    "    \n",
    "    def close_alert_and_get_its_text(self):\n",
    "        try:\n",
    "            alert = self.driver.switch_to_alert()\n",
    "            alert_text = alert.text\n",
    "            if self.accept_next_alert:\n",
    "                alert.accept()\n",
    "            else:\n",
    "                alert.dismiss()\n",
    "            return alert_text\n",
    "        finally: \n",
    "            self.accept_next_alert = True\n",
    "    \n",
    "    def tearDown(self):\n",
    "        self.driver.quit()\n",
    "        self.assertEqual([], self.verificationErrors)\n",
    "\n",
    "if __name__ == \"__main__\":\n",
    "    unittest.main()\n"
   ]
  },
  {
   "cell_type": "code",
   "execution_count": null,
   "metadata": {},
   "outputs": [],
   "source": []
  }
 ],
 "metadata": {
  "kernelspec": {
   "display_name": "Python 3",
   "language": "python",
   "name": "python3"
  },
  "language_info": {
   "codemirror_mode": {
    "name": "ipython",
    "version": 3
   },
   "file_extension": ".py",
   "mimetype": "text/x-python",
   "name": "python",
   "nbconvert_exporter": "python",
   "pygments_lexer": "ipython3",
   "version": "3.6.5"
  }
 },
 "nbformat": 4,
 "nbformat_minor": 2
}
