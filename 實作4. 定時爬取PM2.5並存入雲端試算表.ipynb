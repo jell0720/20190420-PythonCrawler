{
 "cells": [
  {
   "cell_type": "code",
   "execution_count": 23,
   "metadata": {},
   "outputs": [
    {
     "name": "stderr",
     "output_type": "stream",
     "text": [
      "C:\\Users\\jiangsir\\Anaconda3\\lib\\site-packages\\urllib3\\connectionpool.py:852: InsecureRequestWarning: Unverified HTTPS request is being made. Adding certificate verification is strongly advised. See: https://urllib3.readthedocs.io/en/latest/advanced-usage.html#ssl-warnings\n",
      "  InsecureRequestWarning)\n"
     ]
    },
    {
     "name": "stdout",
     "output_type": "stream",
     "text": [
      "{'Site': '林園', 'county': '高雄市', 'PM25': '10', 'DataCreationDate': '2019-04-19 21:00', 'ItemUnit': 'μg/m3'}\n"
     ]
    }
   ],
   "source": [
    "import requests, json, os, datetime\n",
    "import gspread\n",
    "from oauth2client.service_account import ServiceAccountCredentials\n",
    "\n",
    "scope = ['https://spreadsheets.google.com/feeds',\n",
    "         'https://www.googleapis.com/auth/drive']\n",
    "\n",
    "#localpath = os.path.abspath(os.path.dirname(__file__))\n",
    "\n",
    "localpath = 'C:\\\\Users\\\\jiangsir\\\\Documents\\\\20190420-PythonCrawler\\\\'\n",
    "credentials = ServiceAccountCredentials.from_json_keyfile_name(localpath+'20190420-myserviceaccount.json', scope)\n",
    "gc = gspread.authorize(credentials)\n",
    "url = 'https://docs.google.com/spreadsheets/d/1Lp42K9Q2fFlfn6wtVYDlmD37Kn9znzzIfZHozfkphl0/edit?usp=sharing'\n",
    "doc = gc.open_by_url(url)\n",
    "wks = doc.worksheet('sheet1')\n",
    "wks.update_acell('A1', '測站')\n",
    "wks.update_acell('B1', 'PM25')\n",
    "wks.update_acell('C1', '日期')\n",
    "\n",
    "\n",
    "# 若來源資料為 https 則加上 verify=False 參數\n",
    "response = requests.get('https://opendata.epa.gov.tw/ws/Data/ATM00625/?$format=json', verify=False)\n",
    "sites = response.json()\n",
    "for site in sites:\n",
    "    if site['Site'] == '林園':\n",
    "        wks.insert_row([site['Site'],  site['PM25'], site['DataCreationDate'], str(datetime.datetime.now())], 2)\n",
    "        print(site)\n"
   ]
  },
  {
   "cell_type": "markdown",
   "metadata": {},
   "source": [
    "# 將爬取 PM2.5 的程式放入排程自動執行"
   ]
  },
  {
   "attachments": {},
   "cell_type": "markdown",
   "metadata": {},
   "source": [
    "## 由於爬蟲程式使用了 conda 的虛擬環境，因此要透過一個 bat 執行檔來執行 python\n",
    "\n",
    "## 請將已下 程式碼存成 PM25.bat 準備讓排程程式呼叫\n",
    "\n",
    "    setlocal enableextensions enabledelayedexpansion\n",
    "    \n",
    "    IF EXIST %ALLUSERSPROFILE%\\Anaconda3\\ (\n",
    "    call %ALLUSERSPROFILE%\\Anaconda3\\Scripts\\activate.bat %ALLUSERSPROFILE%\\Anaconda3\n",
    "    set ANACONDA_PATH=%ALLUSERSPROFILE%\\Anaconda3\n",
    "    echo alluser\n",
    "    ) ELSE (\n",
    "        IF EXIST %HomeDrive%%HomePath%\\Anaconda3\\ (\n",
    "            call %HomeDrive%%HomePath%\\Anaconda3\\Scripts\\activate.bat %HomeDrive%%HomePath%\\Anaconda3\n",
    "            set ANACONDA_PATH=%HomeDrive%%HomePath%\\Anaconda3\n",
    "            echo one user\n",
    "        ) ELSE (\n",
    "            echo Please INSTALL Anaconda First!\n",
    "        )\n",
    "    )\n",
    "\n",
    "    SET PATH=%PATH%;%ANACONDA_PATH%;%ANACONDA_PATH%\\Scripts\\;\n",
    "\n",
    "    set CONDA_NAME=base\n",
    "    call conda activate %CONDA_NAME%\n",
    "    call python %~dp0\\PM25.py\n",
    "    \n",
    "### 將以上程式碼製作成 PM25.bat 藉以呼叫 (base) 虛擬環境裡的 PM25.py\n",
    "\n",
    "![crontab9.PNG](images/crontab9.PNG)"
   ]
  },
  {
   "cell_type": "code",
   "execution_count": null,
   "metadata": {},
   "outputs": [],
   "source": []
  }
 ],
 "metadata": {
  "kernelspec": {
   "display_name": "Python 3",
   "language": "python",
   "name": "python3"
  },
  "language_info": {
   "codemirror_mode": {
    "name": "ipython",
    "version": 3
   },
   "file_extension": ".py",
   "mimetype": "text/x-python",
   "name": "python",
   "nbconvert_exporter": "python",
   "pygments_lexer": "ipython3",
   "version": "3.6.5"
  }
 },
 "nbformat": 4,
 "nbformat_minor": 2
}
