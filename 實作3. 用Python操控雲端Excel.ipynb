{
 "cells": [
  {
   "cell_type": "markdown",
   "metadata": {},
   "source": [
    "# https://medium.com/nine9devtw/google-sheet-with-python-1-21268dd68773\n",
    "\n",
    "https://developers.google.com/sheets/quickstart/python?hl=zh-cn\n",
    "\n",
    "https://www.maxlist.xyz/2018/09/25/python_googlesheet_crud/\n",
    "\n",
    "http://shian420.pixnet.net/blog/post/349631089-%5Bpython%5D-%E4%B8%B2%E6%8E%A5-google-sheet-api"
   ]
  },
  {
   "cell_type": "markdown",
   "metadata": {},
   "source": [
    "# 先取得憑證\n",
    "\n",
    "申請項目去讀取google sheet，憑證要稍微注意一下就是是要申請「OAuth client ID」的憑證\n",
    "\n",
    "申請網址: https://console.developers.google.com/flows/enableapi?apiid=sheets.googleapis.com&pli=1\n",
    "\n",
    "建立或選擇一個專案: \n",
    "\n",
    "\n",
    "AutoEditByPython\n",
    "電子郵件地址\n",
    "autoeditbypython@autoeditbypython.iam.gserviceaccount.com\n",
    "金鑰 ID\n",
    "2db55f94eef3c10248d764fa02df8c703832b7c3\n",
    "\n",
    "743ed4c920f3eef29ff394911589742525c65626\n",
    "\n",
    " 這是您的用戶端 ID \n",
    " \n",
    "701044653095-542h12rr3k9daccbdeptm9nrjkjv7n8l.apps.googleusercontent.com\n",
    "\n",
    "您的用戶端密鑰如下\n",
    "\n",
    "9ufZOYLL5zOXIavPUo906SMw\n",
    "\n"
   ]
  },
  {
   "cell_type": "code",
   "execution_count": 1,
   "metadata": {},
   "outputs": [
    {
     "name": "stdout",
     "output_type": "stream",
     "text": [
      "Collecting google-api-python-client\n",
      "  Downloading https://files.pythonhosted.org/packages/55/e9/e8fb2e3a031cb69b9524b80a92b126665d9a17421700a219555e3233ab6a/google_api_python_client-1.7.8-py3-none-any.whl (56kB)\n",
      "Requirement already satisfied, skipping upgrade: uritemplate<4dev,>=3.0.0 in c:\\users\\jiangsir\\anaconda3\\lib\\site-packages (from google-api-python-client) (3.0.0)\n",
      "Requirement already satisfied, skipping upgrade: httplib2<1dev,>=0.9.2 in c:\\users\\jiangsir\\anaconda3\\lib\\site-packages (from google-api-python-client) (0.11.3)\n",
      "Requirement already satisfied, skipping upgrade: google-auth-httplib2>=0.0.3 in c:\\users\\jiangsir\\anaconda3\\lib\\site-packages (from google-api-python-client) (0.0.3)\n",
      "Requirement already satisfied, skipping upgrade: six<2dev,>=1.6.1 in c:\\users\\jiangsir\\appdata\\roaming\\python\\python36\\site-packages (from google-api-python-client) (1.12.0)\n",
      "Requirement already satisfied, skipping upgrade: google-auth>=1.4.1 in c:\\users\\jiangsir\\anaconda3\\lib\\site-packages (from google-api-python-client) (1.5.1)\n",
      "Requirement already satisfied, skipping upgrade: rsa>=3.1.4 in c:\\users\\jiangsir\\anaconda3\\lib\\site-packages (from google-auth>=1.4.1->google-api-python-client) (4.0)\n",
      "Requirement already satisfied, skipping upgrade: cachetools>=2.0.0 in c:\\users\\jiangsir\\anaconda3\\lib\\site-packages (from google-auth>=1.4.1->google-api-python-client) (2.1.0)\n",
      "Requirement already satisfied, skipping upgrade: pyasn1-modules>=0.2.1 in c:\\users\\jiangsir\\anaconda3\\lib\\site-packages (from google-auth>=1.4.1->google-api-python-client) (0.2.2)\n",
      "Requirement already satisfied, skipping upgrade: pyasn1>=0.1.3 in c:\\users\\jiangsir\\anaconda3\\lib\\site-packages (from rsa>=3.1.4->google-auth>=1.4.1->google-api-python-client) (0.4.4)\n",
      "Installing collected packages: google-api-python-client\n",
      "  Found existing installation: google-api-python-client 1.7.4\n",
      "    Uninstalling google-api-python-client-1.7.4:\n",
      "      Successfully uninstalled google-api-python-client-1.7.4\n",
      "Successfully installed google-api-python-client-1.7.8\n"
     ]
    }
   ],
   "source": [
    "!pip3 install --upgrade google-api-python-client"
   ]
  },
  {
   "cell_type": "markdown",
   "metadata": {},
   "source": [
    "# 執行 python3 GoogleSheetAPI_CRUD.py\n"
   ]
  },
  {
   "cell_type": "markdown",
   "metadata": {},
   "source": [
    "# 加入一筆資料"
   ]
  },
  {
   "cell_type": "markdown",
   "metadata": {},
   "source": [
    "# 安裝 gspread\n",
    "\n",
    "gspread 用法: http://www.voidcc.com/project/gspread"
   ]
  },
  {
   "cell_type": "code",
   "execution_count": 3,
   "metadata": {},
   "outputs": [
    {
     "name": "stdout",
     "output_type": "stream",
     "text": [
      "Requirement already satisfied: gspread in c:\\users\\jiangsir\\anaconda3\\lib\\site-packages (3.0.1)\n",
      "Requirement already satisfied: requests>=2.2.1 in c:\\users\\jiangsir\\anaconda3\\lib\\site-packages (from gspread) (2.17.1)\n",
      "Requirement already satisfied: idna<2.6,>=2.5 in c:\\users\\jiangsir\\anaconda3\\lib\\site-packages (from requests>=2.2.1->gspread) (2.5)\n",
      "Requirement already satisfied: urllib3<1.22,>=1.21.1 in c:\\users\\jiangsir\\anaconda3\\lib\\site-packages (from requests>=2.2.1->gspread) (1.21.1)\n",
      "Requirement already satisfied: certifi>=2017.4.17 in c:\\users\\jiangsir\\anaconda3\\lib\\site-packages (from requests>=2.2.1->gspread) (2018.4.16)\n",
      "Requirement already satisfied: chardet<3.1.0,>=3.0.2 in c:\\users\\jiangsir\\anaconda3\\lib\\site-packages (from requests>=2.2.1->gspread) (3.0.4)\n"
     ]
    }
   ],
   "source": [
    "!pip install gspread"
   ]
  },
  {
   "cell_type": "markdown",
   "metadata": {},
   "source": [
    "# 憑證問題\n",
    "\n",
    "進入 API CONSOLE，建立一個 project(或選用已有) 建立一個\"服務帳戶\"，會自動下載一個 .json 檔。裡面有一個欄位 \"client_email\": \"autoeditbypython@autoeditbypython.iam.gserviceaccount.com\",\n",
    "這個身分要給他編輯權限才能編輯。\n",
    "\n",
    "\n",
    "\n",
    "找到 client_id 對應到的 後面那串很長的信箱把它複製起來!!\n",
    "\n",
    "然後請將這個 email 加入剛剛檔案的共用者吧~~~\n",
    "\n",
    "將這個身分加入編輯權限。\n",
    "\n",
    "autoeditbypython@autoeditbypython.iam.gserviceaccount.com \n",
    "\n",
    "\n",
    "在Google APIs Console中的憑證欄位，除了API金鑰 / OAuth 2.0 用戶端 ID ，第三個能夠創建的就是 服務帳戶金鑰，服務帳號像是創建一個新的用戶，只是此用戶是被用於 Server 端授權，並透過 IAM 管理權限。\n",
    "\n",
    "透過服務帳號最大好處是應用程式是授權於服務帳號，而非個體用戶，像是遇到人員流動就不需要手動在管理授權；\n",
    "而且也不需要在 Client又要跳出用戶授權頁面，非常適合用於對內的專案開發(此流程又稱為 two-legged OAuth)。\n"
   ]
  },
  {
   "cell_type": "code",
   "execution_count": 16,
   "metadata": {},
   "outputs": [
    {
     "data": {
      "text/plain": [
       "[<Cell R1C1 'sss'>,\n",
       " <Cell R1C2 'ddd'>,\n",
       " <Cell R2C1 ''>,\n",
       " <Cell R2C2 \"it's down there somewhere, let me take another look.\">,\n",
       " <Cell R3C1 ''>,\n",
       " <Cell R3C2 ''>,\n",
       " <Cell R4C1 ''>,\n",
       " <Cell R4C2 ''>,\n",
       " <Cell R5C1 ''>,\n",
       " <Cell R5C2 ''>,\n",
       " <Cell R6C1 ''>,\n",
       " <Cell R6C2 ''>,\n",
       " <Cell R7C1 ''>,\n",
       " <Cell R7C2 ''>]"
      ]
     },
     "execution_count": 16,
     "metadata": {},
     "output_type": "execute_result"
    }
   ],
   "source": [
    "import gspread\n",
    "from oauth2client.service_account import ServiceAccountCredentials\n",
    "\n",
    "scope = ['https://spreadsheets.google.com/feeds',\n",
    "         'https://www.googleapis.com/auth/drive']\n",
    "\n",
    "credentials = ServiceAccountCredentials.from_json_keyfile_name('AutoEditByPython-736cbd66e37d.json', scope)\n",
    "\n",
    "gc = gspread.authorize(credentials)\n",
    "\n",
    "# Open a worksheet from spreadsheet with one shot\n",
    "# wks = gc.open(\"Where is the money Lebowski?\").sheet1\n",
    "\n",
    "url = 'https://docs.google.com/spreadsheets/d/1Lp42K9Q2fFlfn6wtVYDlmD37Kn9znzzIfZHozfkphl0/edit?usp=sharing'\n",
    "doc = gc.open_by_url(url)\n",
    "wks = doc.worksheet('sheet1')\n",
    "\n",
    "wks.update_acell('B2', \"it's down there somewhere, let me take another look.\")\n",
    "\n",
    "\n",
    "# Fetch a cell range\n",
    "cell_list = wks.range('A1:B7')\n",
    "\n",
    "cell_list"
   ]
  },
  {
   "cell_type": "markdown",
   "metadata": {},
   "source": [
    "# 將爬蟲讀取的資料存入雲端"
   ]
  },
  {
   "cell_type": "code",
   "execution_count": null,
   "metadata": {},
   "outputs": [],
   "source": []
  }
 ],
 "metadata": {
  "kernelspec": {
   "display_name": "Python 3",
   "language": "python",
   "name": "python3"
  },
  "language_info": {
   "codemirror_mode": {
    "name": "ipython",
    "version": 3
   },
   "file_extension": ".py",
   "mimetype": "text/x-python",
   "name": "python",
   "nbconvert_exporter": "python",
   "pygments_lexer": "ipython3",
   "version": "3.6.5"
  }
 },
 "nbformat": 4,
 "nbformat_minor": 2
}
