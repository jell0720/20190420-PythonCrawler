{
 "cells": [
  {
   "cell_type": "markdown",
   "metadata": {},
   "source": [
    "# 首先安裝必要的套件\n"
   ]
  },
  {
   "cell_type": "code",
   "execution_count": 1,
   "metadata": {},
   "outputs": [
    {
     "data": {
      "text/plain": [
       "'C:\\\\Users\\\\jiangsir\\\\Anaconda3\\\\python.exe'"
      ]
     },
     "execution_count": 1,
     "metadata": {},
     "output_type": "execute_result"
    }
   ],
   "source": [
    "## 找到使用的是哪一個 python\n",
    "\n",
    "import sys\n",
    "sys.executable"
   ]
  },
  {
   "cell_type": "markdown",
   "metadata": {},
   "source": [
    "## 安裝 selenium"
   ]
  },
  {
   "cell_type": "code",
   "execution_count": 11,
   "metadata": {},
   "outputs": [
    {
     "name": "stdout",
     "output_type": "stream",
     "text": [
      "Collecting selenium\n",
      "  Downloading https://files.pythonhosted.org/packages/b0/c9/52390baa8d6b65c3e3b89f522c3a0fcf58f2b4faf37893ef9d97cddde699/selenium-3.14.1-py2.py3-none-any.whl (902kB)\n",
      "Requirement already satisfied: urllib3 in c:\\users\\jiangsir\\anaconda3\\lib\\site-packages (from selenium) (1.22)\n",
      "Installing collected packages: selenium\n",
      "Successfully installed selenium-3.14.1\n"
     ]
    },
    {
     "name": "stderr",
     "output_type": "stream",
     "text": [
      "You are using pip version 18.0, however version 18.1 is available.\n",
      "You should consider upgrading via the 'python -m pip install --upgrade pip' command.\n"
     ]
    }
   ],
   "source": [
    "!pip install selenium"
   ]
  },
  {
   "cell_type": "markdown",
   "metadata": {},
   "source": [
    "# 下載瀏覽器控制器\n",
    "\n",
    " [chromedriver.exe](files/chromedriver.exe)\n",
    " \n",
    " 將 chromedriver.exe 複製到 C:\\\\Users\\\\jiangsir\\\\Anaconda3\\\\  以便未來使用"
   ]
  },
  {
   "cell_type": "markdown",
   "metadata": {},
   "source": [
    "# 打開瀏覽器，連線到 google"
   ]
  },
  {
   "cell_type": "code",
   "execution_count": 4,
   "metadata": {},
   "outputs": [
    {
     "name": "stdout",
     "output_type": "stream",
     "text": [
      "Google\n"
     ]
    }
   ],
   "source": [
    "from selenium import webdriver\n",
    "from selenium.common.exceptions import TimeoutException\n",
    " \n",
    "# available since 2.4.0\n",
    "from selenium.webdriver.support.ui import WebDriverWait\n",
    " \n",
    "# available since 2.26.0\n",
    "from selenium.webdriver.support import expected_conditions as EC\n",
    " \n",
    "# 建立 driver\n",
    "# 需下載 Browser Drivers http://www.seleniumhq.org/download/ \n",
    "# 若 geckodriver 有在 PATH 中， firefox 可不帶路徑參數\n",
    "driver = webdriver.Chrome(executable_path=\"C:\\\\Users\\\\jiangsir\\\\Anaconda3\\\\chromedriver.exe\")\n",
    "\n",
    "# 去 google\n",
    "driver.get(\"http://www.google.com\")\n",
    " \n",
    "# 顯示標題\n",
    "print(driver.title)\n",
    "\n",
    "# 關閉瀏覽器\n",
    "driver.close()"
   ]
  },
  {
   "cell_type": "markdown",
   "metadata": {},
   "source": [
    "## 打開 chrome 查詢關鍵字"
   ]
  },
  {
   "cell_type": "code",
   "execution_count": 22,
   "metadata": {},
   "outputs": [
    {
     "name": "stdout",
     "output_type": "stream",
     "text": [
      "三國演義- 維基百科，自由的百科全書 - Wikipedia https://zh.wikipedia.org/zh-tw/%E4%B8%89%E5%9B%BD%E6%BC%94%E4%B9%89\n",
      "三國演義- 中國哲學書電子化計劃 https://ctext.org/sanguo-yanyi/zh\n",
      "博客來-目前您搜尋的關鍵字為: 三國演義 https://search.books.com.tw/search/query/key/%E4%B8%89%E5%9C%8B%E6%BC%94%E7%BE%A9/cat/all\n",
      "三國演義- 维基文库，自由的图书馆 https://zh.wikisource.org/zh-hant/%E4%B8%89%E5%9C%8B%E6%BC%94%E7%BE%A9\n",
      "三国演义（罗贯中著长篇小说）_百度百科 https://baike.baidu.com/item/%E4%B8%89%E5%9B%BD%E6%BC%94%E4%B9%89\n",
      "《三國演義》 - 中國文化研究院 https://www.chiculture.net/index.php?file=topic_description&old_id=0416\n",
      "三國演義| 誠品網路書店 http://www.eslite.com/Search_BW.aspx?query=%E4%B8%89%E5%9C%8B%E6%BC%94%E7%BE%A9\n",
      "漢川草廬-中國古典小說-三國演義目錄 http://www.xn--5rtnx620bw5s.tw/e/e5/e05.htm\n",
      "羅貫中【三國演義】- 好讀 http://www.haodoo.net/?M=book&P=84\n"
     ]
    }
   ],
   "source": [
    "from selenium import webdriver\n",
    "import requests\n",
    "from bs4 import BeautifulSoup\n",
    "\n",
    "\n",
    "driver = webdriver.Chrome()\n",
    "driver.get(\"https://www.google.com\")\n",
    "#找到輸入框\n",
    "element = driver.find_element_by_name(\"q\")\n",
    "#輸入內容\n",
    "element.send_keys(\"三國演義\");\n",
    "#提交表單\n",
    "element.submit();\n",
    "\n",
    "results = driver.find_element_by_id('rso')\n",
    "html = results.get_attribute('outerHTML')\n",
    "\n",
    "#driver.close()\n",
    "\n",
    "soup = BeautifulSoup(html, 'lxml')\n",
    "tags = soup.select('div.r a')\n",
    "\n",
    "for tag in tags:\n",
    "    if tag.find('h3') != None:\n",
    "        print(tag.find('h3').text, tag['href'])\n"
   ]
  },
  {
   "cell_type": "markdown",
   "metadata": {},
   "source": [
    "## 用 katalon 錄製畫面"
   ]
  },
  {
   "cell_type": "code",
   "execution_count": 18,
   "metadata": {},
   "outputs": [
    {
     "name": "stderr",
     "output_type": "stream",
     "text": [
      "  Could not find a version that satisfies the requirement unittest (from versions: )\n",
      "No matching distribution found for unittest\n",
      "You are using pip version 18.0, however version 18.1 is available.\n",
      "You should consider upgrading via the 'python -m pip install --upgrade pip' command.\n",
      "E"
     ]
    },
    {
     "name": "stdout",
     "output_type": "stream",
     "text": [
      "Collecting unittest\n"
     ]
    },
    {
     "name": "stderr",
     "output_type": "stream",
     "text": [
      "\n",
      "======================================================================\n",
      "ERROR: C:\\Users\\jiangsir\\AppData\\Roaming\\jupyter\\runtime\\kernel-ec1c9610-0cbe-49eb-86e7-b58605968fa1 (unittest.loader._FailedTest)\n",
      "----------------------------------------------------------------------\n",
      "AttributeError: module '__main__' has no attribute 'C:\\Users\\jiangsir\\AppData\\Roaming\\jupyter\\runtime\\kernel-ec1c9610-0cbe-49eb-86e7-b58605968fa1'\n",
      "\n",
      "----------------------------------------------------------------------\n",
      "Ran 1 test in 0.001s\n",
      "\n",
      "FAILED (errors=1)\n"
     ]
    },
    {
     "ename": "SystemExit",
     "evalue": "True",
     "output_type": "error",
     "traceback": [
      "An exception has occurred, use %tb to see the full traceback.\n",
      "\u001b[1;31mSystemExit\u001b[0m\u001b[1;31m:\u001b[0m True\n"
     ]
    },
    {
     "name": "stderr",
     "output_type": "stream",
     "text": [
      "C:\\Users\\jiangsir\\Anaconda3\\lib\\site-packages\\IPython\\core\\interactiveshell.py:2971: UserWarning: To exit: use 'exit', 'quit', or Ctrl-D.\n",
      "  warn(\"To exit: use 'exit', 'quit', or Ctrl-D.\", stacklevel=1)\n"
     ]
    }
   ],
   "source": [
    "from selenium import webdriver\n",
    "from selenium.webdriver.common.by import By\n",
    "from selenium.webdriver.common.keys import Keys\n",
    "from selenium.webdriver.support.ui import Select\n",
    "from selenium.common.exceptions import NoSuchElementException\n",
    "from selenium.common.exceptions import NoAlertPresentException\n",
    "import unittest, time, re\n",
    "\n",
    "class Google:\n",
    "    def __init__(self, testCase):\n",
    "        self.testCase = testCase\n",
    "        \n",
    "    def setUp(self):\n",
    "        self.driver = webdriver.Firefox()\n",
    "        self.driver.implicitly_wait(30)\n",
    "        self.base_url = \"https://www.katalon.com/\"\n",
    "        self.verificationErrors = []\n",
    "        self.accept_next_alert = True\n",
    "    \n",
    "    def test_google(self):\n",
    "        driver = self.driver\n",
    "        driver.get(\"https://zj.nknush.kh.edu.tw/\")\n",
    "        driver.find_element_by_link_text(\"登入\").click()\n",
    "        driver.find_element_by_link_text(\"用\\n\t\t\t\t\t\tGoogle 登入\").click()\n",
    "        driver.find_element_by_xpath(\"(.//*[normalize-space(text()) and normalize-space(.)='Jiangsir jiang'])[1]/following::div[1]\").click()\n",
    "        driver.find_element_by_link_text(\"jiangsir 0\").click()\n",
    "        driver.find_element_by_link_text(\"登出\").click()\n",
    "    \n",
    "    def is_element_present(self, how, what):\n",
    "        try: \n",
    "            self.driver.find_element(by=how, value=what)\n",
    "        except NoSuchElementException as e: \n",
    "            return False\n",
    "        return True\n",
    "    \n",
    "    def is_alert_present(self):\n",
    "        try: \n",
    "            self.driver.switch_to_alert()\n",
    "        except NoAlertPresentException as e: \n",
    "            return False\n",
    "        return True\n",
    "    \n",
    "    def close_alert_and_get_its_text(self):\n",
    "        try:\n",
    "            alert = self.driver.switch_to_alert()\n",
    "            alert_text = alert.text\n",
    "            if self.accept_next_alert:\n",
    "                alert.accept()\n",
    "            else:\n",
    "                alert.dismiss()\n",
    "            return alert_text\n",
    "        finally: \n",
    "            self.accept_next_alert = True\n",
    "    \n",
    "    def tearDown(self):\n",
    "        self.driver.quit()\n",
    "        self.assertEqual([], self.verificationErrors)\n",
    "\n",
    "if __name__ == \"__main__\":\n",
    "    unittest.main()\n"
   ]
  },
  {
   "cell_type": "code",
   "execution_count": null,
   "metadata": {},
   "outputs": [],
   "source": []
  },
  {
   "cell_type": "code",
   "execution_count": null,
   "metadata": {},
   "outputs": [],
   "source": []
  }
 ],
 "metadata": {
  "kernelspec": {
   "display_name": "Python 3",
   "language": "python",
   "name": "python3"
  },
  "language_info": {
   "codemirror_mode": {
    "name": "ipython",
    "version": 3
   },
   "file_extension": ".py",
   "mimetype": "text/x-python",
   "name": "python",
   "nbconvert_exporter": "python",
   "pygments_lexer": "ipython3",
   "version": "3.6.5"
  }
 },
 "nbformat": 4,
 "nbformat_minor": 2
}
