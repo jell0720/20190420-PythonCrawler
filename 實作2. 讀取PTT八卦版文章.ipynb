{
 "cells": [
  {
   "cell_type": "markdown",
   "metadata": {},
   "source": [
    "## 撈取 PTT 八卦版文章 -- 解決點選 yes 的問題。"
   ]
  },
  {
   "cell_type": "code",
   "execution_count": 1,
   "metadata": {
    "scrolled": true
   },
   "outputs": [
    {
     "name": "stderr",
     "output_type": "stream",
     "text": [
      "C:\\Users\\jiangsir\\Anaconda3\\lib\\site-packages\\urllib3\\connectionpool.py:852: InsecureRequestWarning: Unverified HTTPS request is being made. Adding certificate verification is strongly advised. See: https://urllib3.readthedocs.io/en/latest/advanced-usage.html#ssl-warnings\n",
      "  InsecureRequestWarning)\n",
      "C:\\Users\\jiangsir\\Anaconda3\\lib\\site-packages\\urllib3\\connectionpool.py:852: InsecureRequestWarning: Unverified HTTPS request is being made. Adding certificate verification is strongly advised. See: https://urllib3.readthedocs.io/en/latest/advanced-usage.html#ssl-warnings\n",
      "  InsecureRequestWarning)\n",
      "C:\\Users\\jiangsir\\Anaconda3\\lib\\site-packages\\urllib3\\connectionpool.py:852: InsecureRequestWarning: Unverified HTTPS request is being made. Adding certificate verification is strongly advised. See: https://urllib3.readthedocs.io/en/latest/advanced-usage.html#ssl-warnings\n",
      "  InsecureRequestWarning)\n",
      "C:\\Users\\jiangsir\\Anaconda3\\lib\\site-packages\\urllib3\\connectionpool.py:852: InsecureRequestWarning: Unverified HTTPS request is being made. Adding certificate verification is strongly advised. See: https://urllib3.readthedocs.io/en/latest/advanced-usage.html#ssl-warnings\n",
      "  InsecureRequestWarning)\n"
     ]
    },
    {
     "name": "stdout",
     "output_type": "stream",
     "text": [
      "[問卦] 七坐八爬九發牙是不是過時了 https://www.ptt.cc/bbs/Gossiping/M.1555664512.A.065.html\n",
      "[臉書] 朱學恆 https://www.ptt.cc/bbs/Gossiping/M.1555664557.A.7A5.html\n",
      "[問卦] 說不痛苦那是假的 畢竟我的心也是肉做的 https://www.ptt.cc/bbs/Gossiping/M.1555664558.A.03C.html\n",
      "Re: [新聞] 澄清假消息 政院有意創PTT「政府說明板」 https://www.ptt.cc/bbs/Gossiping/M.1555664639.A.DA3.html\n",
      "Re: [新聞] 澄清假消息 政院有意創PTT「政府說明板」 https://www.ptt.cc/bbs/Gossiping/M.1555664666.A.0C4.html\n",
      "Re: [問卦] 說不痛苦那是假的 畢竟我的心也是肉做的 https://www.ptt.cc/bbs/Gossiping/M.1555664674.A.5BE.html\n",
      "Re: [問卦] 幹雨傘的人在想什麼？ https://www.ptt.cc/bbs/Gossiping/M.1555664677.A.A7E.html\n",
      "[問卦] 你沒有獎品？ https://www.ptt.cc/bbs/Gossiping/M.1555664712.A.2EE.html\n",
      "Re: [問卦] 八卦板黨工最近怎都不見了啊?? https://www.ptt.cc/bbs/Gossiping/M.1555664736.A.635.html\n",
      "Re: [問卦]希望被一個用戰車碾人統治的人是智障嗎？ https://www.ptt.cc/bbs/Gossiping/M.1555664751.A.404.html\n",
      "[新聞] 駁蔡英文 賴清德：脫黨競選才會分裂 https://www.ptt.cc/bbs/Gossiping/M.1555664786.A.29B.html\n",
      "[問卦] 保存血液的方法 https://www.ptt.cc/bbs/Gossiping/M.1555664809.A.774.html\n",
      "Re: [爆卦] 立院提案讓中國製品以台灣製出口 https://www.ptt.cc/bbs/Gossiping/M.1555664817.A.FAD.html\n",
      "Re: [新聞]「本里拒絕餵食野貓野狗」高雄林華里立布條引網友論戰 https://www.ptt.cc/bbs/Gossiping/M.1555664819.A.609.html\n",
      "Re: [新聞] 美魔女講電話袖口洞開！引來鹹豬手搓揉 https://www.ptt.cc/bbs/Gossiping/M.1555664825.A.693.html\n",
      "Re: [新聞] 澄清假消息 政院有意創PTT「政府說明板」 https://www.ptt.cc/bbs/Gossiping/M.1555664863.A.1B7.html\n",
      "Re: [新聞] 澄清假消息 政院有意創PTT「政府說明板」 https://www.ptt.cc/bbs/Gossiping/M.1555664895.A.3DC.html\n",
      "[問卦] 打高爾夫打到翻帳篷== 有卦嗎？ https://www.ptt.cc/bbs/Gossiping/M.1555664914.A.38A.html\n",
      "[問卦] 驚天大問卦！ https://www.ptt.cc/bbs/Gossiping/M.1555664924.A.4E2.html\n",
      "[公告] 八卦板板規(2019.02.21) https://www.ptt.cc/bbs/Gossiping/M.1550749445.A.B40.html\n",
      "[公告] 版規的政問定義即將追加設定． https://www.ptt.cc/bbs/Gossiping/M.1555516941.A.FE5.html\n",
      "[公告] 四月份置底閒聊區^Q^ https://www.ptt.cc/bbs/Gossiping/M.1554085856.A.7DF.html\n",
      "[公告] 地震災害回報輿情區 https://www.ptt.cc/bbs/Gossiping/M.1555568610.A.1A5.html\n"
     ]
    }
   ],
   "source": [
    "import requests\n",
    "from bs4 import BeautifulSoup\n",
    "\n",
    "payload = {\n",
    "    'from': 'bbs/Gossiping/index.html',\n",
    "    'yes': 'yes'\n",
    "}\n",
    "\n",
    "host = 'https://www.ptt.cc'\n",
    "\n",
    "rs = requests.session()\n",
    "result = rs.post(host+'/ask/over18', verify=False, data=payload)\n",
    "\n",
    "\n",
    "result = rs.get(host+'/bbs/Gossiping/index.html')\n",
    "soup = BeautifulSoup(result.text, 'lxml')\n",
    "\n",
    "selector = 'div.title a'\n",
    "tags = soup.select(selector)\n",
    "for tag in tags:\n",
    "    print(tag.text, host+tag['href'])"
   ]
  },
  {
   "cell_type": "markdown",
   "metadata": {},
   "source": [
    "## 讀取多頁八卦版文章"
   ]
  },
  {
   "cell_type": "code",
   "execution_count": 6,
   "metadata": {
    "scrolled": false
   },
   "outputs": [
    {
     "name": "stdout",
     "output_type": "stream",
     "text": [
      "讀取文章:  /bbs/Gossiping/index.html\n",
      "讀取文章:  /bbs/Gossiping/index39510.html\n",
      "讀取文章:  /bbs/Gossiping/index39509.html\n",
      "讀取文章:  /bbs/Gossiping/index39508.html\n",
      "讀取文章:  /bbs/Gossiping/index39507.html\n",
      "讀取文章:  /bbs/Gossiping/index39506.html\n",
      "讀取文章:  /bbs/Gossiping/index39505.html\n",
      "讀取文章:  /bbs/Gossiping/index39504.html\n",
      "讀取文章:  /bbs/Gossiping/index39503.html\n",
      "讀取文章:  /bbs/Gossiping/index39502.html\n",
      "https://www.ptt.cc/bbs/Gossiping/M.1555664964.A.282.html [問卦] 晚餐時間，現在開放點餐\n",
      "https://www.ptt.cc/bbs/Gossiping/M.1555664967.A.11D.html Re: [問卦] 念台大是什麼感覺?\n",
      "https://www.ptt.cc/bbs/Gossiping/M.1555665047.A.5B4.html Re: [爆卦] 立院提案讓中國製品以台灣製出口\n",
      "https://www.ptt.cc/bbs/Gossiping/M.1555665102.A.52D.html Re: [新聞] 澄清假消息 政院有意創PTT「政府說明板」\n",
      "https://www.ptt.cc/bbs/Gossiping/M.1555665132.A.298.html Re: [新聞] 澄清假消息 政院有意創PTT「政府說明板」\n",
      "https://www.ptt.cc/bbs/Gossiping/M.1555665202.A.9AD.html [新聞] 長榮航空協商破局 空服員工會確定5月發\n",
      "https://www.ptt.cc/bbs/Gossiping/M.1555665236.A.B0F.html Re: [問卦]被通識課認識的女同學恐嚇該怎麼辦？\n",
      "https://www.ptt.cc/bbs/Gossiping/M.1555665265.A.974.html [新聞] 波士頓馬拉松驚爆舞弊！90名中國選手造\n",
      "https://www.ptt.cc/bbs/Gossiping/M.1550749445.A.B40.html [公告] 八卦板板規(2019.02.21)\n",
      "https://www.ptt.cc/bbs/Gossiping/M.1555516941.A.FE5.html [公告] 版規的政問定義即將追加設定．\n",
      "https://www.ptt.cc/bbs/Gossiping/M.1554085856.A.7DF.html [公告] 四月份置底閒聊區^Q^\n",
      "https://www.ptt.cc/bbs/Gossiping/M.1555568610.A.1A5.html [公告] 地震災害回報輿情區\n",
      "https://www.ptt.cc/bbs/Gossiping/M.1555664512.A.065.html [問卦] 七坐八爬九發牙是不是過時了\n",
      "https://www.ptt.cc/bbs/Gossiping/M.1555664557.A.7A5.html [臉書] 朱學恆\n",
      "https://www.ptt.cc/bbs/Gossiping/M.1555664558.A.03C.html [問卦] 說不痛苦那是假的 畢竟我的心也是肉做的\n",
      "https://www.ptt.cc/bbs/Gossiping/M.1555664639.A.DA3.html Re: [新聞] 澄清假消息 政院有意創PTT「政府說明板」\n",
      "https://www.ptt.cc/bbs/Gossiping/M.1555664666.A.0C4.html Re: [新聞] 澄清假消息 政院有意創PTT「政府說明\n",
      "https://www.ptt.cc/bbs/Gossiping/M.1555664674.A.5BE.html Re: [問卦] 說不痛苦那是假的 畢竟我的心也是肉做的\n",
      "https://www.ptt.cc/bbs/Gossiping/M.1555664677.A.A7E.html Re: [問卦] 幹雨傘的人在想什麼？\n",
      "https://www.ptt.cc/bbs/Gossiping/M.1555664712.A.2EE.html [問卦] 你沒有獎品？\n",
      "https://www.ptt.cc/bbs/Gossiping/M.1555664736.A.635.html Re: [問卦] 八卦板黨工最近怎都不見了啊??\n",
      "https://www.ptt.cc/bbs/Gossiping/M.1555664751.A.404.html Re: [問卦]希望被一個用戰車碾人統治的人是智障嗎？\n",
      "https://www.ptt.cc/bbs/Gossiping/M.1555664786.A.29B.html [新聞] 駁蔡英文 賴清德：脫黨競選才會分裂\n",
      "https://www.ptt.cc/bbs/Gossiping/M.1555664809.A.774.html [問卦] 保存血液的方法\n",
      "https://www.ptt.cc/bbs/Gossiping/M.1555664817.A.FAD.html Re: [爆卦] 立院提案讓中國製品以台灣製出口\n",
      "https://www.ptt.cc/bbs/Gossiping/M.1555664819.A.609.html Re: [新聞]「本里拒絕餵食野貓野狗」高雄林華里立布條引網友論戰\n",
      "https://www.ptt.cc/bbs/Gossiping/M.1555664825.A.693.html Re: [新聞] 美魔女講電話袖口洞開！引來鹹豬手搓揉\n",
      "https://www.ptt.cc/bbs/Gossiping/M.1555664863.A.1B7.html Re: [新聞] 澄清假消息 政院有意創PTT「政府說明板」\n",
      "https://www.ptt.cc/bbs/Gossiping/M.1555664895.A.3DC.html Re: [新聞] 澄清假消息 政院有意創PTT「政府說明板」\n",
      "https://www.ptt.cc/bbs/Gossiping/M.1555664914.A.38A.html [問卦] 打高爾夫打到翻帳篷== 有卦嗎？\n",
      "https://www.ptt.cc/bbs/Gossiping/M.1555664924.A.4E2.html [問卦] 驚天大問卦！\n",
      "https://www.ptt.cc/bbs/Gossiping/M.1555664117.A.983.html Re: [新聞] 蔡總統質疑中國干預台灣選舉 賴清德：沒\n",
      "https://www.ptt.cc/bbs/Gossiping/M.1555664132.A.B92.html [新聞] 愛滋病能救人？ HIV病毒令「氣泡男孩」重\n",
      "https://www.ptt.cc/bbs/Gossiping/M.1555664134.A.A8A.html [新聞] 古籍也犯政治錯誤 中共撤銷老子今譯研究\n",
      "https://www.ptt.cc/bbs/Gossiping/M.1555664137.A.944.html [新聞] 畫面曝光！才剛走出公司3步.他遭貨車撞飛\n",
      "https://www.ptt.cc/bbs/Gossiping/M.1555664153.A.C9C.html [問卦] 為何不強制肥宅去做縮胃手術\n",
      "https://www.ptt.cc/bbs/Gossiping/M.1555664156.A.C5A.html [問卦] 誰當台灣總統都能跟美國關係不錯吧\n",
      "https://www.ptt.cc/bbs/Gossiping/M.1555664159.A.A9B.html [問卦] 陌生女孩開車載我回家\n",
      "https://www.ptt.cc/bbs/Gossiping/M.1555664189.A.EFB.html Re: [新聞] 澄清假消息 政院有意創PTT「政府說明板」\n",
      "https://www.ptt.cc/bbs/Gossiping/M.1555664190.A.589.html [問卦] 為什麼鳴人沒什麼親戚？\n",
      "https://www.ptt.cc/bbs/Gossiping/M.1555664263.A.7C8.html [問卦]希望被一個用戰車碾人統治的人是智障嗎？\n",
      "https://www.ptt.cc/bbs/Gossiping/M.1555664301.A.791.html [新聞] 蔡英文：民調我不會輸但黨會分裂\n",
      "https://www.ptt.cc/bbs/Gossiping/M.1555664334.A.BA8.html Re: [問卦] 日本人為什麼不愛移民？\n",
      "https://www.ptt.cc/bbs/Gossiping/M.1555664335.A.2A1.html Re: [問卦] 論吃台南是不是無敵？\n",
      "https://www.ptt.cc/bbs/Gossiping/M.1555664350.A.162.html [問卦] 日本AV產業是不是很佛心？\n",
      "https://www.ptt.cc/bbs/Gossiping/M.1555664370.A.9E8.html Re: [新聞] 澄清假消息 政院有意創PTT「政府說明板」\n",
      "https://www.ptt.cc/bbs/Gossiping/M.1555664435.A.2DA.html Re: [新聞] 民進黨初選 蔡英文：若用民調黨一定會分\n",
      "https://www.ptt.cc/bbs/Gossiping/M.1555664439.A.86F.html [問卦] 學弟現在要去排華為P30 pro的排隊禮 \n",
      "https://www.ptt.cc/bbs/Gossiping/M.1555664488.A.544.html [問卦] 這種造型叫什麼><（小穹陣線）\n",
      "https://www.ptt.cc/bbs/Gossiping/M.1555664491.A.A7E.html [問卦] 股票買就跌沒買就漲？？\n",
      "https://www.ptt.cc/bbs/Gossiping/M.1555664511.A.5E8.html [新聞] 連拜兩間媽祖廟尋求指示? 蔡英文笑而不答\n",
      "https://www.ptt.cc/bbs/Gossiping/M.1555663578.A.A9B.html Re: [新聞] 澄清假消息 政院有意創PTT「政府說明板」\n",
      "https://www.ptt.cc/bbs/Gossiping/M.1555663597.A.741.html [問卦] 不在台大唸台大會有台大生的感覺嗎?\n",
      "https://www.ptt.cc/bbs/Gossiping/M.1555663612.A.88F.html [問卦] 太子太廢但手下更爛該怎辦\n",
      "https://www.ptt.cc/bbs/Gossiping/M.1555663667.A.56D.html [問卦] 什麼樣的男人在事業發達後不會玩鮑魚\n",
      "https://www.ptt.cc/bbs/Gossiping/M.1555663672.A.67C.html Re: [問卦] 現在移民移到哪國有搞頭？\n",
      "https://www.ptt.cc/bbs/Gossiping/M.1555663691.A.11B.html Re: [問卦] 念台大是什麼感覺?\n",
      "https://www.ptt.cc/bbs/Gossiping/M.1555663692.A.55B.html [問卦] 感覺快發燒了:((\n",
      "https://www.ptt.cc/bbs/Gossiping/M.1555663758.A.DC8.html [新聞] 花錢討好人民會很好選 蔡英文：當總統不\n",
      "https://www.ptt.cc/bbs/Gossiping/M.1555663761.A.B23.html [問卦] 什麼人從事直銷成功率最高？\n",
      "https://www.ptt.cc/bbs/Gossiping/M.1555663775.A.D43.html [爆卦] 立院提案讓中國製品以台灣製出口\n",
      "https://www.ptt.cc/bbs/Gossiping/M.1555663779.A.D7D.html [問卦] 泳池裡其實無法勃起吧\n",
      "https://www.ptt.cc/bbs/Gossiping/M.1555663801.A.2C2.html [問卦]被通識課認識的女同學恐嚇該怎麼辦？\n",
      "https://www.ptt.cc/bbs/Gossiping/M.1555663812.A.F99.html [問卦] 如果最後郭董初選沒過怎辦？\n",
      "https://www.ptt.cc/bbs/Gossiping/M.1555663818.A.931.html Re: [新聞] 澄清假消息 政院有意創PTT「政府說明板」\n",
      "https://www.ptt.cc/bbs/Gossiping/M.1555663929.A.AD8.html [問卦] 有沒有叉燒包的八卦？\n",
      "https://www.ptt.cc/bbs/Gossiping/M.1555663934.A.195.html [問卦] 幹雨傘的人在想什麼？\n",
      "https://www.ptt.cc/bbs/Gossiping/M.1555663998.A.135.html [新聞] 《政經》傳收攤　本土社團籲：打電話到NC\n",
      "https://www.ptt.cc/bbs/Gossiping/M.1555664063.A.6E0.html Re: [問卦] 幹雨傘的人在想什麼？\n",
      "https://www.ptt.cc/bbs/Gossiping/M.1555664094.A.828.html Re: [新聞] 澄清假消息 政院有意創PTT「政府說明板」\n",
      "https://www.ptt.cc/bbs/Gossiping/M.1555664108.A.9DD.html [問卦] 菜排下部隊有多慘？\n",
      "https://www.ptt.cc/bbs/Gossiping/M.1555663023.A.FDF.html [問卦] 有沒有肉包的八卦???\n",
      "https://www.ptt.cc/bbs/Gossiping/M.1555663043.A.C8D.html [問卦] 綠豆沙是何時開始沒落?\n",
      "https://www.ptt.cc/bbs/Gossiping/M.1555663116.A.E4E.html [問卦] 論吃台南是不是無敵？\n",
      "https://www.ptt.cc/bbs/Gossiping/M.1555663192.A.49F.html [問卦] 上班看一天記事本的八卦\n",
      "https://www.ptt.cc/bbs/Gossiping/M.1555663193.A.13A.html [問卦] 政府是不是該宣導跟醜男女做愛\n",
      "https://www.ptt.cc/bbs/Gossiping/M.1555663209.A.C23.html [新聞] 沒遶境卻被托夢 郭台銘與媽祖前世之緣\n",
      "https://www.ptt.cc/bbs/Gossiping/M.1555663212.A.587.html [新聞] 許志安爆遭仙人跳？小三傳花40萬設局疑點\n",
      "https://www.ptt.cc/bbs/Gossiping/M.1555663216.A.1CE.html Re: [新聞] 澄清假消息 政院有意創PTT「政府說明板」\n",
      "https://www.ptt.cc/bbs/Gossiping/M.1555663268.A.878.html [新聞] 日本通過愛奴新法 明訂為原住民族並禁止\n",
      "https://www.ptt.cc/bbs/Gossiping/M.1555663306.A.DC0.html [問卦] 有沒有賣照片的卦啊？？\n",
      "https://www.ptt.cc/bbs/Gossiping/M.1555663360.A.C5E.html Re: [新聞] 爺爺軍營橫著走孫不信　軍階一報網跪：\n",
      "https://www.ptt.cc/bbs/Gossiping/M.1555663420.A.D8E.html [新聞] 清除路邊停車格久停欠費車　新北交通局將\n",
      "https://www.ptt.cc/bbs/Gossiping/M.1555663426.A.812.html [問卦] 要怎麼認識每天在捷運上遇到的JK?\n",
      "https://www.ptt.cc/bbs/Gossiping/M.1555663470.A.AF1.html [問卦] 台灣人存點錢不買房子是不是很痛苦??\n",
      "https://www.ptt.cc/bbs/Gossiping/M.1555663479.A.77F.html Re: [新聞] 民進黨初選 蔡英文：若用民調黨一定會分\n",
      "https://www.ptt.cc/bbs/Gossiping/M.1555663495.A.ECC.html Re: [新聞] 蔡總統質疑中國干預台灣選舉 賴清德：沒\n",
      "https://www.ptt.cc/bbs/Gossiping/M.1555663534.A.4C9.html Re: [新聞] 綠營議員為雙城痛批混蛋　柯文哲嗆：把\n",
      "https://www.ptt.cc/bbs/Gossiping/M.1555663560.A.6E1.html [問卦] 被雨淋濕的制服妹？\n",
      "https://www.ptt.cc/bbs/Gossiping/M.1555662478.A.BB6.html Re: [新聞] 澄清假消息 政院有意創PTT「政府說明板」\n",
      "https://www.ptt.cc/bbs/Gossiping/M.1555662484.A.59D.html Re: [新聞] 回應吳敦義徵召初選說法　韓國瑜：需顧\n",
      "https://www.ptt.cc/bbs/Gossiping/M.1555662485.A.7E7.html [問卦] 乘客一直問電話在哪裡的八卦??\n",
      "https://www.ptt.cc/bbs/Gossiping/M.1555662505.A.77F.html Re: [新聞] 一下韓國瑜、一下郭台銘 蔡英文：不信中\n",
      "https://www.ptt.cc/bbs/Gossiping/M.1555662574.A.948.html Re: [問卦] 捷運到站時為何不顯示自己在哪一站\n",
      "https://www.ptt.cc/bbs/Gossiping/M.1555662594.A.E86.html Re: [新聞] 回應蔡總統 賴清德：初選不可怕\n",
      "https://www.ptt.cc/bbs/Gossiping/M.1555662637.A.FA2.html Re: [問卦] 捷運到站時為何不顯示自己在哪一站\n",
      "https://www.ptt.cc/bbs/Gossiping/M.1555662675.A.8AA.html Re: [新聞] 澄清假消息 政院有意創PTT「政府說明板」\n",
      "https://www.ptt.cc/bbs/Gossiping/M.1555662699.A.93E.html Re: [新聞] 澄清假消息 政院有意創PTT「政府說明板」\n",
      "https://www.ptt.cc/bbs/Gossiping/M.1555662802.A.76A.html [問卦] 在中國舉行支持度民調，習近平會輸嗎？\n",
      "https://www.ptt.cc/bbs/Gossiping/M.1555662810.A.961.html [問卦] 唱歌唱到一半 被人卡歌插隊搶去唱 怎麼辦\n",
      "https://www.ptt.cc/bbs/Gossiping/M.1555662871.A.CA8.html [新聞] 魚刺卡喉嚨她狂挖　卻把13公分湯匙吞下肚\n",
      "https://www.ptt.cc/bbs/Gossiping/M.1555662872.A.C05.html Re: [新聞] 一下韓國瑜、一下郭台銘 蔡英文：不信中\n",
      "https://www.ptt.cc/bbs/Gossiping/M.1555662889.A.0F6.html [問卦] 28歲發現自己像狗屎該怎摸辦\n",
      "https://www.ptt.cc/bbs/Gossiping/M.1555662894.A.71D.html Re: [新聞] 澄清假消息 政院有意創PTT「政府說明板」\n",
      "https://www.ptt.cc/bbs/Gossiping/M.1555662919.A.56E.html [問卦] ptt幾年後會死掉？\n",
      "https://www.ptt.cc/bbs/Gossiping/M.1555662920.A.E94.html [問卦] 坐我旁邊的女生硬要親我兼抓屌，怎解？\n",
      "https://www.ptt.cc/bbs/Gossiping/M.1555662927.A.BE7.html [問卦] 台灣司法是不是沒救了\n",
      "https://www.ptt.cc/bbs/Gossiping/M.1555661860.A.9D4.html [問卦] 有沒有阿姨劉仲敬的八卦？\n",
      "https://www.ptt.cc/bbs/Gossiping/M.1555661864.A.AFF.html [問卦] 警察在快車道叫你吹\n",
      "https://www.ptt.cc/bbs/Gossiping/M.1555661885.A.F19.html [新聞] 爺爺軍營橫著走孫不信　軍階一報網跪：\n",
      "https://www.ptt.cc/bbs/Gossiping/M.1555661920.A.A80.html Re: [問卦] 捷運到站時為何不顯示自己在哪一站\n",
      "https://www.ptt.cc/bbs/Gossiping/M.1555661960.A.6EA.html [臉書] 郭新政\n",
      "https://www.ptt.cc/bbs/Gossiping/M.1555661974.A.747.html [新聞] 插旗信義區！首爾必吃超夯美食「新村站\n",
      "https://www.ptt.cc/bbs/Gossiping/M.1555662027.A.A7C.html [問卦] 給優格當總統484才是最好的\n",
      "https://www.ptt.cc/bbs/Gossiping/M.1555662031.A.3A4.html [新聞] 蔡總統質疑中國干預台灣選舉 賴清德：沒\n",
      "https://www.ptt.cc/bbs/Gossiping/M.1555662064.A.B65.html [問卦] 住高雄的鄉民  今晚吃甚麼?\n",
      "https://www.ptt.cc/bbs/Gossiping/M.1555662082.A.392.html Re: [問卦] 復仇者聯盟4 要怎麼避開散場人潮的爆雷\n",
      "https://www.ptt.cc/bbs/Gossiping/M.1555662109.A.86C.html [問卦] 有沒有說要單挑館長不會輸\n",
      "https://www.ptt.cc/bbs/Gossiping/M.1555662110.A.CB0.html [問卦] 森人是想和哥殺陪她做愛的冒險嗎？\n",
      "https://www.ptt.cc/bbs/Gossiping/M.1555662134.A.720.html Re: [問卦] 念中二中是什麼感覺?\n",
      "https://www.ptt.cc/bbs/Gossiping/M.1555662187.A.F44.html [新聞] 澄清假消息 政院有意創PTT「政府說明板」\n",
      "https://www.ptt.cc/bbs/Gossiping/M.1555662253.A.294.html [問卦] 小精靈做了什麼讓我滿身汗☺  \n",
      "https://www.ptt.cc/bbs/Gossiping/M.1555662291.A.27E.html Re: [新聞] 蔡英文避談初選 談民調：我不會輸但若民\n",
      "https://www.ptt.cc/bbs/Gossiping/M.1555662350.A.617.html Re: [問卦] 64坦克人到底有沒有被車過去？\n",
      "https://www.ptt.cc/bbs/Gossiping/M.1555662374.A.5AD.html [問卦] 念台大是什麼感覺?\n",
      "https://www.ptt.cc/bbs/Gossiping/M.1555662376.A.256.html [新聞]台灣新聞自由排亞洲第二但中資媒體受北京\n",
      "https://www.ptt.cc/bbs/Gossiping/M.1555662392.A.538.html [問卦] 女友要傳閨密裸照給我 該怎麼拒絕\n",
      "https://www.ptt.cc/bbs/Gossiping/M.1555661410.A.622.html [新聞] 【武統台灣】北京模型交流賽　作品「台北\n",
      "https://www.ptt.cc/bbs/Gossiping/M.1555661423.A.23A.html [問卦] 有沒有維他命棒的八卦\n",
      "https://www.ptt.cc/bbs/Gossiping/M.1555661451.A.D45.html Re: [新聞] 回應蔡總統 賴清德：初選不可怕\n",
      "https://www.ptt.cc/bbs/Gossiping/M.1555661460.A.916.html Re: [新聞] 蔡英文稱「民調造成黨分裂」　賴清德：\n",
      "https://www.ptt.cc/bbs/Gossiping/M.1555661480.A.C43.html [新聞] 蔡英文喊話：賴清德放下堅持 我們合作會\n",
      "https://www.ptt.cc/bbs/Gossiping/M.1555661501.A.493.html Re: [爆卦] 楊秋興義大國賠案敗訴確定!!判決書來啦!!\n",
      "https://www.ptt.cc/bbs/Gossiping/M.1555661519.A.F4C.html [問卦] 柯批為何自詡白色力量？\n",
      "https://www.ptt.cc/bbs/Gossiping/M.1555661625.A.A76.html Re: [爆卦] 蔡英文 澄清初選相關事項\n",
      "https://www.ptt.cc/bbs/Gossiping/M.1555661662.A.BE2.html [問卦] 光為什麼不直直走\n",
      "https://www.ptt.cc/bbs/Gossiping/M.1555661674.A.D89.html Re: [爆卦] 蔡英文 澄清初選相關事項\n",
      "https://www.ptt.cc/bbs/Gossiping/M.1555661695.A.4FE.html Re: [新聞] 回應蔡總統 賴清德：初選不可怕\n",
      "https://www.ptt.cc/bbs/Gossiping/M.1555661726.A.2BF.html Re: [爆卦] 楊秋興義大國賠案敗訴確定!!判決書來啦!!\n",
      "https://www.ptt.cc/bbs/Gossiping/M.1555661745.A.FA3.html [新聞] 吳敦義：徵召韓國瑜參加初選 比較公道\n",
      "https://www.ptt.cc/bbs/Gossiping/M.1555661745.A.C77.html [新聞] 回應吳敦義徵召初選說法　韓國瑜：需顧\n",
      "https://www.ptt.cc/bbs/Gossiping/M.1555661800.A.D12.html [問卦] 復仇者聯盟4 要怎麼避開散場人潮的爆雷\n",
      "https://www.ptt.cc/bbs/Gossiping/M.1555661801.A.3FD.html [問卦]  苗栗餐廳\n",
      "https://www.ptt.cc/bbs/Gossiping/M.1555661816.A.241.html Re: [問卦] 64坦克人到底有沒有被車過去？\n",
      "https://www.ptt.cc/bbs/Gossiping/M.1555661825.A.344.html Re: [臉書] NONO辜菀允最新回覆\n",
      "https://www.ptt.cc/bbs/Gossiping/M.1555661838.A.300.html Re: [問卦] 真的有人會射在螢幕上嗎\n",
      "https://www.ptt.cc/bbs/Gossiping/M.1555661845.A.DD6.html Re: [問卦] 世紀帝國II的海軍是不是很廢\n",
      "https://www.ptt.cc/bbs/Gossiping/M.1555660768.A.78E.html [問卦] 新北市高中職有哪間是深藍色運動外套\n",
      "https://www.ptt.cc/bbs/Gossiping/M.1555660812.A.41C.html [問卦] 下大雨要叫什麼外賣吃好?\n",
      "https://www.ptt.cc/bbs/Gossiping/M.1555660909.A.8B6.html [爆卦] 蔡英文 澄清初選相關事項\n",
      "https://www.ptt.cc/bbs/Gossiping/M.1555660933.A.6B8.html [新聞] 賴清德：初選並不可怕\n",
      "https://www.ptt.cc/bbs/Gossiping/M.1555660965.A.4E0.html Re: [問卦] 64坦克人到底有沒有被車過去？\n",
      "https://www.ptt.cc/bbs/Gossiping/M.1555660968.A.8B6.html [新聞] 議員批促統靠中國 盧秀燕:我熱愛中華民國\n",
      "https://www.ptt.cc/bbs/Gossiping/M.1555660976.A.9E7.html [問卦] 所以陳奕迅打敗薩諾斯了嗎？\n",
      "https://www.ptt.cc/bbs/Gossiping/M.1555660996.A.439.html [問卦] 欸欸為什麼大部分國家都要吃長米?\n",
      "https://www.ptt.cc/bbs/Gossiping/M.1555661051.A.6DC.html [新聞] 蔡英文稱「民調造成黨分裂」　賴清德：\n",
      "https://www.ptt.cc/bbs/Gossiping/M.1555661067.A.F17.html Re: [問卦] 念中二中是什麼感覺?\n",
      "https://www.ptt.cc/bbs/Gossiping/M.1555661075.A.9C3.html [問卦] 斜槓XX 斜槓OO？\n",
      "https://www.ptt.cc/bbs/Gossiping/M.1555661088.A.5F9.html [新聞] 傳閨密裸體給男友看太荒謬！她曝2關鍵質\n",
      "https://www.ptt.cc/bbs/Gossiping/M.1555661138.A.78E.html [問卦] 高雄12小時夜班做3休1作業員領多少才ok?\n",
      "https://www.ptt.cc/bbs/Gossiping/M.1555661180.A.3A9.html [新聞] 辜莞允貼8聲明強調「沒露點照」　鮪魚經\n",
      "https://www.ptt.cc/bbs/Gossiping/M.1555661274.A.E53.html [問卦] 真的有人會射在螢幕上嗎\n",
      "https://www.ptt.cc/bbs/Gossiping/M.1555661304.A.EE7.html [問卦] 國光客運為毛有股怪味\n",
      "https://www.ptt.cc/bbs/Gossiping/M.1555661335.A.543.html [問卦] 有沒有小男孩樂團的八卦\n",
      "https://www.ptt.cc/bbs/Gossiping/M.1555661341.A.506.html [爆卦] 日本池袋 87歲老翁開車撞10位路人\n",
      "https://www.ptt.cc/bbs/Gossiping/M.1555661357.A.44F.html [臉書] 范世平\n",
      "https://www.ptt.cc/bbs/Gossiping/M.1555661374.A.2C0.html [問卦] APPLE 是不是即將壟斷CPU市場?\n",
      "https://www.ptt.cc/bbs/Gossiping/M.1555660328.A.AA3.html [問卦] 會噓自由心證的都是什麼人？\n",
      "https://www.ptt.cc/bbs/Gossiping/M.1555660328.A.6B7.html [問卦] 被消失 vs. 自我了斷 都擠?\n",
      "https://www.ptt.cc/bbs/Gossiping/M.1555660376.A.4B6.html Re: [問卦] 高雄下大雨啦\n",
      "https://www.ptt.cc/bbs/Gossiping/M.1555660388.A.557.html [新聞] 提倡日本版「台灣關係法」 日議員：台灣\n",
      "https://www.ptt.cc/bbs/Gossiping/M.1555660413.A.EDB.html [新聞] 蔡英文：其實民調我不會輸，但民調下去\n",
      "https://www.ptt.cc/bbs/Gossiping/M.1555660480.A.809.html Re: [臉書] NONO辜菀允最新回覆\n",
      "https://www.ptt.cc/bbs/Gossiping/M.1555660491.A.D42.html [問卦] 第四台這麼多垃圾還要看？\n",
      "https://www.ptt.cc/bbs/Gossiping/M.1555660513.A.E6F.html Re: [新聞] 蔡英文避談初選 談民調：我不會輸但若民\n",
      "https://www.ptt.cc/bbs/Gossiping/M.1555660516.A.C57.html [問卦] 有沒有低能用語的八卦？\n",
      "https://www.ptt.cc/bbs/Gossiping/M.1555660528.A.4F4.html [爆卦] 香港愛國黑社會被中國割韭菜查封近50億資\n",
      "https://www.ptt.cc/bbs/Gossiping/M.1555660556.A.EF1.html Re: [新聞] 2020年再驚豔！《紫羅蘭永恆花園》劇場版\n",
      "https://www.ptt.cc/bbs/Gossiping/M.1555660557.A.980.html [新聞] 營運不理想 全聯：雙北4藥局門市明起全數歇業\n",
      "https://www.ptt.cc/bbs/Gossiping/M.1555660566.A.6B0.html Re: [問卦] 有沒有晴天娃娃的八卦？\n",
      "https://www.ptt.cc/bbs/Gossiping/M.1555660597.A.B7C.html [問卦] 餐廳禁止小孩但沒禁狗是什麼概念\n",
      "https://www.ptt.cc/bbs/Gossiping/M.1555660631.A.3F4.html Re: [新聞] 總絩府澄清：蔡沒說過不能民調 她的意思\n",
      "https://www.ptt.cc/bbs/Gossiping/M.1555660641.A.C21.html [問卦] 是不是要下大雨了？%@$ꔦ#%\\*\n",
      "https://www.ptt.cc/bbs/Gossiping/M.1555660657.A.75F.html [問卦] 如果你是五樓\n",
      "https://www.ptt.cc/bbs/Gossiping/M.1555660670.A.E84.html Re: [問卦] 不能政問但能貼政治人物FB?\n",
      "https://www.ptt.cc/bbs/Gossiping/M.1555660697.A.612.html [新聞] 回應蔡總統 賴清德：初選不可怕\n",
      "https://www.ptt.cc/bbs/Gossiping/M.1555660700.A.899.html Re: [問卦] 我們的世界有可能下一秒消失嗎？\n"
     ]
    }
   ],
   "source": [
    "import urllib3\n",
    "urllib3.disable_warnings()\n",
    "\n",
    "def readPage(url):\n",
    "    result = rs.get(host+url,verify=False)\n",
    "    print('讀取文章: ', url)\n",
    "    soup = BeautifulSoup(result.text, 'lxml')\n",
    "    selector = \"div.title a\"\n",
    "    tags = soup.select(selector)\n",
    "    for tag in tags:\n",
    "        #print(tag.text, host+tag['href'])\n",
    "        #titles.append(tag.text)\n",
    "        titles[host+tag['href']] = tag.text\n",
    "\n",
    "url = '/bbs/Gossiping/index.html'\n",
    "\n",
    "titles = {}\n",
    "for i in range(10):\n",
    "    readPage(url)\n",
    "    result = rs.get(host+url,verify=False)\n",
    "    soup = BeautifulSoup(result.text, 'lxml')\n",
    "    selector = \"div[class='btn-group btn-group-paging'] a\"\n",
    "    tags = soup.select(selector)\n",
    "    url = tags[1]['href']\n",
    "    \n",
    "for k,v in titles.items():\n",
    "    print(k, v)"
   ]
  },
  {
   "cell_type": "markdown",
   "metadata": {},
   "source": [
    "# 抓取表特版內的圖片"
   ]
  },
  {
   "cell_type": "code",
   "execution_count": 1,
   "metadata": {
    "scrolled": true
   },
   "outputs": [
    {
     "name": "stdout",
     "output_type": "stream",
     "text": [
      "開始讀取頁面: https://www.ptt.cc/bbs/Beauty/index.html\n",
      "https://www.ptt.cc/bbs/Beauty/M.1555696911.A.01E.html [帥哥] 巨乳\n",
      "https://i.imgur.com/3uRUlui.jpg\n",
      "[帥哥] 巨乳 https://i.imgur.com/3uRUlui.jpg\n"
     ]
    },
    {
     "data": {
      "text/html": [
       "<img src=\"https://i.imgur.com/3uRUlui.jpg\"/>"
      ],
      "text/plain": [
       "<IPython.core.display.Image object>"
      ]
     },
     "metadata": {},
     "output_type": "display_data"
    },
    {
     "name": "stdout",
     "output_type": "stream",
     "text": [
      "https://www.ptt.cc/bbs/Beauty/M.1555698460.A.EBD.html [正妹] 性感蛇姬\n",
      "https://i.imgur.com/l0esPhY.jpg\n",
      "[正妹] 性感蛇姬 https://i.imgur.com/l0esPhY.jpg\n"
     ]
    },
    {
     "data": {
      "text/html": [
       "<img src=\"https://i.imgur.com/l0esPhY.jpg\"/>"
      ],
      "text/plain": [
       "<IPython.core.display.Image object>"
      ]
     },
     "metadata": {},
     "output_type": "display_data"
    },
    {
     "name": "stdout",
     "output_type": "stream",
     "text": [
      "https://www.ptt.cc/bbs/Beauty/M.1555700528.A.64C.html [正妹] 噓我美波試試看啊\n",
      "https://i.imgur.com/fST3fXc.jpg\n",
      "[正妹] 噓我美波試試看啊 https://i.imgur.com/fST3fXc.jpg\n"
     ]
    },
    {
     "data": {
      "text/html": [
       "<img src=\"https://i.imgur.com/fST3fXc.jpg\"/>"
      ],
      "text/plain": [
       "<IPython.core.display.Image object>"
      ]
     },
     "metadata": {},
     "output_type": "display_data"
    },
    {
     "name": "stdout",
     "output_type": "stream",
     "text": [
      "https://www.ptt.cc/bbs/Beauty/M.1555703040.A.81E.html [正妹]  三個火辣翹臀\n",
      "https://imgur.com/a.jpg\n",
      "[正妹]  三個火辣翹臀 https://imgur.com/a.jpg\n"
     ]
    },
    {
     "data": {
      "text/html": [
       "<img src=\"https://imgur.com/a.jpg\"/>"
      ],
      "text/plain": [
       "<IPython.core.display.Image object>"
      ]
     },
     "metadata": {},
     "output_type": "display_data"
    },
    {
     "name": "stdout",
     "output_type": "stream",
     "text": [
      "https://www.ptt.cc/bbs/Beauty/M.1555706112.A.3E5.html [帥哥] 不男不女的霸氣同性戀總統\n",
      "https://i.imgur.com/WQ9zCHK.jpg https://i.imgur.com/79yCZJ7.jpg https://i.imgur.com/6VJaoAo.jpg https://i.imgur.com/IHqSYLW.jpg\n",
      "[帥哥] 不男不女的霸氣同性戀總統 https://i.imgur.com/WQ9zCHK.jpg\n"
     ]
    },
    {
     "data": {
      "text/html": [
       "<img src=\"https://i.imgur.com/WQ9zCHK.jpg\"/>"
      ],
      "text/plain": [
       "<IPython.core.display.Image object>"
      ]
     },
     "metadata": {},
     "output_type": "display_data"
    },
    {
     "name": "stdout",
     "output_type": "stream",
     "text": [
      "[帥哥] 不男不女的霸氣同性戀總統 https://i.imgur.com/79yCZJ7.jpg\n"
     ]
    },
    {
     "data": {
      "text/html": [
       "<img src=\"https://i.imgur.com/79yCZJ7.jpg\"/>"
      ],
      "text/plain": [
       "<IPython.core.display.Image object>"
      ]
     },
     "metadata": {},
     "output_type": "display_data"
    },
    {
     "name": "stdout",
     "output_type": "stream",
     "text": [
      "[帥哥] 不男不女的霸氣同性戀總統 https://i.imgur.com/6VJaoAo.jpg\n"
     ]
    },
    {
     "data": {
      "text/html": [
       "<img src=\"https://i.imgur.com/6VJaoAo.jpg\"/>"
      ],
      "text/plain": [
       "<IPython.core.display.Image object>"
      ]
     },
     "metadata": {},
     "output_type": "display_data"
    },
    {
     "name": "stdout",
     "output_type": "stream",
     "text": [
      "[帥哥] 不男不女的霸氣同性戀總統 https://i.imgur.com/IHqSYLW.jpg\n"
     ]
    },
    {
     "data": {
      "text/html": [
       "<img src=\"https://i.imgur.com/IHqSYLW.jpg\"/>"
      ],
      "text/plain": [
       "<IPython.core.display.Image object>"
      ]
     },
     "metadata": {},
     "output_type": "display_data"
    },
    {
     "name": "stdout",
     "output_type": "stream",
     "text": [
      "https://www.ptt.cc/bbs/Beauty/M.1555708355.A.0F3.html [討論] 板主GeminiMan請問您何時要請辭下臺負責?\n",
      "https://i.imgur.com/A7GjchR.jpg https://i.imgur.com/KXGoCv4.jpg https://i.imgur.com/vlmOCO1.jpg https://i.imgur.com/s4U70Lx.jpg https://i.imgur.com/d0e4uQL.jpg https://i.imgur.com/SneDq1N.jpg https://i.imgur.com/Wf82u8Z.jpg https://i.imgur.com/LT2brUo.jpg https://i.imgur.com/XViC87x.jpg https://i.imgur.com/qK5wAMw.jpg https://i.imgur.com/7fSmRdz.jpg https://i.imgur.com/KnxHPr0.jpg https://i.imgur.com/12MUrVl.jpg https://i.imgur.com/F1ET0Ao.jpg https://i.imgur.com/UWAF8R7.jpg https://i.imgur.com/v4UEsvq.jpg https://i.imgur.com/nzHiFcc.jpg https://i.imgur.com/Qiu7NZI.jpg https://i.imgur.com/T2OTLdU.jpg https://i.imgur.com/XXdLeeA.jpg https://i.imgur.com/Ino013g.jpg https://i.imgur.com/sTWiwU7.jpg https://i.imgur.com/yuLZQmH.jpg https://i.imgur.com/F91qerq.jpg https://i.imgur.com/vgwWHUg.jpg https://i.imgur.com/S0B4o3X.jpg https://imgur.com/ccywZOf.jpg https://i.imgur.com/JxDkxbZ.jpg https://i.imgur.com/GTOIbdf.jpg https://i.imgur.com/FX7YLV3.jpg https://i.imgur.com/YQXTCEq.jpg https://i.imgur.com/QO0eZe9.jpg http://i.imgur.com/Rf2Blyk.jpg https://i.imgur.com/xRMlO6c.jpg https://i.imgur.com/t54gztF.jpg https://i.imgur.com/QV7FnDq.jpg\n",
      "[討論] 板主GeminiMan請問您何時要請辭下臺負責? https://i.imgur.com/A7GjchR.jpg\n"
     ]
    },
    {
     "data": {
      "text/html": [
       "<img src=\"https://i.imgur.com/A7GjchR.jpg\"/>"
      ],
      "text/plain": [
       "<IPython.core.display.Image object>"
      ]
     },
     "metadata": {},
     "output_type": "display_data"
    },
    {
     "name": "stdout",
     "output_type": "stream",
     "text": [
      "[討論] 板主GeminiMan請問您何時要請辭下臺負責? https://i.imgur.com/KXGoCv4.jpg\n"
     ]
    },
    {
     "data": {
      "text/html": [
       "<img src=\"https://i.imgur.com/KXGoCv4.jpg\"/>"
      ],
      "text/plain": [
       "<IPython.core.display.Image object>"
      ]
     },
     "metadata": {},
     "output_type": "display_data"
    },
    {
     "name": "stdout",
     "output_type": "stream",
     "text": [
      "[討論] 板主GeminiMan請問您何時要請辭下臺負責? https://i.imgur.com/vlmOCO1.jpg\n"
     ]
    },
    {
     "data": {
      "text/html": [
       "<img src=\"https://i.imgur.com/vlmOCO1.jpg\"/>"
      ],
      "text/plain": [
       "<IPython.core.display.Image object>"
      ]
     },
     "metadata": {},
     "output_type": "display_data"
    },
    {
     "name": "stdout",
     "output_type": "stream",
     "text": [
      "[討論] 板主GeminiMan請問您何時要請辭下臺負責? https://i.imgur.com/s4U70Lx.jpg\n"
     ]
    },
    {
     "data": {
      "text/html": [
       "<img src=\"https://i.imgur.com/s4U70Lx.jpg\"/>"
      ],
      "text/plain": [
       "<IPython.core.display.Image object>"
      ]
     },
     "metadata": {},
     "output_type": "display_data"
    },
    {
     "name": "stdout",
     "output_type": "stream",
     "text": [
      "[討論] 板主GeminiMan請問您何時要請辭下臺負責? https://i.imgur.com/d0e4uQL.jpg\n"
     ]
    },
    {
     "data": {
      "text/html": [
       "<img src=\"https://i.imgur.com/d0e4uQL.jpg\"/>"
      ],
      "text/plain": [
       "<IPython.core.display.Image object>"
      ]
     },
     "metadata": {},
     "output_type": "display_data"
    },
    {
     "name": "stdout",
     "output_type": "stream",
     "text": [
      "[討論] 板主GeminiMan請問您何時要請辭下臺負責? https://i.imgur.com/SneDq1N.jpg\n"
     ]
    },
    {
     "data": {
      "text/html": [
       "<img src=\"https://i.imgur.com/SneDq1N.jpg\"/>"
      ],
      "text/plain": [
       "<IPython.core.display.Image object>"
      ]
     },
     "metadata": {},
     "output_type": "display_data"
    },
    {
     "name": "stdout",
     "output_type": "stream",
     "text": [
      "[討論] 板主GeminiMan請問您何時要請辭下臺負責? https://i.imgur.com/Wf82u8Z.jpg\n"
     ]
    },
    {
     "data": {
      "text/html": [
       "<img src=\"https://i.imgur.com/Wf82u8Z.jpg\"/>"
      ],
      "text/plain": [
       "<IPython.core.display.Image object>"
      ]
     },
     "metadata": {},
     "output_type": "display_data"
    },
    {
     "name": "stdout",
     "output_type": "stream",
     "text": [
      "[討論] 板主GeminiMan請問您何時要請辭下臺負責? https://i.imgur.com/LT2brUo.jpg\n"
     ]
    },
    {
     "data": {
      "text/html": [
       "<img src=\"https://i.imgur.com/LT2brUo.jpg\"/>"
      ],
      "text/plain": [
       "<IPython.core.display.Image object>"
      ]
     },
     "metadata": {},
     "output_type": "display_data"
    },
    {
     "name": "stdout",
     "output_type": "stream",
     "text": [
      "[討論] 板主GeminiMan請問您何時要請辭下臺負責? https://i.imgur.com/XViC87x.jpg\n"
     ]
    },
    {
     "data": {
      "text/html": [
       "<img src=\"https://i.imgur.com/XViC87x.jpg\"/>"
      ],
      "text/plain": [
       "<IPython.core.display.Image object>"
      ]
     },
     "metadata": {},
     "output_type": "display_data"
    },
    {
     "name": "stdout",
     "output_type": "stream",
     "text": [
      "[討論] 板主GeminiMan請問您何時要請辭下臺負責? https://i.imgur.com/qK5wAMw.jpg\n"
     ]
    },
    {
     "data": {
      "text/html": [
       "<img src=\"https://i.imgur.com/qK5wAMw.jpg\"/>"
      ],
      "text/plain": [
       "<IPython.core.display.Image object>"
      ]
     },
     "metadata": {},
     "output_type": "display_data"
    },
    {
     "name": "stdout",
     "output_type": "stream",
     "text": [
      "[討論] 板主GeminiMan請問您何時要請辭下臺負責? https://i.imgur.com/7fSmRdz.jpg\n"
     ]
    },
    {
     "data": {
      "text/html": [
       "<img src=\"https://i.imgur.com/7fSmRdz.jpg\"/>"
      ],
      "text/plain": [
       "<IPython.core.display.Image object>"
      ]
     },
     "metadata": {},
     "output_type": "display_data"
    },
    {
     "name": "stdout",
     "output_type": "stream",
     "text": [
      "[討論] 板主GeminiMan請問您何時要請辭下臺負責? https://i.imgur.com/KnxHPr0.jpg\n"
     ]
    },
    {
     "data": {
      "text/html": [
       "<img src=\"https://i.imgur.com/KnxHPr0.jpg\"/>"
      ],
      "text/plain": [
       "<IPython.core.display.Image object>"
      ]
     },
     "metadata": {},
     "output_type": "display_data"
    },
    {
     "name": "stdout",
     "output_type": "stream",
     "text": [
      "[討論] 板主GeminiMan請問您何時要請辭下臺負責? https://i.imgur.com/12MUrVl.jpg\n"
     ]
    },
    {
     "data": {
      "text/html": [
       "<img src=\"https://i.imgur.com/12MUrVl.jpg\"/>"
      ],
      "text/plain": [
       "<IPython.core.display.Image object>"
      ]
     },
     "metadata": {},
     "output_type": "display_data"
    },
    {
     "name": "stdout",
     "output_type": "stream",
     "text": [
      "[討論] 板主GeminiMan請問您何時要請辭下臺負責? https://i.imgur.com/F1ET0Ao.jpg\n"
     ]
    },
    {
     "data": {
      "text/html": [
       "<img src=\"https://i.imgur.com/F1ET0Ao.jpg\"/>"
      ],
      "text/plain": [
       "<IPython.core.display.Image object>"
      ]
     },
     "metadata": {},
     "output_type": "display_data"
    },
    {
     "name": "stdout",
     "output_type": "stream",
     "text": [
      "[討論] 板主GeminiMan請問您何時要請辭下臺負責? https://i.imgur.com/UWAF8R7.jpg\n"
     ]
    },
    {
     "data": {
      "text/html": [
       "<img src=\"https://i.imgur.com/UWAF8R7.jpg\"/>"
      ],
      "text/plain": [
       "<IPython.core.display.Image object>"
      ]
     },
     "metadata": {},
     "output_type": "display_data"
    },
    {
     "name": "stdout",
     "output_type": "stream",
     "text": [
      "[討論] 板主GeminiMan請問您何時要請辭下臺負責? https://i.imgur.com/v4UEsvq.jpg\n"
     ]
    },
    {
     "data": {
      "text/html": [
       "<img src=\"https://i.imgur.com/v4UEsvq.jpg\"/>"
      ],
      "text/plain": [
       "<IPython.core.display.Image object>"
      ]
     },
     "metadata": {},
     "output_type": "display_data"
    },
    {
     "name": "stdout",
     "output_type": "stream",
     "text": [
      "[討論] 板主GeminiMan請問您何時要請辭下臺負責? https://i.imgur.com/nzHiFcc.jpg\n"
     ]
    },
    {
     "data": {
      "text/html": [
       "<img src=\"https://i.imgur.com/nzHiFcc.jpg\"/>"
      ],
      "text/plain": [
       "<IPython.core.display.Image object>"
      ]
     },
     "metadata": {},
     "output_type": "display_data"
    },
    {
     "name": "stdout",
     "output_type": "stream",
     "text": [
      "[討論] 板主GeminiMan請問您何時要請辭下臺負責? https://i.imgur.com/Qiu7NZI.jpg\n"
     ]
    },
    {
     "data": {
      "text/html": [
       "<img src=\"https://i.imgur.com/Qiu7NZI.jpg\"/>"
      ],
      "text/plain": [
       "<IPython.core.display.Image object>"
      ]
     },
     "metadata": {},
     "output_type": "display_data"
    },
    {
     "name": "stdout",
     "output_type": "stream",
     "text": [
      "[討論] 板主GeminiMan請問您何時要請辭下臺負責? https://i.imgur.com/T2OTLdU.jpg\n"
     ]
    },
    {
     "data": {
      "text/html": [
       "<img src=\"https://i.imgur.com/T2OTLdU.jpg\"/>"
      ],
      "text/plain": [
       "<IPython.core.display.Image object>"
      ]
     },
     "metadata": {},
     "output_type": "display_data"
    },
    {
     "name": "stdout",
     "output_type": "stream",
     "text": [
      "[討論] 板主GeminiMan請問您何時要請辭下臺負責? https://i.imgur.com/XXdLeeA.jpg\n"
     ]
    },
    {
     "data": {
      "text/html": [
       "<img src=\"https://i.imgur.com/XXdLeeA.jpg\"/>"
      ],
      "text/plain": [
       "<IPython.core.display.Image object>"
      ]
     },
     "metadata": {},
     "output_type": "display_data"
    },
    {
     "name": "stdout",
     "output_type": "stream",
     "text": [
      "[討論] 板主GeminiMan請問您何時要請辭下臺負責? https://i.imgur.com/Ino013g.jpg\n"
     ]
    },
    {
     "data": {
      "text/html": [
       "<img src=\"https://i.imgur.com/Ino013g.jpg\"/>"
      ],
      "text/plain": [
       "<IPython.core.display.Image object>"
      ]
     },
     "metadata": {},
     "output_type": "display_data"
    },
    {
     "name": "stdout",
     "output_type": "stream",
     "text": [
      "[討論] 板主GeminiMan請問您何時要請辭下臺負責? https://i.imgur.com/sTWiwU7.jpg\n"
     ]
    },
    {
     "data": {
      "text/html": [
       "<img src=\"https://i.imgur.com/sTWiwU7.jpg\"/>"
      ],
      "text/plain": [
       "<IPython.core.display.Image object>"
      ]
     },
     "metadata": {},
     "output_type": "display_data"
    },
    {
     "name": "stdout",
     "output_type": "stream",
     "text": [
      "[討論] 板主GeminiMan請問您何時要請辭下臺負責? https://i.imgur.com/yuLZQmH.jpg\n"
     ]
    },
    {
     "data": {
      "text/html": [
       "<img src=\"https://i.imgur.com/yuLZQmH.jpg\"/>"
      ],
      "text/plain": [
       "<IPython.core.display.Image object>"
      ]
     },
     "metadata": {},
     "output_type": "display_data"
    },
    {
     "name": "stdout",
     "output_type": "stream",
     "text": [
      "[討論] 板主GeminiMan請問您何時要請辭下臺負責? https://i.imgur.com/F91qerq.jpg\n"
     ]
    },
    {
     "data": {
      "text/html": [
       "<img src=\"https://i.imgur.com/F91qerq.jpg\"/>"
      ],
      "text/plain": [
       "<IPython.core.display.Image object>"
      ]
     },
     "metadata": {},
     "output_type": "display_data"
    },
    {
     "name": "stdout",
     "output_type": "stream",
     "text": [
      "[討論] 板主GeminiMan請問您何時要請辭下臺負責? https://i.imgur.com/vgwWHUg.jpg\n"
     ]
    },
    {
     "data": {
      "text/html": [
       "<img src=\"https://i.imgur.com/vgwWHUg.jpg\"/>"
      ],
      "text/plain": [
       "<IPython.core.display.Image object>"
      ]
     },
     "metadata": {},
     "output_type": "display_data"
    },
    {
     "name": "stdout",
     "output_type": "stream",
     "text": [
      "[討論] 板主GeminiMan請問您何時要請辭下臺負責? https://i.imgur.com/S0B4o3X.jpg\n"
     ]
    },
    {
     "data": {
      "text/html": [
       "<img src=\"https://i.imgur.com/S0B4o3X.jpg\"/>"
      ],
      "text/plain": [
       "<IPython.core.display.Image object>"
      ]
     },
     "metadata": {},
     "output_type": "display_data"
    },
    {
     "name": "stdout",
     "output_type": "stream",
     "text": [
      "[討論] 板主GeminiMan請問您何時要請辭下臺負責? https://imgur.com/ccywZOf.jpg\n"
     ]
    },
    {
     "data": {
      "text/html": [
       "<img src=\"https://imgur.com/ccywZOf.jpg\"/>"
      ],
      "text/plain": [
       "<IPython.core.display.Image object>"
      ]
     },
     "metadata": {},
     "output_type": "display_data"
    },
    {
     "name": "stdout",
     "output_type": "stream",
     "text": [
      "[討論] 板主GeminiMan請問您何時要請辭下臺負責? https://i.imgur.com/JxDkxbZ.jpg\n"
     ]
    },
    {
     "data": {
      "text/html": [
       "<img src=\"https://i.imgur.com/JxDkxbZ.jpg\"/>"
      ],
      "text/plain": [
       "<IPython.core.display.Image object>"
      ]
     },
     "metadata": {},
     "output_type": "display_data"
    },
    {
     "name": "stdout",
     "output_type": "stream",
     "text": [
      "[討論] 板主GeminiMan請問您何時要請辭下臺負責? https://i.imgur.com/GTOIbdf.jpg\n"
     ]
    },
    {
     "data": {
      "text/html": [
       "<img src=\"https://i.imgur.com/GTOIbdf.jpg\"/>"
      ],
      "text/plain": [
       "<IPython.core.display.Image object>"
      ]
     },
     "metadata": {},
     "output_type": "display_data"
    },
    {
     "name": "stdout",
     "output_type": "stream",
     "text": [
      "[討論] 板主GeminiMan請問您何時要請辭下臺負責? https://i.imgur.com/FX7YLV3.jpg\n"
     ]
    },
    {
     "data": {
      "text/html": [
       "<img src=\"https://i.imgur.com/FX7YLV3.jpg\"/>"
      ],
      "text/plain": [
       "<IPython.core.display.Image object>"
      ]
     },
     "metadata": {},
     "output_type": "display_data"
    },
    {
     "name": "stdout",
     "output_type": "stream",
     "text": [
      "[討論] 板主GeminiMan請問您何時要請辭下臺負責? https://i.imgur.com/YQXTCEq.jpg\n"
     ]
    },
    {
     "data": {
      "text/html": [
       "<img src=\"https://i.imgur.com/YQXTCEq.jpg\"/>"
      ],
      "text/plain": [
       "<IPython.core.display.Image object>"
      ]
     },
     "metadata": {},
     "output_type": "display_data"
    },
    {
     "name": "stdout",
     "output_type": "stream",
     "text": [
      "[討論] 板主GeminiMan請問您何時要請辭下臺負責? https://i.imgur.com/QO0eZe9.jpg\n"
     ]
    },
    {
     "data": {
      "text/html": [
       "<img src=\"https://i.imgur.com/QO0eZe9.jpg\"/>"
      ],
      "text/plain": [
       "<IPython.core.display.Image object>"
      ]
     },
     "metadata": {},
     "output_type": "display_data"
    },
    {
     "name": "stdout",
     "output_type": "stream",
     "text": [
      "[討論] 板主GeminiMan請問您何時要請辭下臺負責? http://i.imgur.com/Rf2Blyk.jpg\n"
     ]
    },
    {
     "data": {
      "text/html": [
       "<img src=\"http://i.imgur.com/Rf2Blyk.jpg\"/>"
      ],
      "text/plain": [
       "<IPython.core.display.Image object>"
      ]
     },
     "metadata": {},
     "output_type": "display_data"
    },
    {
     "name": "stdout",
     "output_type": "stream",
     "text": [
      "[討論] 板主GeminiMan請問您何時要請辭下臺負責? https://i.imgur.com/xRMlO6c.jpg\n"
     ]
    },
    {
     "data": {
      "text/html": [
       "<img src=\"https://i.imgur.com/xRMlO6c.jpg\"/>"
      ],
      "text/plain": [
       "<IPython.core.display.Image object>"
      ]
     },
     "metadata": {},
     "output_type": "display_data"
    },
    {
     "name": "stdout",
     "output_type": "stream",
     "text": [
      "[討論] 板主GeminiMan請問您何時要請辭下臺負責? https://i.imgur.com/t54gztF.jpg\n"
     ]
    },
    {
     "data": {
      "text/html": [
       "<img src=\"https://i.imgur.com/t54gztF.jpg\"/>"
      ],
      "text/plain": [
       "<IPython.core.display.Image object>"
      ]
     },
     "metadata": {},
     "output_type": "display_data"
    },
    {
     "name": "stdout",
     "output_type": "stream",
     "text": [
      "[討論] 板主GeminiMan請問您何時要請辭下臺負責? https://i.imgur.com/QV7FnDq.jpg\n"
     ]
    },
    {
     "data": {
      "text/html": [
       "<img src=\"https://i.imgur.com/QV7FnDq.jpg\"/>"
      ],
      "text/plain": [
       "<IPython.core.display.Image object>"
      ]
     },
     "metadata": {},
     "output_type": "display_data"
    },
    {
     "name": "stdout",
     "output_type": "stream",
     "text": [
      "https://www.ptt.cc/bbs/Beauty/M.1555718152.A.F7F.html [帥哥] 末代皇帝---溥儀\n",
      "http://i.imgur.com/Rf5SmSv.jpg http://i.imgur.com/q6MB99X.jpg http://i.imgur.com/Xv9a09l.jpg http://i.imgur.com/mjChT7Y.jpg http://i.imgur.com/Y6KYK56.jpg\n",
      "[帥哥] 末代皇帝---溥儀 http://i.imgur.com/Rf5SmSv.jpg\n"
     ]
    },
    {
     "data": {
      "text/html": [
       "<img src=\"http://i.imgur.com/Rf5SmSv.jpg\"/>"
      ],
      "text/plain": [
       "<IPython.core.display.Image object>"
      ]
     },
     "metadata": {},
     "output_type": "display_data"
    },
    {
     "name": "stdout",
     "output_type": "stream",
     "text": [
      "[帥哥] 末代皇帝---溥儀 http://i.imgur.com/q6MB99X.jpg\n"
     ]
    },
    {
     "data": {
      "text/html": [
       "<img src=\"http://i.imgur.com/q6MB99X.jpg\"/>"
      ],
      "text/plain": [
       "<IPython.core.display.Image object>"
      ]
     },
     "metadata": {},
     "output_type": "display_data"
    },
    {
     "name": "stdout",
     "output_type": "stream",
     "text": [
      "[帥哥] 末代皇帝---溥儀 http://i.imgur.com/Xv9a09l.jpg\n"
     ]
    },
    {
     "data": {
      "text/html": [
       "<img src=\"http://i.imgur.com/Xv9a09l.jpg\"/>"
      ],
      "text/plain": [
       "<IPython.core.display.Image object>"
      ]
     },
     "metadata": {},
     "output_type": "display_data"
    },
    {
     "name": "stdout",
     "output_type": "stream",
     "text": [
      "[帥哥] 末代皇帝---溥儀 http://i.imgur.com/mjChT7Y.jpg\n"
     ]
    },
    {
     "data": {
      "text/html": [
       "<img src=\"http://i.imgur.com/mjChT7Y.jpg\"/>"
      ],
      "text/plain": [
       "<IPython.core.display.Image object>"
      ]
     },
     "metadata": {},
     "output_type": "display_data"
    },
    {
     "name": "stdout",
     "output_type": "stream",
     "text": [
      "[帥哥] 末代皇帝---溥儀 http://i.imgur.com/Y6KYK56.jpg\n"
     ]
    },
    {
     "data": {
      "text/html": [
       "<img src=\"http://i.imgur.com/Y6KYK56.jpg\"/>"
      ],
      "text/plain": [
       "<IPython.core.display.Image object>"
      ]
     },
     "metadata": {},
     "output_type": "display_data"
    },
    {
     "name": "stdout",
     "output_type": "stream",
     "text": [
      "https://www.ptt.cc/bbs/Beauty/M.1555723435.A.6C0.html Re: [討論] 板主GeminiMan請問您何時要請辭下臺負責?\n",
      "https://i.imgur.com/KXGoCv4.jpg https://i.imgur.com/vlmOCO1.jpg https://i.imgur.com/KhVJCOk.jpg https://i.imgur.com/QGcuPvP.jpg https://i.imgur.com/d0e4uQL.jpg https://i.imgur.com/SneDq1N.jpg https://i.imgur.com/Wf82u8Z.jpg https://i.imgur.com/lVsU34k.jpg https://i.imgur.com/lVa0b1X.jpg https://i.imgur.com/LT2brUo.jpg https://i.imgur.com/XViC87x.jpg https://i.imgur.com/7fSmRdz.jpg https://i.imgur.com/KnxHPr0.jpg https://i.imgur.com/3Y0nMZ6.jpg https://i.imgur.com/YXMqcI9.jpg https://i.imgur.com/iQuVMmr.jpg https://i.imgur.com/v9386ik.jpg https://i.imgur.com/VbjsgeQ.jpg https://i.imgur.com/SW1e8Fm.jpg https://i.imgur.com/HyHK5dH.jpg https://i.imgur.com/F1ET0Ao.jpg https://i.imgur.com/jG5c20Y.jpg https://i.imgur.com/M2BxBHW.jpg https://i.imgur.com/MQeIs8y.jpg https://i.imgur.com/COiEStX.jpg https://i.imgur.com/iHTseB7.jpg https://i.imgur.com/UWAF8R7.jpg https://i.imgur.com/LqIbVqU.jpg https://i.imgur.com/bmrg9VF.jpg https://imgur.com/i3cpjeZ.jpg https://i.imgur.com/Rh11sbt.jpg https://i.imgur.com/nzHiFcc.jpg https://i.imgur.com/Qiu7NZI.jpg https://i.imgur.com/bRX6K2a.jpg https://i.imgur.com/3AH8toK.jpg https://i.imgur.com/HXJhnaV.jpg https://i.imgur.com/Jd9zGE8.jpg https://i.imgur.com/i3cpjeZ.jpg https://i.imgur.com/CFfWhoR.jpg https://i.imgur.com/64BK5Zy.jpg http://i.imgur.com/FRjG4ki.jpg https://i.imgur.com/sTWiwU7.jpg https://i.imgur.com/UANPdTw.jpg https://i.imgur.com/yuLZQmH.jpg https://i.imgur.com/F91qerq.jpg https://i.imgur.com/vgwWHUg.jpg https://i.imgur.com/S0B4o3X.jpg https://i.imgur.com/VCdJhvS.jpg https://i.imgur.com/zk1PBLT.jpg https://i.imgur.com/thGZqeV.jpg https://i.imgur.com/XNef59h.jpg https://i.imgur.com/JxDkxbZ.jpg https://i.imgur.com/GTOIbdf.jpg https://i.imgur.com/apdY14Q.jpg https://i.imgur.com/FX7YLV3.jpg https://i.imgur.com/YQXTCEq.jpg https://i.imgur.com/QO0eZe9.jpg https://i.imgur.com/xRMlO6c.jpg https://i.imgur.com/lPa76Wg.jpg https://i.imgur.com/t54gztF.jpg https://i.imgur.com/KJcze37.jpg https://i.imgur.com/QV7FnDq.jpg\n",
      "Re: [討論] 板主GeminiMan請問您何時要請辭下臺負責? https://i.imgur.com/KXGoCv4.jpg\n"
     ]
    },
    {
     "data": {
      "text/html": [
       "<img src=\"https://i.imgur.com/KXGoCv4.jpg\"/>"
      ],
      "text/plain": [
       "<IPython.core.display.Image object>"
      ]
     },
     "metadata": {},
     "output_type": "display_data"
    },
    {
     "name": "stdout",
     "output_type": "stream",
     "text": [
      "Re: [討論] 板主GeminiMan請問您何時要請辭下臺負責? https://i.imgur.com/vlmOCO1.jpg\n"
     ]
    },
    {
     "data": {
      "text/html": [
       "<img src=\"https://i.imgur.com/vlmOCO1.jpg\"/>"
      ],
      "text/plain": [
       "<IPython.core.display.Image object>"
      ]
     },
     "metadata": {},
     "output_type": "display_data"
    },
    {
     "name": "stdout",
     "output_type": "stream",
     "text": [
      "Re: [討論] 板主GeminiMan請問您何時要請辭下臺負責? https://i.imgur.com/KhVJCOk.jpg\n"
     ]
    },
    {
     "data": {
      "text/html": [
       "<img src=\"https://i.imgur.com/KhVJCOk.jpg\"/>"
      ],
      "text/plain": [
       "<IPython.core.display.Image object>"
      ]
     },
     "metadata": {},
     "output_type": "display_data"
    },
    {
     "name": "stdout",
     "output_type": "stream",
     "text": [
      "Re: [討論] 板主GeminiMan請問您何時要請辭下臺負責? https://i.imgur.com/QGcuPvP.jpg\n"
     ]
    },
    {
     "data": {
      "text/html": [
       "<img src=\"https://i.imgur.com/QGcuPvP.jpg\"/>"
      ],
      "text/plain": [
       "<IPython.core.display.Image object>"
      ]
     },
     "metadata": {},
     "output_type": "display_data"
    },
    {
     "name": "stdout",
     "output_type": "stream",
     "text": [
      "Re: [討論] 板主GeminiMan請問您何時要請辭下臺負責? https://i.imgur.com/d0e4uQL.jpg\n"
     ]
    },
    {
     "data": {
      "text/html": [
       "<img src=\"https://i.imgur.com/d0e4uQL.jpg\"/>"
      ],
      "text/plain": [
       "<IPython.core.display.Image object>"
      ]
     },
     "metadata": {},
     "output_type": "display_data"
    },
    {
     "name": "stdout",
     "output_type": "stream",
     "text": [
      "Re: [討論] 板主GeminiMan請問您何時要請辭下臺負責? https://i.imgur.com/SneDq1N.jpg\n"
     ]
    },
    {
     "data": {
      "text/html": [
       "<img src=\"https://i.imgur.com/SneDq1N.jpg\"/>"
      ],
      "text/plain": [
       "<IPython.core.display.Image object>"
      ]
     },
     "metadata": {},
     "output_type": "display_data"
    },
    {
     "name": "stdout",
     "output_type": "stream",
     "text": [
      "Re: [討論] 板主GeminiMan請問您何時要請辭下臺負責? https://i.imgur.com/Wf82u8Z.jpg\n"
     ]
    },
    {
     "data": {
      "text/html": [
       "<img src=\"https://i.imgur.com/Wf82u8Z.jpg\"/>"
      ],
      "text/plain": [
       "<IPython.core.display.Image object>"
      ]
     },
     "metadata": {},
     "output_type": "display_data"
    },
    {
     "name": "stdout",
     "output_type": "stream",
     "text": [
      "Re: [討論] 板主GeminiMan請問您何時要請辭下臺負責? https://i.imgur.com/lVsU34k.jpg\n"
     ]
    },
    {
     "data": {
      "text/html": [
       "<img src=\"https://i.imgur.com/lVsU34k.jpg\"/>"
      ],
      "text/plain": [
       "<IPython.core.display.Image object>"
      ]
     },
     "metadata": {},
     "output_type": "display_data"
    },
    {
     "name": "stdout",
     "output_type": "stream",
     "text": [
      "Re: [討論] 板主GeminiMan請問您何時要請辭下臺負責? https://i.imgur.com/lVa0b1X.jpg\n"
     ]
    },
    {
     "data": {
      "text/html": [
       "<img src=\"https://i.imgur.com/lVa0b1X.jpg\"/>"
      ],
      "text/plain": [
       "<IPython.core.display.Image object>"
      ]
     },
     "metadata": {},
     "output_type": "display_data"
    },
    {
     "name": "stdout",
     "output_type": "stream",
     "text": [
      "Re: [討論] 板主GeminiMan請問您何時要請辭下臺負責? https://i.imgur.com/LT2brUo.jpg\n"
     ]
    },
    {
     "data": {
      "text/html": [
       "<img src=\"https://i.imgur.com/LT2brUo.jpg\"/>"
      ],
      "text/plain": [
       "<IPython.core.display.Image object>"
      ]
     },
     "metadata": {},
     "output_type": "display_data"
    },
    {
     "name": "stdout",
     "output_type": "stream",
     "text": [
      "Re: [討論] 板主GeminiMan請問您何時要請辭下臺負責? https://i.imgur.com/XViC87x.jpg\n"
     ]
    },
    {
     "data": {
      "text/html": [
       "<img src=\"https://i.imgur.com/XViC87x.jpg\"/>"
      ],
      "text/plain": [
       "<IPython.core.display.Image object>"
      ]
     },
     "metadata": {},
     "output_type": "display_data"
    },
    {
     "name": "stdout",
     "output_type": "stream",
     "text": [
      "Re: [討論] 板主GeminiMan請問您何時要請辭下臺負責? https://i.imgur.com/7fSmRdz.jpg\n"
     ]
    },
    {
     "data": {
      "text/html": [
       "<img src=\"https://i.imgur.com/7fSmRdz.jpg\"/>"
      ],
      "text/plain": [
       "<IPython.core.display.Image object>"
      ]
     },
     "metadata": {},
     "output_type": "display_data"
    },
    {
     "name": "stdout",
     "output_type": "stream",
     "text": [
      "Re: [討論] 板主GeminiMan請問您何時要請辭下臺負責? https://i.imgur.com/KnxHPr0.jpg\n"
     ]
    },
    {
     "data": {
      "text/html": [
       "<img src=\"https://i.imgur.com/KnxHPr0.jpg\"/>"
      ],
      "text/plain": [
       "<IPython.core.display.Image object>"
      ]
     },
     "metadata": {},
     "output_type": "display_data"
    },
    {
     "name": "stdout",
     "output_type": "stream",
     "text": [
      "Re: [討論] 板主GeminiMan請問您何時要請辭下臺負責? https://i.imgur.com/3Y0nMZ6.jpg\n"
     ]
    },
    {
     "data": {
      "text/html": [
       "<img src=\"https://i.imgur.com/3Y0nMZ6.jpg\"/>"
      ],
      "text/plain": [
       "<IPython.core.display.Image object>"
      ]
     },
     "metadata": {},
     "output_type": "display_data"
    },
    {
     "name": "stdout",
     "output_type": "stream",
     "text": [
      "Re: [討論] 板主GeminiMan請問您何時要請辭下臺負責? https://i.imgur.com/YXMqcI9.jpg\n"
     ]
    },
    {
     "data": {
      "text/html": [
       "<img src=\"https://i.imgur.com/YXMqcI9.jpg\"/>"
      ],
      "text/plain": [
       "<IPython.core.display.Image object>"
      ]
     },
     "metadata": {},
     "output_type": "display_data"
    },
    {
     "name": "stdout",
     "output_type": "stream",
     "text": [
      "Re: [討論] 板主GeminiMan請問您何時要請辭下臺負責? https://i.imgur.com/iQuVMmr.jpg\n"
     ]
    },
    {
     "data": {
      "text/html": [
       "<img src=\"https://i.imgur.com/iQuVMmr.jpg\"/>"
      ],
      "text/plain": [
       "<IPython.core.display.Image object>"
      ]
     },
     "metadata": {},
     "output_type": "display_data"
    },
    {
     "name": "stdout",
     "output_type": "stream",
     "text": [
      "Re: [討論] 板主GeminiMan請問您何時要請辭下臺負責? https://i.imgur.com/v9386ik.jpg\n"
     ]
    },
    {
     "data": {
      "text/html": [
       "<img src=\"https://i.imgur.com/v9386ik.jpg\"/>"
      ],
      "text/plain": [
       "<IPython.core.display.Image object>"
      ]
     },
     "metadata": {},
     "output_type": "display_data"
    },
    {
     "name": "stdout",
     "output_type": "stream",
     "text": [
      "Re: [討論] 板主GeminiMan請問您何時要請辭下臺負責? https://i.imgur.com/VbjsgeQ.jpg\n"
     ]
    },
    {
     "data": {
      "text/html": [
       "<img src=\"https://i.imgur.com/VbjsgeQ.jpg\"/>"
      ],
      "text/plain": [
       "<IPython.core.display.Image object>"
      ]
     },
     "metadata": {},
     "output_type": "display_data"
    },
    {
     "name": "stdout",
     "output_type": "stream",
     "text": [
      "Re: [討論] 板主GeminiMan請問您何時要請辭下臺負責? https://i.imgur.com/SW1e8Fm.jpg\n"
     ]
    },
    {
     "data": {
      "text/html": [
       "<img src=\"https://i.imgur.com/SW1e8Fm.jpg\"/>"
      ],
      "text/plain": [
       "<IPython.core.display.Image object>"
      ]
     },
     "metadata": {},
     "output_type": "display_data"
    },
    {
     "name": "stdout",
     "output_type": "stream",
     "text": [
      "Re: [討論] 板主GeminiMan請問您何時要請辭下臺負責? https://i.imgur.com/HyHK5dH.jpg\n"
     ]
    },
    {
     "data": {
      "text/html": [
       "<img src=\"https://i.imgur.com/HyHK5dH.jpg\"/>"
      ],
      "text/plain": [
       "<IPython.core.display.Image object>"
      ]
     },
     "metadata": {},
     "output_type": "display_data"
    },
    {
     "name": "stdout",
     "output_type": "stream",
     "text": [
      "Re: [討論] 板主GeminiMan請問您何時要請辭下臺負責? https://i.imgur.com/F1ET0Ao.jpg\n"
     ]
    },
    {
     "data": {
      "text/html": [
       "<img src=\"https://i.imgur.com/F1ET0Ao.jpg\"/>"
      ],
      "text/plain": [
       "<IPython.core.display.Image object>"
      ]
     },
     "metadata": {},
     "output_type": "display_data"
    },
    {
     "name": "stdout",
     "output_type": "stream",
     "text": [
      "Re: [討論] 板主GeminiMan請問您何時要請辭下臺負責? https://i.imgur.com/jG5c20Y.jpg\n"
     ]
    },
    {
     "data": {
      "text/html": [
       "<img src=\"https://i.imgur.com/jG5c20Y.jpg\"/>"
      ],
      "text/plain": [
       "<IPython.core.display.Image object>"
      ]
     },
     "metadata": {},
     "output_type": "display_data"
    },
    {
     "name": "stdout",
     "output_type": "stream",
     "text": [
      "Re: [討論] 板主GeminiMan請問您何時要請辭下臺負責? https://i.imgur.com/M2BxBHW.jpg\n"
     ]
    },
    {
     "data": {
      "text/html": [
       "<img src=\"https://i.imgur.com/M2BxBHW.jpg\"/>"
      ],
      "text/plain": [
       "<IPython.core.display.Image object>"
      ]
     },
     "metadata": {},
     "output_type": "display_data"
    },
    {
     "name": "stdout",
     "output_type": "stream",
     "text": [
      "Re: [討論] 板主GeminiMan請問您何時要請辭下臺負責? https://i.imgur.com/MQeIs8y.jpg\n"
     ]
    },
    {
     "data": {
      "text/html": [
       "<img src=\"https://i.imgur.com/MQeIs8y.jpg\"/>"
      ],
      "text/plain": [
       "<IPython.core.display.Image object>"
      ]
     },
     "metadata": {},
     "output_type": "display_data"
    },
    {
     "name": "stdout",
     "output_type": "stream",
     "text": [
      "Re: [討論] 板主GeminiMan請問您何時要請辭下臺負責? https://i.imgur.com/COiEStX.jpg\n"
     ]
    },
    {
     "data": {
      "text/html": [
       "<img src=\"https://i.imgur.com/COiEStX.jpg\"/>"
      ],
      "text/plain": [
       "<IPython.core.display.Image object>"
      ]
     },
     "metadata": {},
     "output_type": "display_data"
    },
    {
     "name": "stdout",
     "output_type": "stream",
     "text": [
      "Re: [討論] 板主GeminiMan請問您何時要請辭下臺負責? https://i.imgur.com/iHTseB7.jpg\n"
     ]
    },
    {
     "data": {
      "text/html": [
       "<img src=\"https://i.imgur.com/iHTseB7.jpg\"/>"
      ],
      "text/plain": [
       "<IPython.core.display.Image object>"
      ]
     },
     "metadata": {},
     "output_type": "display_data"
    },
    {
     "name": "stdout",
     "output_type": "stream",
     "text": [
      "Re: [討論] 板主GeminiMan請問您何時要請辭下臺負責? https://i.imgur.com/UWAF8R7.jpg\n"
     ]
    },
    {
     "data": {
      "text/html": [
       "<img src=\"https://i.imgur.com/UWAF8R7.jpg\"/>"
      ],
      "text/plain": [
       "<IPython.core.display.Image object>"
      ]
     },
     "metadata": {},
     "output_type": "display_data"
    },
    {
     "name": "stdout",
     "output_type": "stream",
     "text": [
      "Re: [討論] 板主GeminiMan請問您何時要請辭下臺負責? https://i.imgur.com/LqIbVqU.jpg\n"
     ]
    },
    {
     "data": {
      "text/html": [
       "<img src=\"https://i.imgur.com/LqIbVqU.jpg\"/>"
      ],
      "text/plain": [
       "<IPython.core.display.Image object>"
      ]
     },
     "metadata": {},
     "output_type": "display_data"
    },
    {
     "name": "stdout",
     "output_type": "stream",
     "text": [
      "Re: [討論] 板主GeminiMan請問您何時要請辭下臺負責? https://i.imgur.com/bmrg9VF.jpg\n"
     ]
    },
    {
     "data": {
      "text/html": [
       "<img src=\"https://i.imgur.com/bmrg9VF.jpg\"/>"
      ],
      "text/plain": [
       "<IPython.core.display.Image object>"
      ]
     },
     "metadata": {},
     "output_type": "display_data"
    },
    {
     "name": "stdout",
     "output_type": "stream",
     "text": [
      "Re: [討論] 板主GeminiMan請問您何時要請辭下臺負責? https://imgur.com/i3cpjeZ.jpg\n"
     ]
    },
    {
     "data": {
      "text/html": [
       "<img src=\"https://imgur.com/i3cpjeZ.jpg\"/>"
      ],
      "text/plain": [
       "<IPython.core.display.Image object>"
      ]
     },
     "metadata": {},
     "output_type": "display_data"
    },
    {
     "name": "stdout",
     "output_type": "stream",
     "text": [
      "Re: [討論] 板主GeminiMan請問您何時要請辭下臺負責? https://i.imgur.com/Rh11sbt.jpg\n"
     ]
    },
    {
     "data": {
      "text/html": [
       "<img src=\"https://i.imgur.com/Rh11sbt.jpg\"/>"
      ],
      "text/plain": [
       "<IPython.core.display.Image object>"
      ]
     },
     "metadata": {},
     "output_type": "display_data"
    },
    {
     "name": "stdout",
     "output_type": "stream",
     "text": [
      "Re: [討論] 板主GeminiMan請問您何時要請辭下臺負責? https://i.imgur.com/nzHiFcc.jpg\n"
     ]
    },
    {
     "data": {
      "text/html": [
       "<img src=\"https://i.imgur.com/nzHiFcc.jpg\"/>"
      ],
      "text/plain": [
       "<IPython.core.display.Image object>"
      ]
     },
     "metadata": {},
     "output_type": "display_data"
    },
    {
     "name": "stdout",
     "output_type": "stream",
     "text": [
      "Re: [討論] 板主GeminiMan請問您何時要請辭下臺負責? https://i.imgur.com/Qiu7NZI.jpg\n"
     ]
    },
    {
     "data": {
      "text/html": [
       "<img src=\"https://i.imgur.com/Qiu7NZI.jpg\"/>"
      ],
      "text/plain": [
       "<IPython.core.display.Image object>"
      ]
     },
     "metadata": {},
     "output_type": "display_data"
    },
    {
     "name": "stdout",
     "output_type": "stream",
     "text": [
      "Re: [討論] 板主GeminiMan請問您何時要請辭下臺負責? https://i.imgur.com/bRX6K2a.jpg\n"
     ]
    },
    {
     "data": {
      "text/html": [
       "<img src=\"https://i.imgur.com/bRX6K2a.jpg\"/>"
      ],
      "text/plain": [
       "<IPython.core.display.Image object>"
      ]
     },
     "metadata": {},
     "output_type": "display_data"
    },
    {
     "name": "stdout",
     "output_type": "stream",
     "text": [
      "Re: [討論] 板主GeminiMan請問您何時要請辭下臺負責? https://i.imgur.com/3AH8toK.jpg\n"
     ]
    },
    {
     "data": {
      "text/html": [
       "<img src=\"https://i.imgur.com/3AH8toK.jpg\"/>"
      ],
      "text/plain": [
       "<IPython.core.display.Image object>"
      ]
     },
     "metadata": {},
     "output_type": "display_data"
    },
    {
     "name": "stdout",
     "output_type": "stream",
     "text": [
      "Re: [討論] 板主GeminiMan請問您何時要請辭下臺負責? https://i.imgur.com/HXJhnaV.jpg\n"
     ]
    },
    {
     "data": {
      "text/html": [
       "<img src=\"https://i.imgur.com/HXJhnaV.jpg\"/>"
      ],
      "text/plain": [
       "<IPython.core.display.Image object>"
      ]
     },
     "metadata": {},
     "output_type": "display_data"
    },
    {
     "name": "stdout",
     "output_type": "stream",
     "text": [
      "Re: [討論] 板主GeminiMan請問您何時要請辭下臺負責? https://i.imgur.com/Jd9zGE8.jpg\n"
     ]
    },
    {
     "data": {
      "text/html": [
       "<img src=\"https://i.imgur.com/Jd9zGE8.jpg\"/>"
      ],
      "text/plain": [
       "<IPython.core.display.Image object>"
      ]
     },
     "metadata": {},
     "output_type": "display_data"
    },
    {
     "name": "stdout",
     "output_type": "stream",
     "text": [
      "Re: [討論] 板主GeminiMan請問您何時要請辭下臺負責? https://i.imgur.com/i3cpjeZ.jpg\n"
     ]
    },
    {
     "data": {
      "text/html": [
       "<img src=\"https://i.imgur.com/i3cpjeZ.jpg\"/>"
      ],
      "text/plain": [
       "<IPython.core.display.Image object>"
      ]
     },
     "metadata": {},
     "output_type": "display_data"
    },
    {
     "name": "stdout",
     "output_type": "stream",
     "text": [
      "Re: [討論] 板主GeminiMan請問您何時要請辭下臺負責? https://i.imgur.com/CFfWhoR.jpg\n"
     ]
    },
    {
     "data": {
      "text/html": [
       "<img src=\"https://i.imgur.com/CFfWhoR.jpg\"/>"
      ],
      "text/plain": [
       "<IPython.core.display.Image object>"
      ]
     },
     "metadata": {},
     "output_type": "display_data"
    },
    {
     "name": "stdout",
     "output_type": "stream",
     "text": [
      "Re: [討論] 板主GeminiMan請問您何時要請辭下臺負責? https://i.imgur.com/64BK5Zy.jpg\n"
     ]
    },
    {
     "data": {
      "text/html": [
       "<img src=\"https://i.imgur.com/64BK5Zy.jpg\"/>"
      ],
      "text/plain": [
       "<IPython.core.display.Image object>"
      ]
     },
     "metadata": {},
     "output_type": "display_data"
    },
    {
     "name": "stdout",
     "output_type": "stream",
     "text": [
      "Re: [討論] 板主GeminiMan請問您何時要請辭下臺負責? http://i.imgur.com/FRjG4ki.jpg\n"
     ]
    },
    {
     "data": {
      "text/html": [
       "<img src=\"http://i.imgur.com/FRjG4ki.jpg\"/>"
      ],
      "text/plain": [
       "<IPython.core.display.Image object>"
      ]
     },
     "metadata": {},
     "output_type": "display_data"
    },
    {
     "name": "stdout",
     "output_type": "stream",
     "text": [
      "Re: [討論] 板主GeminiMan請問您何時要請辭下臺負責? https://i.imgur.com/sTWiwU7.jpg\n"
     ]
    },
    {
     "data": {
      "text/html": [
       "<img src=\"https://i.imgur.com/sTWiwU7.jpg\"/>"
      ],
      "text/plain": [
       "<IPython.core.display.Image object>"
      ]
     },
     "metadata": {},
     "output_type": "display_data"
    },
    {
     "name": "stdout",
     "output_type": "stream",
     "text": [
      "Re: [討論] 板主GeminiMan請問您何時要請辭下臺負責? https://i.imgur.com/UANPdTw.jpg\n"
     ]
    },
    {
     "data": {
      "text/html": [
       "<img src=\"https://i.imgur.com/UANPdTw.jpg\"/>"
      ],
      "text/plain": [
       "<IPython.core.display.Image object>"
      ]
     },
     "metadata": {},
     "output_type": "display_data"
    },
    {
     "name": "stdout",
     "output_type": "stream",
     "text": [
      "Re: [討論] 板主GeminiMan請問您何時要請辭下臺負責? https://i.imgur.com/yuLZQmH.jpg\n"
     ]
    },
    {
     "data": {
      "text/html": [
       "<img src=\"https://i.imgur.com/yuLZQmH.jpg\"/>"
      ],
      "text/plain": [
       "<IPython.core.display.Image object>"
      ]
     },
     "metadata": {},
     "output_type": "display_data"
    },
    {
     "name": "stdout",
     "output_type": "stream",
     "text": [
      "Re: [討論] 板主GeminiMan請問您何時要請辭下臺負責? https://i.imgur.com/F91qerq.jpg\n"
     ]
    },
    {
     "data": {
      "text/html": [
       "<img src=\"https://i.imgur.com/F91qerq.jpg\"/>"
      ],
      "text/plain": [
       "<IPython.core.display.Image object>"
      ]
     },
     "metadata": {},
     "output_type": "display_data"
    },
    {
     "name": "stdout",
     "output_type": "stream",
     "text": [
      "Re: [討論] 板主GeminiMan請問您何時要請辭下臺負責? https://i.imgur.com/vgwWHUg.jpg\n"
     ]
    },
    {
     "data": {
      "text/html": [
       "<img src=\"https://i.imgur.com/vgwWHUg.jpg\"/>"
      ],
      "text/plain": [
       "<IPython.core.display.Image object>"
      ]
     },
     "metadata": {},
     "output_type": "display_data"
    },
    {
     "name": "stdout",
     "output_type": "stream",
     "text": [
      "Re: [討論] 板主GeminiMan請問您何時要請辭下臺負責? https://i.imgur.com/S0B4o3X.jpg\n"
     ]
    },
    {
     "data": {
      "text/html": [
       "<img src=\"https://i.imgur.com/S0B4o3X.jpg\"/>"
      ],
      "text/plain": [
       "<IPython.core.display.Image object>"
      ]
     },
     "metadata": {},
     "output_type": "display_data"
    },
    {
     "name": "stdout",
     "output_type": "stream",
     "text": [
      "Re: [討論] 板主GeminiMan請問您何時要請辭下臺負責? https://i.imgur.com/VCdJhvS.jpg\n"
     ]
    },
    {
     "data": {
      "text/html": [
       "<img src=\"https://i.imgur.com/VCdJhvS.jpg\"/>"
      ],
      "text/plain": [
       "<IPython.core.display.Image object>"
      ]
     },
     "metadata": {},
     "output_type": "display_data"
    },
    {
     "name": "stdout",
     "output_type": "stream",
     "text": [
      "Re: [討論] 板主GeminiMan請問您何時要請辭下臺負責? https://i.imgur.com/zk1PBLT.jpg\n"
     ]
    },
    {
     "data": {
      "text/html": [
       "<img src=\"https://i.imgur.com/zk1PBLT.jpg\"/>"
      ],
      "text/plain": [
       "<IPython.core.display.Image object>"
      ]
     },
     "metadata": {},
     "output_type": "display_data"
    },
    {
     "name": "stdout",
     "output_type": "stream",
     "text": [
      "Re: [討論] 板主GeminiMan請問您何時要請辭下臺負責? https://i.imgur.com/thGZqeV.jpg\n"
     ]
    },
    {
     "data": {
      "text/html": [
       "<img src=\"https://i.imgur.com/thGZqeV.jpg\"/>"
      ],
      "text/plain": [
       "<IPython.core.display.Image object>"
      ]
     },
     "metadata": {},
     "output_type": "display_data"
    },
    {
     "name": "stdout",
     "output_type": "stream",
     "text": [
      "Re: [討論] 板主GeminiMan請問您何時要請辭下臺負責? https://i.imgur.com/XNef59h.jpg\n"
     ]
    },
    {
     "data": {
      "text/html": [
       "<img src=\"https://i.imgur.com/XNef59h.jpg\"/>"
      ],
      "text/plain": [
       "<IPython.core.display.Image object>"
      ]
     },
     "metadata": {},
     "output_type": "display_data"
    },
    {
     "name": "stdout",
     "output_type": "stream",
     "text": [
      "Re: [討論] 板主GeminiMan請問您何時要請辭下臺負責? https://i.imgur.com/JxDkxbZ.jpg\n"
     ]
    },
    {
     "data": {
      "text/html": [
       "<img src=\"https://i.imgur.com/JxDkxbZ.jpg\"/>"
      ],
      "text/plain": [
       "<IPython.core.display.Image object>"
      ]
     },
     "metadata": {},
     "output_type": "display_data"
    },
    {
     "name": "stdout",
     "output_type": "stream",
     "text": [
      "Re: [討論] 板主GeminiMan請問您何時要請辭下臺負責? https://i.imgur.com/GTOIbdf.jpg\n"
     ]
    },
    {
     "data": {
      "text/html": [
       "<img src=\"https://i.imgur.com/GTOIbdf.jpg\"/>"
      ],
      "text/plain": [
       "<IPython.core.display.Image object>"
      ]
     },
     "metadata": {},
     "output_type": "display_data"
    },
    {
     "name": "stdout",
     "output_type": "stream",
     "text": [
      "Re: [討論] 板主GeminiMan請問您何時要請辭下臺負責? https://i.imgur.com/apdY14Q.jpg\n"
     ]
    },
    {
     "data": {
      "text/html": [
       "<img src=\"https://i.imgur.com/apdY14Q.jpg\"/>"
      ],
      "text/plain": [
       "<IPython.core.display.Image object>"
      ]
     },
     "metadata": {},
     "output_type": "display_data"
    },
    {
     "name": "stdout",
     "output_type": "stream",
     "text": [
      "Re: [討論] 板主GeminiMan請問您何時要請辭下臺負責? https://i.imgur.com/FX7YLV3.jpg\n"
     ]
    },
    {
     "data": {
      "text/html": [
       "<img src=\"https://i.imgur.com/FX7YLV3.jpg\"/>"
      ],
      "text/plain": [
       "<IPython.core.display.Image object>"
      ]
     },
     "metadata": {},
     "output_type": "display_data"
    },
    {
     "name": "stdout",
     "output_type": "stream",
     "text": [
      "Re: [討論] 板主GeminiMan請問您何時要請辭下臺負責? https://i.imgur.com/YQXTCEq.jpg\n"
     ]
    },
    {
     "data": {
      "text/html": [
       "<img src=\"https://i.imgur.com/YQXTCEq.jpg\"/>"
      ],
      "text/plain": [
       "<IPython.core.display.Image object>"
      ]
     },
     "metadata": {},
     "output_type": "display_data"
    },
    {
     "name": "stdout",
     "output_type": "stream",
     "text": [
      "Re: [討論] 板主GeminiMan請問您何時要請辭下臺負責? https://i.imgur.com/QO0eZe9.jpg\n"
     ]
    },
    {
     "data": {
      "text/html": [
       "<img src=\"https://i.imgur.com/QO0eZe9.jpg\"/>"
      ],
      "text/plain": [
       "<IPython.core.display.Image object>"
      ]
     },
     "metadata": {},
     "output_type": "display_data"
    },
    {
     "name": "stdout",
     "output_type": "stream",
     "text": [
      "Re: [討論] 板主GeminiMan請問您何時要請辭下臺負責? https://i.imgur.com/xRMlO6c.jpg\n"
     ]
    },
    {
     "data": {
      "text/html": [
       "<img src=\"https://i.imgur.com/xRMlO6c.jpg\"/>"
      ],
      "text/plain": [
       "<IPython.core.display.Image object>"
      ]
     },
     "metadata": {},
     "output_type": "display_data"
    },
    {
     "name": "stdout",
     "output_type": "stream",
     "text": [
      "Re: [討論] 板主GeminiMan請問您何時要請辭下臺負責? https://i.imgur.com/lPa76Wg.jpg\n"
     ]
    },
    {
     "data": {
      "text/html": [
       "<img src=\"https://i.imgur.com/lPa76Wg.jpg\"/>"
      ],
      "text/plain": [
       "<IPython.core.display.Image object>"
      ]
     },
     "metadata": {},
     "output_type": "display_data"
    },
    {
     "name": "stdout",
     "output_type": "stream",
     "text": [
      "Re: [討論] 板主GeminiMan請問您何時要請辭下臺負責? https://i.imgur.com/t54gztF.jpg\n"
     ]
    },
    {
     "data": {
      "text/html": [
       "<img src=\"https://i.imgur.com/t54gztF.jpg\"/>"
      ],
      "text/plain": [
       "<IPython.core.display.Image object>"
      ]
     },
     "metadata": {},
     "output_type": "display_data"
    },
    {
     "name": "stdout",
     "output_type": "stream",
     "text": [
      "Re: [討論] 板主GeminiMan請問您何時要請辭下臺負責? https://i.imgur.com/KJcze37.jpg\n"
     ]
    },
    {
     "data": {
      "text/html": [
       "<img src=\"https://i.imgur.com/KJcze37.jpg\"/>"
      ],
      "text/plain": [
       "<IPython.core.display.Image object>"
      ]
     },
     "metadata": {},
     "output_type": "display_data"
    },
    {
     "name": "stdout",
     "output_type": "stream",
     "text": [
      "Re: [討論] 板主GeminiMan請問您何時要請辭下臺負責? https://i.imgur.com/QV7FnDq.jpg\n"
     ]
    },
    {
     "data": {
      "text/html": [
       "<img src=\"https://i.imgur.com/QV7FnDq.jpg\"/>"
      ],
      "text/plain": [
       "<IPython.core.display.Image object>"
      ]
     },
     "metadata": {},
     "output_type": "display_data"
    },
    {
     "name": "stdout",
     "output_type": "stream",
     "text": [
      "https://www.ptt.cc/bbs/Beauty/M.1555723516.A.488.html [正妹] 表特板主\n",
      "https://i.imgur.com/8lRI8wS.jpg https://i.imgur.com/YxemGTA.jpg https://i.imgur.com/GiX6JzA.jpg https://i.imgur.com/vEMPMlq.jpg\n",
      "[正妹] 表特板主 https://i.imgur.com/8lRI8wS.jpg\n"
     ]
    },
    {
     "data": {
      "text/html": [
       "<img src=\"https://i.imgur.com/8lRI8wS.jpg\"/>"
      ],
      "text/plain": [
       "<IPython.core.display.Image object>"
      ]
     },
     "metadata": {},
     "output_type": "display_data"
    },
    {
     "name": "stdout",
     "output_type": "stream",
     "text": [
      "[正妹] 表特板主 https://i.imgur.com/YxemGTA.jpg\n"
     ]
    },
    {
     "data": {
      "text/html": [
       "<img src=\"https://i.imgur.com/YxemGTA.jpg\"/>"
      ],
      "text/plain": [
       "<IPython.core.display.Image object>"
      ]
     },
     "metadata": {},
     "output_type": "display_data"
    },
    {
     "name": "stdout",
     "output_type": "stream",
     "text": [
      "[正妹] 表特板主 https://i.imgur.com/GiX6JzA.jpg\n"
     ]
    },
    {
     "data": {
      "text/html": [
       "<img src=\"https://i.imgur.com/GiX6JzA.jpg\"/>"
      ],
      "text/plain": [
       "<IPython.core.display.Image object>"
      ]
     },
     "metadata": {},
     "output_type": "display_data"
    },
    {
     "name": "stdout",
     "output_type": "stream",
     "text": [
      "[正妹] 表特板主 https://i.imgur.com/vEMPMlq.jpg\n"
     ]
    },
    {
     "data": {
      "text/html": [
       "<img src=\"https://i.imgur.com/vEMPMlq.jpg\"/>"
      ],
      "text/plain": [
       "<IPython.core.display.Image object>"
      ]
     },
     "metadata": {},
     "output_type": "display_data"
    },
    {
     "name": "stdout",
     "output_type": "stream",
     "text": [
      "https://www.ptt.cc/bbs/Beauty/M.1555724546.A.8BC.html [正妹] 紅衣女孩\n",
      "https://imgur.com/ew43Id5.jpg https://imgur.com/duYnhfm.jpg https://imgur.com/X85Keuh.jpg https://imgur.com/Fh39FDG.jpg https://imgur.com/E3A4RFe.jpg\n",
      "[正妹] 紅衣女孩 https://imgur.com/ew43Id5.jpg\n"
     ]
    },
    {
     "data": {
      "text/html": [
       "<img src=\"https://imgur.com/ew43Id5.jpg\"/>"
      ],
      "text/plain": [
       "<IPython.core.display.Image object>"
      ]
     },
     "metadata": {},
     "output_type": "display_data"
    },
    {
     "name": "stdout",
     "output_type": "stream",
     "text": [
      "[正妹] 紅衣女孩 https://imgur.com/duYnhfm.jpg\n"
     ]
    },
    {
     "data": {
      "text/html": [
       "<img src=\"https://imgur.com/duYnhfm.jpg\"/>"
      ],
      "text/plain": [
       "<IPython.core.display.Image object>"
      ]
     },
     "metadata": {},
     "output_type": "display_data"
    },
    {
     "name": "stdout",
     "output_type": "stream",
     "text": [
      "[正妹] 紅衣女孩 https://imgur.com/X85Keuh.jpg\n"
     ]
    },
    {
     "data": {
      "text/html": [
       "<img src=\"https://imgur.com/X85Keuh.jpg\"/>"
      ],
      "text/plain": [
       "<IPython.core.display.Image object>"
      ]
     },
     "metadata": {},
     "output_type": "display_data"
    },
    {
     "name": "stdout",
     "output_type": "stream",
     "text": [
      "[正妹] 紅衣女孩 https://imgur.com/Fh39FDG.jpg\n"
     ]
    },
    {
     "data": {
      "text/html": [
       "<img src=\"https://imgur.com/Fh39FDG.jpg\"/>"
      ],
      "text/plain": [
       "<IPython.core.display.Image object>"
      ]
     },
     "metadata": {},
     "output_type": "display_data"
    },
    {
     "name": "stdout",
     "output_type": "stream",
     "text": [
      "[正妹] 紅衣女孩 https://imgur.com/E3A4RFe.jpg\n"
     ]
    },
    {
     "data": {
      "text/html": [
       "<img src=\"https://imgur.com/E3A4RFe.jpg\"/>"
      ],
      "text/plain": [
       "<IPython.core.display.Image object>"
      ]
     },
     "metadata": {},
     "output_type": "display_data"
    },
    {
     "name": "stdout",
     "output_type": "stream",
     "text": [
      "https://www.ptt.cc/bbs/Beauty/M.1555727236.A.FC7.html [帥哥] 五官立體的濃眉大耳男孩\n",
      "https://i.imgur.com/G4QRf2M.jpg https://i.imgur.com/xGx6Msm.jpg\n",
      "[帥哥] 五官立體的濃眉大耳男孩 https://i.imgur.com/G4QRf2M.jpg\n"
     ]
    },
    {
     "data": {
      "text/html": [
       "<img src=\"https://i.imgur.com/G4QRf2M.jpg\"/>"
      ],
      "text/plain": [
       "<IPython.core.display.Image object>"
      ]
     },
     "metadata": {},
     "output_type": "display_data"
    },
    {
     "name": "stdout",
     "output_type": "stream",
     "text": [
      "[帥哥] 五官立體的濃眉大耳男孩 https://i.imgur.com/xGx6Msm.jpg\n"
     ]
    },
    {
     "data": {
      "text/html": [
       "<img src=\"https://i.imgur.com/xGx6Msm.jpg\"/>"
      ],
      "text/plain": [
       "<IPython.core.display.Image object>"
      ]
     },
     "metadata": {},
     "output_type": "display_data"
    },
    {
     "name": "stdout",
     "output_type": "stream",
     "text": [
      "https://www.ptt.cc/bbs/Beauty/M.1555728568.A.7A8.html [帥哥] 幾張帥圖幫版主打氣加油  力挺支持！\n",
      "https://i.imgur.com/ilzSOHi.jpg https://i.imgur.com/mAQHPpm.jpg https://i.imgur.com/XLvpZ6f.jpg https://i.imgur.com/kIqzVVB.jpg https://i.imgur.com/hcithtH.jpg https://i.imgur.com/nz16auT.jpg https://i.imgur.com/SAYn818.jpg https://i.imgur.com/kqBgMyW.jpg https://i.imgur.com/C0043sr.jpg https://i.imgur.com/0M9JuSq.jpg https://i.imgur.com/KLPr0be.jpg\n",
      "[帥哥] 幾張帥圖幫版主打氣加油  力挺支持！ https://i.imgur.com/ilzSOHi.jpg\n"
     ]
    },
    {
     "data": {
      "text/html": [
       "<img src=\"https://i.imgur.com/ilzSOHi.jpg\"/>"
      ],
      "text/plain": [
       "<IPython.core.display.Image object>"
      ]
     },
     "metadata": {},
     "output_type": "display_data"
    },
    {
     "name": "stdout",
     "output_type": "stream",
     "text": [
      "[帥哥] 幾張帥圖幫版主打氣加油  力挺支持！ https://i.imgur.com/mAQHPpm.jpg\n"
     ]
    },
    {
     "data": {
      "text/html": [
       "<img src=\"https://i.imgur.com/mAQHPpm.jpg\"/>"
      ],
      "text/plain": [
       "<IPython.core.display.Image object>"
      ]
     },
     "metadata": {},
     "output_type": "display_data"
    },
    {
     "name": "stdout",
     "output_type": "stream",
     "text": [
      "[帥哥] 幾張帥圖幫版主打氣加油  力挺支持！ https://i.imgur.com/XLvpZ6f.jpg\n"
     ]
    },
    {
     "data": {
      "text/html": [
       "<img src=\"https://i.imgur.com/XLvpZ6f.jpg\"/>"
      ],
      "text/plain": [
       "<IPython.core.display.Image object>"
      ]
     },
     "metadata": {},
     "output_type": "display_data"
    },
    {
     "name": "stdout",
     "output_type": "stream",
     "text": [
      "[帥哥] 幾張帥圖幫版主打氣加油  力挺支持！ https://i.imgur.com/kIqzVVB.jpg\n"
     ]
    },
    {
     "data": {
      "text/html": [
       "<img src=\"https://i.imgur.com/kIqzVVB.jpg\"/>"
      ],
      "text/plain": [
       "<IPython.core.display.Image object>"
      ]
     },
     "metadata": {},
     "output_type": "display_data"
    },
    {
     "name": "stdout",
     "output_type": "stream",
     "text": [
      "[帥哥] 幾張帥圖幫版主打氣加油  力挺支持！ https://i.imgur.com/hcithtH.jpg\n"
     ]
    },
    {
     "data": {
      "text/html": [
       "<img src=\"https://i.imgur.com/hcithtH.jpg\"/>"
      ],
      "text/plain": [
       "<IPython.core.display.Image object>"
      ]
     },
     "metadata": {},
     "output_type": "display_data"
    },
    {
     "name": "stdout",
     "output_type": "stream",
     "text": [
      "[帥哥] 幾張帥圖幫版主打氣加油  力挺支持！ https://i.imgur.com/nz16auT.jpg\n"
     ]
    },
    {
     "data": {
      "text/html": [
       "<img src=\"https://i.imgur.com/nz16auT.jpg\"/>"
      ],
      "text/plain": [
       "<IPython.core.display.Image object>"
      ]
     },
     "metadata": {},
     "output_type": "display_data"
    },
    {
     "name": "stdout",
     "output_type": "stream",
     "text": [
      "[帥哥] 幾張帥圖幫版主打氣加油  力挺支持！ https://i.imgur.com/SAYn818.jpg\n"
     ]
    },
    {
     "data": {
      "text/html": [
       "<img src=\"https://i.imgur.com/SAYn818.jpg\"/>"
      ],
      "text/plain": [
       "<IPython.core.display.Image object>"
      ]
     },
     "metadata": {},
     "output_type": "display_data"
    },
    {
     "name": "stdout",
     "output_type": "stream",
     "text": [
      "[帥哥] 幾張帥圖幫版主打氣加油  力挺支持！ https://i.imgur.com/kqBgMyW.jpg\n"
     ]
    },
    {
     "data": {
      "text/html": [
       "<img src=\"https://i.imgur.com/kqBgMyW.jpg\"/>"
      ],
      "text/plain": [
       "<IPython.core.display.Image object>"
      ]
     },
     "metadata": {},
     "output_type": "display_data"
    },
    {
     "name": "stdout",
     "output_type": "stream",
     "text": [
      "[帥哥] 幾張帥圖幫版主打氣加油  力挺支持！ https://i.imgur.com/C0043sr.jpg\n"
     ]
    },
    {
     "data": {
      "text/html": [
       "<img src=\"https://i.imgur.com/C0043sr.jpg\"/>"
      ],
      "text/plain": [
       "<IPython.core.display.Image object>"
      ]
     },
     "metadata": {},
     "output_type": "display_data"
    },
    {
     "name": "stdout",
     "output_type": "stream",
     "text": [
      "[帥哥] 幾張帥圖幫版主打氣加油  力挺支持！ https://i.imgur.com/0M9JuSq.jpg\n"
     ]
    },
    {
     "data": {
      "text/html": [
       "<img src=\"https://i.imgur.com/0M9JuSq.jpg\"/>"
      ],
      "text/plain": [
       "<IPython.core.display.Image object>"
      ]
     },
     "metadata": {},
     "output_type": "display_data"
    },
    {
     "name": "stdout",
     "output_type": "stream",
     "text": [
      "[帥哥] 幾張帥圖幫版主打氣加油  力挺支持！ https://i.imgur.com/KLPr0be.jpg\n"
     ]
    },
    {
     "data": {
      "text/html": [
       "<img src=\"https://i.imgur.com/KLPr0be.jpg\"/>"
      ],
      "text/plain": [
       "<IPython.core.display.Image object>"
      ]
     },
     "metadata": {},
     "output_type": "display_data"
    },
    {
     "name": "stdout",
     "output_type": "stream",
     "text": [
      "https://www.ptt.cc/bbs/Beauty/M.1529847842.A.237.html [公告] 不願上表特 ＆ 優文推薦 ＆ 檢舉建議專區\n",
      "http://i.imgur.com/jPfoFbR.jpg https://imgur.com/hhJg6rm.jpg https://imgur.com/NpL69p3.jpg https://imgur.com/eqLR6Mu.jpg http://i.imgur.com/FiIMYPb.jpg https://imgur.com/QvalIff.jpg http://i.imgur.com/FVYvTOr.jpg\n",
      "[公告] 不願上表特 ＆ 優文推薦 ＆ 檢舉建議專區 http://i.imgur.com/jPfoFbR.jpg\n"
     ]
    },
    {
     "data": {
      "text/html": [
       "<img src=\"http://i.imgur.com/jPfoFbR.jpg\"/>"
      ],
      "text/plain": [
       "<IPython.core.display.Image object>"
      ]
     },
     "metadata": {},
     "output_type": "display_data"
    },
    {
     "name": "stdout",
     "output_type": "stream",
     "text": [
      "[公告] 不願上表特 ＆ 優文推薦 ＆ 檢舉建議專區 https://imgur.com/hhJg6rm.jpg\n"
     ]
    },
    {
     "data": {
      "text/html": [
       "<img src=\"https://imgur.com/hhJg6rm.jpg\"/>"
      ],
      "text/plain": [
       "<IPython.core.display.Image object>"
      ]
     },
     "metadata": {},
     "output_type": "display_data"
    },
    {
     "name": "stdout",
     "output_type": "stream",
     "text": [
      "[公告] 不願上表特 ＆ 優文推薦 ＆ 檢舉建議專區 https://imgur.com/NpL69p3.jpg\n"
     ]
    },
    {
     "data": {
      "text/html": [
       "<img src=\"https://imgur.com/NpL69p3.jpg\"/>"
      ],
      "text/plain": [
       "<IPython.core.display.Image object>"
      ]
     },
     "metadata": {},
     "output_type": "display_data"
    },
    {
     "name": "stdout",
     "output_type": "stream",
     "text": [
      "[公告] 不願上表特 ＆ 優文推薦 ＆ 檢舉建議專區 https://imgur.com/eqLR6Mu.jpg\n"
     ]
    },
    {
     "data": {
      "text/html": [
       "<img src=\"https://imgur.com/eqLR6Mu.jpg\"/>"
      ],
      "text/plain": [
       "<IPython.core.display.Image object>"
      ]
     },
     "metadata": {},
     "output_type": "display_data"
    },
    {
     "name": "stdout",
     "output_type": "stream",
     "text": [
      "[公告] 不願上表特 ＆ 優文推薦 ＆ 檢舉建議專區 http://i.imgur.com/FiIMYPb.jpg\n"
     ]
    },
    {
     "data": {
      "text/html": [
       "<img src=\"http://i.imgur.com/FiIMYPb.jpg\"/>"
      ],
      "text/plain": [
       "<IPython.core.display.Image object>"
      ]
     },
     "metadata": {},
     "output_type": "display_data"
    },
    {
     "name": "stdout",
     "output_type": "stream",
     "text": [
      "[公告] 不願上表特 ＆ 優文推薦 ＆ 檢舉建議專區 https://imgur.com/QvalIff.jpg\n"
     ]
    },
    {
     "data": {
      "text/html": [
       "<img src=\"https://imgur.com/QvalIff.jpg\"/>"
      ],
      "text/plain": [
       "<IPython.core.display.Image object>"
      ]
     },
     "metadata": {},
     "output_type": "display_data"
    },
    {
     "name": "stdout",
     "output_type": "stream",
     "text": [
      "[公告] 不願上表特 ＆ 優文推薦 ＆ 檢舉建議專區 http://i.imgur.com/FVYvTOr.jpg\n"
     ]
    },
    {
     "data": {
      "text/html": [
       "<img src=\"http://i.imgur.com/FVYvTOr.jpg\"/>"
      ],
      "text/plain": [
       "<IPython.core.display.Image object>"
      ]
     },
     "metadata": {},
     "output_type": "display_data"
    },
    {
     "name": "stdout",
     "output_type": "stream",
     "text": [
      "https://www.ptt.cc/bbs/Beauty/M.1537857350.A.12E.html Re: [正妹] imgur圖床上傳 複製連結教學\n",
      "https://i.imgur.com/L7YCAor.jpg https://i.imgur.com/Cv4ynrH.jpg https://i.imgur.com/JYP2rsA.jpg https://i.imgur.com/oqxkFn0.jpg https://imgur.com/a.jpg https://i.imgur.com/vrpSqSA.jpg https://i.imgur.com/KqmHuqV.jpg https://i.imgur.com/CW8PJfz.gif https://i.imgur.com/zLE6OX9.jpg https://i.imgur.com/K71GRfI.jpg https://i.imgur.com/8GPxd9q.png https://i.imgur.com/6wzKmbq.jpg https://i.imgur.com/xsQ0L88.jpg https://i.imgur.com/rg8qS2F.jpg https://i.imgur.com/4tJcJU9.jpg\n",
      "Re: [正妹] imgur圖床上傳 複製連結教學 https://i.imgur.com/L7YCAor.jpg\n"
     ]
    },
    {
     "data": {
      "text/html": [
       "<img src=\"https://i.imgur.com/L7YCAor.jpg\"/>"
      ],
      "text/plain": [
       "<IPython.core.display.Image object>"
      ]
     },
     "metadata": {},
     "output_type": "display_data"
    },
    {
     "name": "stdout",
     "output_type": "stream",
     "text": [
      "Re: [正妹] imgur圖床上傳 複製連結教學 https://i.imgur.com/Cv4ynrH.jpg\n"
     ]
    },
    {
     "data": {
      "text/html": [
       "<img src=\"https://i.imgur.com/Cv4ynrH.jpg\"/>"
      ],
      "text/plain": [
       "<IPython.core.display.Image object>"
      ]
     },
     "metadata": {},
     "output_type": "display_data"
    },
    {
     "name": "stdout",
     "output_type": "stream",
     "text": [
      "Re: [正妹] imgur圖床上傳 複製連結教學 https://i.imgur.com/JYP2rsA.jpg\n"
     ]
    },
    {
     "data": {
      "text/html": [
       "<img src=\"https://i.imgur.com/JYP2rsA.jpg\"/>"
      ],
      "text/plain": [
       "<IPython.core.display.Image object>"
      ]
     },
     "metadata": {},
     "output_type": "display_data"
    },
    {
     "name": "stdout",
     "output_type": "stream",
     "text": [
      "Re: [正妹] imgur圖床上傳 複製連結教學 https://i.imgur.com/oqxkFn0.jpg\n"
     ]
    },
    {
     "data": {
      "text/html": [
       "<img src=\"https://i.imgur.com/oqxkFn0.jpg\"/>"
      ],
      "text/plain": [
       "<IPython.core.display.Image object>"
      ]
     },
     "metadata": {},
     "output_type": "display_data"
    },
    {
     "name": "stdout",
     "output_type": "stream",
     "text": [
      "Re: [正妹] imgur圖床上傳 複製連結教學 https://imgur.com/a.jpg\n"
     ]
    },
    {
     "data": {
      "text/html": [
       "<img src=\"https://imgur.com/a.jpg\"/>"
      ],
      "text/plain": [
       "<IPython.core.display.Image object>"
      ]
     },
     "metadata": {},
     "output_type": "display_data"
    },
    {
     "name": "stdout",
     "output_type": "stream",
     "text": [
      "Re: [正妹] imgur圖床上傳 複製連結教學 https://i.imgur.com/vrpSqSA.jpg\n"
     ]
    },
    {
     "data": {
      "text/html": [
       "<img src=\"https://i.imgur.com/vrpSqSA.jpg\"/>"
      ],
      "text/plain": [
       "<IPython.core.display.Image object>"
      ]
     },
     "metadata": {},
     "output_type": "display_data"
    },
    {
     "name": "stdout",
     "output_type": "stream",
     "text": [
      "Re: [正妹] imgur圖床上傳 複製連結教學 https://i.imgur.com/KqmHuqV.jpg\n"
     ]
    },
    {
     "data": {
      "text/html": [
       "<img src=\"https://i.imgur.com/KqmHuqV.jpg\"/>"
      ],
      "text/plain": [
       "<IPython.core.display.Image object>"
      ]
     },
     "metadata": {},
     "output_type": "display_data"
    },
    {
     "name": "stdout",
     "output_type": "stream",
     "text": [
      "Re: [正妹] imgur圖床上傳 複製連結教學 https://i.imgur.com/CW8PJfz.gif\n"
     ]
    },
    {
     "data": {
      "text/html": [
       "<img src=\"https://i.imgur.com/CW8PJfz.gif\"/>"
      ],
      "text/plain": [
       "<IPython.core.display.Image object>"
      ]
     },
     "metadata": {},
     "output_type": "display_data"
    },
    {
     "name": "stdout",
     "output_type": "stream",
     "text": [
      "Re: [正妹] imgur圖床上傳 複製連結教學 https://i.imgur.com/zLE6OX9.jpg\n"
     ]
    },
    {
     "data": {
      "text/html": [
       "<img src=\"https://i.imgur.com/zLE6OX9.jpg\"/>"
      ],
      "text/plain": [
       "<IPython.core.display.Image object>"
      ]
     },
     "metadata": {},
     "output_type": "display_data"
    },
    {
     "name": "stdout",
     "output_type": "stream",
     "text": [
      "Re: [正妹] imgur圖床上傳 複製連結教學 https://i.imgur.com/K71GRfI.jpg\n"
     ]
    },
    {
     "data": {
      "text/html": [
       "<img src=\"https://i.imgur.com/K71GRfI.jpg\"/>"
      ],
      "text/plain": [
       "<IPython.core.display.Image object>"
      ]
     },
     "metadata": {},
     "output_type": "display_data"
    },
    {
     "name": "stdout",
     "output_type": "stream",
     "text": [
      "Re: [正妹] imgur圖床上傳 複製連結教學 https://i.imgur.com/8GPxd9q.png\n"
     ]
    },
    {
     "data": {
      "text/html": [
       "<img src=\"https://i.imgur.com/8GPxd9q.png\"/>"
      ],
      "text/plain": [
       "<IPython.core.display.Image object>"
      ]
     },
     "metadata": {},
     "output_type": "display_data"
    },
    {
     "name": "stdout",
     "output_type": "stream",
     "text": [
      "Re: [正妹] imgur圖床上傳 複製連結教學 https://i.imgur.com/6wzKmbq.jpg\n"
     ]
    },
    {
     "data": {
      "text/html": [
       "<img src=\"https://i.imgur.com/6wzKmbq.jpg\"/>"
      ],
      "text/plain": [
       "<IPython.core.display.Image object>"
      ]
     },
     "metadata": {},
     "output_type": "display_data"
    },
    {
     "name": "stdout",
     "output_type": "stream",
     "text": [
      "Re: [正妹] imgur圖床上傳 複製連結教學 https://i.imgur.com/xsQ0L88.jpg\n"
     ]
    },
    {
     "data": {
      "text/html": [
       "<img src=\"https://i.imgur.com/xsQ0L88.jpg\"/>"
      ],
      "text/plain": [
       "<IPython.core.display.Image object>"
      ]
     },
     "metadata": {},
     "output_type": "display_data"
    },
    {
     "name": "stdout",
     "output_type": "stream",
     "text": [
      "Re: [正妹] imgur圖床上傳 複製連結教學 https://i.imgur.com/rg8qS2F.jpg\n"
     ]
    },
    {
     "data": {
      "text/html": [
       "<img src=\"https://i.imgur.com/rg8qS2F.jpg\"/>"
      ],
      "text/plain": [
       "<IPython.core.display.Image object>"
      ]
     },
     "metadata": {},
     "output_type": "display_data"
    },
    {
     "name": "stdout",
     "output_type": "stream",
     "text": [
      "Re: [正妹] imgur圖床上傳 複製連結教學 https://i.imgur.com/4tJcJU9.jpg\n"
     ]
    },
    {
     "data": {
      "text/html": [
       "<img src=\"https://i.imgur.com/4tJcJU9.jpg\"/>"
      ],
      "text/plain": [
       "<IPython.core.display.Image object>"
      ]
     },
     "metadata": {},
     "output_type": "display_data"
    },
    {
     "name": "stdout",
     "output_type": "stream",
     "text": [
      "https://www.ptt.cc/bbs/Beauty/M.1548484334.A.3DA.html [公告] 表特板板規 (2019.1.26)\n",
      "\n",
      "https://www.ptt.cc/bbs/Beauty/M.1555331569.A.69C.html [公告] 板規修訂案 & 板規宣導事項\n",
      "https://i.imgur.com/2DcKZaN.jpg http://i.imgur.com/5jgOv9l.jpg https://i.imgur.com/DXN1VzO.jpg https://i.imgur.com/Yg1vGHj.jpg https://i.imgur.com/tnBqChO.png http://i.imgur.com/JtDnPl8.jpg https://i.imgur.com/1jRqqpj.jpg https://i.imgur.com/GPctVEY.jpg https://i.imgur.com/FNMk3Dj.jpg https://i.imgur.com/oBBphUy.jpg https://i.imgur.com/fCAQUjM.jpg https://i.imgur.com/4Pc32Bj.jpg https://i.imgur.com/tZuZlqh.jpg https://i.imgur.com/Q5ZUdow.jpg https://i.imgur.com/m8t4XNR.jpg https://i.imgur.com/ujXsqV2.jpg https://i.imgur.com/WzWy6hw.jpg https://i.imgur.com/SAKDZaN.jpg http://i.imgur.com/iXclWux.jpg http://i.imgur.com/pJ2EeIw.jpg http://i.imgur.com/U7UUlOi.jpg\n",
      "[公告] 板規修訂案 & 板規宣導事項 https://i.imgur.com/2DcKZaN.jpg\n"
     ]
    },
    {
     "data": {
      "text/html": [
       "<img src=\"https://i.imgur.com/2DcKZaN.jpg\"/>"
      ],
      "text/plain": [
       "<IPython.core.display.Image object>"
      ]
     },
     "metadata": {},
     "output_type": "display_data"
    },
    {
     "name": "stdout",
     "output_type": "stream",
     "text": [
      "[公告] 板規修訂案 & 板規宣導事項 http://i.imgur.com/5jgOv9l.jpg\n"
     ]
    },
    {
     "data": {
      "text/html": [
       "<img src=\"http://i.imgur.com/5jgOv9l.jpg\"/>"
      ],
      "text/plain": [
       "<IPython.core.display.Image object>"
      ]
     },
     "metadata": {},
     "output_type": "display_data"
    },
    {
     "name": "stdout",
     "output_type": "stream",
     "text": [
      "[公告] 板規修訂案 & 板規宣導事項 https://i.imgur.com/DXN1VzO.jpg\n"
     ]
    },
    {
     "data": {
      "text/html": [
       "<img src=\"https://i.imgur.com/DXN1VzO.jpg\"/>"
      ],
      "text/plain": [
       "<IPython.core.display.Image object>"
      ]
     },
     "metadata": {},
     "output_type": "display_data"
    },
    {
     "name": "stdout",
     "output_type": "stream",
     "text": [
      "[公告] 板規修訂案 & 板規宣導事項 https://i.imgur.com/Yg1vGHj.jpg\n"
     ]
    },
    {
     "data": {
      "text/html": [
       "<img src=\"https://i.imgur.com/Yg1vGHj.jpg\"/>"
      ],
      "text/plain": [
       "<IPython.core.display.Image object>"
      ]
     },
     "metadata": {},
     "output_type": "display_data"
    },
    {
     "name": "stdout",
     "output_type": "stream",
     "text": [
      "[公告] 板規修訂案 & 板規宣導事項 https://i.imgur.com/tnBqChO.png\n"
     ]
    },
    {
     "data": {
      "text/html": [
       "<img src=\"https://i.imgur.com/tnBqChO.png\"/>"
      ],
      "text/plain": [
       "<IPython.core.display.Image object>"
      ]
     },
     "metadata": {},
     "output_type": "display_data"
    },
    {
     "name": "stdout",
     "output_type": "stream",
     "text": [
      "[公告] 板規修訂案 & 板規宣導事項 http://i.imgur.com/JtDnPl8.jpg\n"
     ]
    },
    {
     "data": {
      "text/html": [
       "<img src=\"http://i.imgur.com/JtDnPl8.jpg\"/>"
      ],
      "text/plain": [
       "<IPython.core.display.Image object>"
      ]
     },
     "metadata": {},
     "output_type": "display_data"
    },
    {
     "name": "stdout",
     "output_type": "stream",
     "text": [
      "[公告] 板規修訂案 & 板規宣導事項 https://i.imgur.com/1jRqqpj.jpg\n"
     ]
    },
    {
     "data": {
      "text/html": [
       "<img src=\"https://i.imgur.com/1jRqqpj.jpg\"/>"
      ],
      "text/plain": [
       "<IPython.core.display.Image object>"
      ]
     },
     "metadata": {},
     "output_type": "display_data"
    },
    {
     "name": "stdout",
     "output_type": "stream",
     "text": [
      "[公告] 板規修訂案 & 板規宣導事項 https://i.imgur.com/GPctVEY.jpg\n"
     ]
    },
    {
     "data": {
      "text/html": [
       "<img src=\"https://i.imgur.com/GPctVEY.jpg\"/>"
      ],
      "text/plain": [
       "<IPython.core.display.Image object>"
      ]
     },
     "metadata": {},
     "output_type": "display_data"
    },
    {
     "name": "stdout",
     "output_type": "stream",
     "text": [
      "[公告] 板規修訂案 & 板規宣導事項 https://i.imgur.com/FNMk3Dj.jpg\n"
     ]
    },
    {
     "data": {
      "text/html": [
       "<img src=\"https://i.imgur.com/FNMk3Dj.jpg\"/>"
      ],
      "text/plain": [
       "<IPython.core.display.Image object>"
      ]
     },
     "metadata": {},
     "output_type": "display_data"
    },
    {
     "name": "stdout",
     "output_type": "stream",
     "text": [
      "[公告] 板規修訂案 & 板規宣導事項 https://i.imgur.com/oBBphUy.jpg\n"
     ]
    },
    {
     "data": {
      "text/html": [
       "<img src=\"https://i.imgur.com/oBBphUy.jpg\"/>"
      ],
      "text/plain": [
       "<IPython.core.display.Image object>"
      ]
     },
     "metadata": {},
     "output_type": "display_data"
    },
    {
     "name": "stdout",
     "output_type": "stream",
     "text": [
      "[公告] 板規修訂案 & 板規宣導事項 https://i.imgur.com/fCAQUjM.jpg\n"
     ]
    },
    {
     "data": {
      "text/html": [
       "<img src=\"https://i.imgur.com/fCAQUjM.jpg\"/>"
      ],
      "text/plain": [
       "<IPython.core.display.Image object>"
      ]
     },
     "metadata": {},
     "output_type": "display_data"
    },
    {
     "name": "stdout",
     "output_type": "stream",
     "text": [
      "[公告] 板規修訂案 & 板規宣導事項 https://i.imgur.com/4Pc32Bj.jpg\n"
     ]
    },
    {
     "data": {
      "text/html": [
       "<img src=\"https://i.imgur.com/4Pc32Bj.jpg\"/>"
      ],
      "text/plain": [
       "<IPython.core.display.Image object>"
      ]
     },
     "metadata": {},
     "output_type": "display_data"
    },
    {
     "name": "stdout",
     "output_type": "stream",
     "text": [
      "[公告] 板規修訂案 & 板規宣導事項 https://i.imgur.com/tZuZlqh.jpg\n"
     ]
    },
    {
     "data": {
      "text/html": [
       "<img src=\"https://i.imgur.com/tZuZlqh.jpg\"/>"
      ],
      "text/plain": [
       "<IPython.core.display.Image object>"
      ]
     },
     "metadata": {},
     "output_type": "display_data"
    },
    {
     "name": "stdout",
     "output_type": "stream",
     "text": [
      "[公告] 板規修訂案 & 板規宣導事項 https://i.imgur.com/Q5ZUdow.jpg\n"
     ]
    },
    {
     "data": {
      "text/html": [
       "<img src=\"https://i.imgur.com/Q5ZUdow.jpg\"/>"
      ],
      "text/plain": [
       "<IPython.core.display.Image object>"
      ]
     },
     "metadata": {},
     "output_type": "display_data"
    },
    {
     "name": "stdout",
     "output_type": "stream",
     "text": [
      "[公告] 板規修訂案 & 板規宣導事項 https://i.imgur.com/m8t4XNR.jpg\n"
     ]
    },
    {
     "data": {
      "text/html": [
       "<img src=\"https://i.imgur.com/m8t4XNR.jpg\"/>"
      ],
      "text/plain": [
       "<IPython.core.display.Image object>"
      ]
     },
     "metadata": {},
     "output_type": "display_data"
    },
    {
     "name": "stdout",
     "output_type": "stream",
     "text": [
      "[公告] 板規修訂案 & 板規宣導事項 https://i.imgur.com/ujXsqV2.jpg\n"
     ]
    },
    {
     "data": {
      "text/html": [
       "<img src=\"https://i.imgur.com/ujXsqV2.jpg\"/>"
      ],
      "text/plain": [
       "<IPython.core.display.Image object>"
      ]
     },
     "metadata": {},
     "output_type": "display_data"
    },
    {
     "name": "stdout",
     "output_type": "stream",
     "text": [
      "[公告] 板規修訂案 & 板規宣導事項 https://i.imgur.com/WzWy6hw.jpg\n"
     ]
    },
    {
     "data": {
      "text/html": [
       "<img src=\"https://i.imgur.com/WzWy6hw.jpg\"/>"
      ],
      "text/plain": [
       "<IPython.core.display.Image object>"
      ]
     },
     "metadata": {},
     "output_type": "display_data"
    },
    {
     "name": "stdout",
     "output_type": "stream",
     "text": [
      "[公告] 板規修訂案 & 板規宣導事項 https://i.imgur.com/SAKDZaN.jpg\n"
     ]
    },
    {
     "data": {
      "text/html": [
       "<img src=\"https://i.imgur.com/SAKDZaN.jpg\"/>"
      ],
      "text/plain": [
       "<IPython.core.display.Image object>"
      ]
     },
     "metadata": {},
     "output_type": "display_data"
    },
    {
     "name": "stdout",
     "output_type": "stream",
     "text": [
      "[公告] 板規修訂案 & 板規宣導事項 http://i.imgur.com/iXclWux.jpg\n"
     ]
    },
    {
     "data": {
      "text/html": [
       "<img src=\"http://i.imgur.com/iXclWux.jpg\"/>"
      ],
      "text/plain": [
       "<IPython.core.display.Image object>"
      ]
     },
     "metadata": {},
     "output_type": "display_data"
    },
    {
     "name": "stdout",
     "output_type": "stream",
     "text": [
      "[公告] 板規修訂案 & 板規宣導事項 http://i.imgur.com/pJ2EeIw.jpg\n"
     ]
    },
    {
     "data": {
      "text/html": [
       "<img src=\"http://i.imgur.com/pJ2EeIw.jpg\"/>"
      ],
      "text/plain": [
       "<IPython.core.display.Image object>"
      ]
     },
     "metadata": {},
     "output_type": "display_data"
    },
    {
     "name": "stdout",
     "output_type": "stream",
     "text": [
      "[公告] 板規修訂案 & 板規宣導事項 http://i.imgur.com/U7UUlOi.jpg\n"
     ]
    },
    {
     "data": {
      "text/html": [
       "<img src=\"http://i.imgur.com/U7UUlOi.jpg\"/>"
      ],
      "text/plain": [
       "<IPython.core.display.Image object>"
      ]
     },
     "metadata": {},
     "output_type": "display_data"
    },
    {
     "name": "stdout",
     "output_type": "stream",
     "text": [
      "https://www.ptt.cc/bbs/Beauty/M.1555586764.A.29D.html Fw: [申請] Beauty 板發文門檻變更\n",
      "\n",
      "/bbs/Beauty/index2917.html\n",
      "開始讀取頁面: https://www.ptt.cc/bbs/Beauty/index2917.html\n",
      "https://www.ptt.cc/bbs/Beauty/M.1555677400.A.C65.html [正妹] 小巨人-橋本環奈\n",
      "https://imgur.com/kJCP2pY.jpg\n",
      "[正妹] 小巨人-橋本環奈 https://imgur.com/kJCP2pY.jpg\n"
     ]
    },
    {
     "data": {
      "text/html": [
       "<img src=\"https://imgur.com/kJCP2pY.jpg\"/>"
      ],
      "text/plain": [
       "<IPython.core.display.Image object>"
      ]
     },
     "metadata": {},
     "output_type": "display_data"
    },
    {
     "name": "stdout",
     "output_type": "stream",
     "text": [
      "https://www.ptt.cc/bbs/Beauty/M.1555679409.A.013.html [正妹] 出賣朋友\n",
      "https://i.imgur.com/lce2tDc.jpg https://i.imgur.com/NQ03NUn.jpg https://i.imgur.com/4OY4lFA.jpg https://i.imgur.com/Yul0VCD.jpg https://i.imgur.com/mMeqyKv.jpg https://i.imgur.com/6F00CrQ.jpg\n",
      "[正妹] 出賣朋友 https://i.imgur.com/lce2tDc.jpg\n"
     ]
    },
    {
     "data": {
      "text/html": [
       "<img src=\"https://i.imgur.com/lce2tDc.jpg\"/>"
      ],
      "text/plain": [
       "<IPython.core.display.Image object>"
      ]
     },
     "metadata": {},
     "output_type": "display_data"
    },
    {
     "name": "stdout",
     "output_type": "stream",
     "text": [
      "[正妹] 出賣朋友 https://i.imgur.com/NQ03NUn.jpg\n"
     ]
    },
    {
     "data": {
      "text/html": [
       "<img src=\"https://i.imgur.com/NQ03NUn.jpg\"/>"
      ],
      "text/plain": [
       "<IPython.core.display.Image object>"
      ]
     },
     "metadata": {},
     "output_type": "display_data"
    },
    {
     "name": "stdout",
     "output_type": "stream",
     "text": [
      "[正妹] 出賣朋友 https://i.imgur.com/4OY4lFA.jpg\n"
     ]
    },
    {
     "data": {
      "text/html": [
       "<img src=\"https://i.imgur.com/4OY4lFA.jpg\"/>"
      ],
      "text/plain": [
       "<IPython.core.display.Image object>"
      ]
     },
     "metadata": {},
     "output_type": "display_data"
    },
    {
     "name": "stdout",
     "output_type": "stream",
     "text": [
      "[正妹] 出賣朋友 https://i.imgur.com/Yul0VCD.jpg\n"
     ]
    },
    {
     "data": {
      "text/html": [
       "<img src=\"https://i.imgur.com/Yul0VCD.jpg\"/>"
      ],
      "text/plain": [
       "<IPython.core.display.Image object>"
      ]
     },
     "metadata": {},
     "output_type": "display_data"
    },
    {
     "name": "stdout",
     "output_type": "stream",
     "text": [
      "[正妹] 出賣朋友 https://i.imgur.com/mMeqyKv.jpg\n"
     ]
    },
    {
     "data": {
      "text/html": [
       "<img src=\"https://i.imgur.com/mMeqyKv.jpg\"/>"
      ],
      "text/plain": [
       "<IPython.core.display.Image object>"
      ]
     },
     "metadata": {},
     "output_type": "display_data"
    },
    {
     "name": "stdout",
     "output_type": "stream",
     "text": [
      "[正妹] 出賣朋友 https://i.imgur.com/6F00CrQ.jpg\n"
     ]
    },
    {
     "data": {
      "text/html": [
       "<img src=\"https://i.imgur.com/6F00CrQ.jpg\"/>"
      ],
      "text/plain": [
       "<IPython.core.display.Image object>"
      ]
     },
     "metadata": {},
     "output_type": "display_data"
    },
    {
     "name": "stdout",
     "output_type": "stream",
     "text": [
      "https://www.ptt.cc/bbs/Beauty/M.1555680553.A.D4E.html [帥哥] 最接近神的男人\n",
      "https://i.imgur.com/LDE0Bg7.jpg\n",
      "[帥哥] 最接近神的男人 https://i.imgur.com/LDE0Bg7.jpg\n"
     ]
    },
    {
     "data": {
      "text/html": [
       "<img src=\"https://i.imgur.com/LDE0Bg7.jpg\"/>"
      ],
      "text/plain": [
       "<IPython.core.display.Image object>"
      ]
     },
     "metadata": {},
     "output_type": "display_data"
    },
    {
     "name": "stdout",
     "output_type": "stream",
     "text": [
      "https://www.ptt.cc/bbs/Beauty/M.1555681270.A.461.html [帥哥] 最接近神的男人\n",
      "https://i.imgur.com/xiNoxRw.jpg\n",
      "[帥哥] 最接近神的男人 https://i.imgur.com/xiNoxRw.jpg\n"
     ]
    },
    {
     "data": {
      "text/html": [
       "<img src=\"https://i.imgur.com/xiNoxRw.jpg\"/>"
      ],
      "text/plain": [
       "<IPython.core.display.Image object>"
      ]
     },
     "metadata": {},
     "output_type": "display_data"
    },
    {
     "name": "stdout",
     "output_type": "stream",
     "text": [
      "https://www.ptt.cc/bbs/Beauty/M.1555681907.A.A6C.html [帥哥] 性感A BODY一張\n",
      "https://i.imgur.com/7uYQQi8.jpg\n",
      "[帥哥] 性感A BODY一張 https://i.imgur.com/7uYQQi8.jpg\n"
     ]
    },
    {
     "data": {
      "text/html": [
       "<img src=\"https://i.imgur.com/7uYQQi8.jpg\"/>"
      ],
      "text/plain": [
       "<IPython.core.display.Image object>"
      ]
     },
     "metadata": {},
     "output_type": "display_data"
    },
    {
     "name": "stdout",
     "output_type": "stream",
     "text": [
      "https://www.ptt.cc/bbs/Beauty/M.1555681997.A.B5E.html [正妹] 清新脫俗民意代表\n",
      "https://i.imgur.com/m8BwzU6.jpg https://i.imgur.com/EzUMjpq.jpg https://i.imgur.com/PGYiikA.jpg https://i.imgur.com/OifdYki.jpg\n",
      "[正妹] 清新脫俗民意代表 https://i.imgur.com/m8BwzU6.jpg\n"
     ]
    },
    {
     "data": {
      "text/html": [
       "<img src=\"https://i.imgur.com/m8BwzU6.jpg\"/>"
      ],
      "text/plain": [
       "<IPython.core.display.Image object>"
      ]
     },
     "metadata": {},
     "output_type": "display_data"
    },
    {
     "name": "stdout",
     "output_type": "stream",
     "text": [
      "[正妹] 清新脫俗民意代表 https://i.imgur.com/EzUMjpq.jpg\n"
     ]
    },
    {
     "data": {
      "text/html": [
       "<img src=\"https://i.imgur.com/EzUMjpq.jpg\"/>"
      ],
      "text/plain": [
       "<IPython.core.display.Image object>"
      ]
     },
     "metadata": {},
     "output_type": "display_data"
    },
    {
     "name": "stdout",
     "output_type": "stream",
     "text": [
      "[正妹] 清新脫俗民意代表 https://i.imgur.com/PGYiikA.jpg\n"
     ]
    },
    {
     "data": {
      "text/html": [
       "<img src=\"https://i.imgur.com/PGYiikA.jpg\"/>"
      ],
      "text/plain": [
       "<IPython.core.display.Image object>"
      ]
     },
     "metadata": {},
     "output_type": "display_data"
    },
    {
     "name": "stdout",
     "output_type": "stream",
     "text": [
      "[正妹] 清新脫俗民意代表 https://i.imgur.com/OifdYki.jpg\n"
     ]
    },
    {
     "data": {
      "text/html": [
       "<img src=\"https://i.imgur.com/OifdYki.jpg\"/>"
      ],
      "text/plain": [
       "<IPython.core.display.Image object>"
      ]
     },
     "metadata": {},
     "output_type": "display_data"
    },
    {
     "name": "stdout",
     "output_type": "stream",
     "text": [
      "https://www.ptt.cc/bbs/Beauty/M.1555682623.A.ADF.html [正妹] 清純少女分享\n",
      "https://i.imgur.com/JtKU7eg.jpg https://i.imgur.com/Qx6fFL5.jpg\n",
      "[正妹] 清純少女分享 https://i.imgur.com/JtKU7eg.jpg\n"
     ]
    },
    {
     "data": {
      "text/html": [
       "<img src=\"https://i.imgur.com/JtKU7eg.jpg\"/>"
      ],
      "text/plain": [
       "<IPython.core.display.Image object>"
      ]
     },
     "metadata": {},
     "output_type": "display_data"
    },
    {
     "name": "stdout",
     "output_type": "stream",
     "text": [
      "[正妹] 清純少女分享 https://i.imgur.com/Qx6fFL5.jpg\n"
     ]
    },
    {
     "data": {
      "text/html": [
       "<img src=\"https://i.imgur.com/Qx6fFL5.jpg\"/>"
      ],
      "text/plain": [
       "<IPython.core.display.Image object>"
      ]
     },
     "metadata": {},
     "output_type": "display_data"
    },
    {
     "name": "stdout",
     "output_type": "stream",
     "text": [
      "https://www.ptt.cc/bbs/Beauty/M.1555683574.A.FE8.html [帥哥] 是藍亦明? 還是...菜渣?\n",
      "https://i.imgur.com/Xo6VzyV.jpg https://i.imgur.com/x4YX6Xe.jpg https://i.imgur.com/doQXp8b.jpg https://i.imgur.com/BTURm9R.jpg https://i.imgur.com/0MdABgj.jpg https://i.imgur.com/SDECoX0.jpg https://i.imgur.com/oEhlOFI.jpg https://i.imgur.com/3F3drCx.jpg https://i.imgur.com/4vaOpfY.jpg https://i.imgur.com/PuNu8MS.jpg https://i.imgur.com/b9uRhiV.jpg https://i.imgur.com/4rAMuja.jpg\n",
      "[帥哥] 是藍亦明? 還是...菜渣? https://i.imgur.com/Xo6VzyV.jpg\n"
     ]
    },
    {
     "data": {
      "text/html": [
       "<img src=\"https://i.imgur.com/Xo6VzyV.jpg\"/>"
      ],
      "text/plain": [
       "<IPython.core.display.Image object>"
      ]
     },
     "metadata": {},
     "output_type": "display_data"
    },
    {
     "name": "stdout",
     "output_type": "stream",
     "text": [
      "[帥哥] 是藍亦明? 還是...菜渣? https://i.imgur.com/x4YX6Xe.jpg\n"
     ]
    },
    {
     "data": {
      "text/html": [
       "<img src=\"https://i.imgur.com/x4YX6Xe.jpg\"/>"
      ],
      "text/plain": [
       "<IPython.core.display.Image object>"
      ]
     },
     "metadata": {},
     "output_type": "display_data"
    },
    {
     "name": "stdout",
     "output_type": "stream",
     "text": [
      "[帥哥] 是藍亦明? 還是...菜渣? https://i.imgur.com/doQXp8b.jpg\n"
     ]
    },
    {
     "data": {
      "text/html": [
       "<img src=\"https://i.imgur.com/doQXp8b.jpg\"/>"
      ],
      "text/plain": [
       "<IPython.core.display.Image object>"
      ]
     },
     "metadata": {},
     "output_type": "display_data"
    },
    {
     "name": "stdout",
     "output_type": "stream",
     "text": [
      "[帥哥] 是藍亦明? 還是...菜渣? https://i.imgur.com/BTURm9R.jpg\n"
     ]
    },
    {
     "data": {
      "text/html": [
       "<img src=\"https://i.imgur.com/BTURm9R.jpg\"/>"
      ],
      "text/plain": [
       "<IPython.core.display.Image object>"
      ]
     },
     "metadata": {},
     "output_type": "display_data"
    },
    {
     "name": "stdout",
     "output_type": "stream",
     "text": [
      "[帥哥] 是藍亦明? 還是...菜渣? https://i.imgur.com/0MdABgj.jpg\n"
     ]
    },
    {
     "data": {
      "text/html": [
       "<img src=\"https://i.imgur.com/0MdABgj.jpg\"/>"
      ],
      "text/plain": [
       "<IPython.core.display.Image object>"
      ]
     },
     "metadata": {},
     "output_type": "display_data"
    },
    {
     "name": "stdout",
     "output_type": "stream",
     "text": [
      "[帥哥] 是藍亦明? 還是...菜渣? https://i.imgur.com/SDECoX0.jpg\n"
     ]
    },
    {
     "data": {
      "text/html": [
       "<img src=\"https://i.imgur.com/SDECoX0.jpg\"/>"
      ],
      "text/plain": [
       "<IPython.core.display.Image object>"
      ]
     },
     "metadata": {},
     "output_type": "display_data"
    },
    {
     "name": "stdout",
     "output_type": "stream",
     "text": [
      "[帥哥] 是藍亦明? 還是...菜渣? https://i.imgur.com/oEhlOFI.jpg\n"
     ]
    },
    {
     "data": {
      "text/html": [
       "<img src=\"https://i.imgur.com/oEhlOFI.jpg\"/>"
      ],
      "text/plain": [
       "<IPython.core.display.Image object>"
      ]
     },
     "metadata": {},
     "output_type": "display_data"
    },
    {
     "name": "stdout",
     "output_type": "stream",
     "text": [
      "[帥哥] 是藍亦明? 還是...菜渣? https://i.imgur.com/3F3drCx.jpg\n"
     ]
    },
    {
     "data": {
      "text/html": [
       "<img src=\"https://i.imgur.com/3F3drCx.jpg\"/>"
      ],
      "text/plain": [
       "<IPython.core.display.Image object>"
      ]
     },
     "metadata": {},
     "output_type": "display_data"
    },
    {
     "name": "stdout",
     "output_type": "stream",
     "text": [
      "[帥哥] 是藍亦明? 還是...菜渣? https://i.imgur.com/4vaOpfY.jpg\n"
     ]
    },
    {
     "data": {
      "text/html": [
       "<img src=\"https://i.imgur.com/4vaOpfY.jpg\"/>"
      ],
      "text/plain": [
       "<IPython.core.display.Image object>"
      ]
     },
     "metadata": {},
     "output_type": "display_data"
    },
    {
     "name": "stdout",
     "output_type": "stream",
     "text": [
      "[帥哥] 是藍亦明? 還是...菜渣? https://i.imgur.com/PuNu8MS.jpg\n"
     ]
    },
    {
     "data": {
      "text/html": [
       "<img src=\"https://i.imgur.com/PuNu8MS.jpg\"/>"
      ],
      "text/plain": [
       "<IPython.core.display.Image object>"
      ]
     },
     "metadata": {},
     "output_type": "display_data"
    },
    {
     "name": "stdout",
     "output_type": "stream",
     "text": [
      "[帥哥] 是藍亦明? 還是...菜渣? https://i.imgur.com/b9uRhiV.jpg\n"
     ]
    },
    {
     "data": {
      "text/html": [
       "<img src=\"https://i.imgur.com/b9uRhiV.jpg\"/>"
      ],
      "text/plain": [
       "<IPython.core.display.Image object>"
      ]
     },
     "metadata": {},
     "output_type": "display_data"
    },
    {
     "name": "stdout",
     "output_type": "stream",
     "text": [
      "[帥哥] 是藍亦明? 還是...菜渣? https://i.imgur.com/4rAMuja.jpg\n"
     ]
    },
    {
     "data": {
      "text/html": [
       "<img src=\"https://i.imgur.com/4rAMuja.jpg\"/>"
      ],
      "text/plain": [
       "<IPython.core.display.Image object>"
      ]
     },
     "metadata": {},
     "output_type": "display_data"
    },
    {
     "name": "stdout",
     "output_type": "stream",
     "text": [
      "https://www.ptt.cc/bbs/Beauty/M.1555683747.A.774.html [正妹] 濃眉大眼正妹\n",
      "https://i.imgur.com/HsDelHJ.jpg\n",
      "[正妹] 濃眉大眼正妹 https://i.imgur.com/HsDelHJ.jpg\n"
     ]
    },
    {
     "data": {
      "text/html": [
       "<img src=\"https://i.imgur.com/HsDelHJ.jpg\"/>"
      ],
      "text/plain": [
       "<IPython.core.display.Image object>"
      ]
     },
     "metadata": {},
     "output_type": "display_data"
    },
    {
     "name": "stdout",
     "output_type": "stream",
     "text": [
      "https://www.ptt.cc/bbs/Beauty/M.1555686520.A.197.html [正妹] 峮峮\n",
      "https://imgur.com/KDkNm5H.jpg https://imgur.com/SCB9iSz.jpg https://imgur.com/Fh2rrjQ.jpg https://imgur.com/rUQRmVD.jpg https://imgur.com/l51xMmQ.jpg https://imgur.com/LeklTew.jpg https://imgur.com/BhN5mm8.jpg\n",
      "[正妹] 峮峮 https://imgur.com/KDkNm5H.jpg\n"
     ]
    },
    {
     "data": {
      "text/html": [
       "<img src=\"https://imgur.com/KDkNm5H.jpg\"/>"
      ],
      "text/plain": [
       "<IPython.core.display.Image object>"
      ]
     },
     "metadata": {},
     "output_type": "display_data"
    },
    {
     "name": "stdout",
     "output_type": "stream",
     "text": [
      "[正妹] 峮峮 https://imgur.com/SCB9iSz.jpg\n"
     ]
    },
    {
     "data": {
      "text/html": [
       "<img src=\"https://imgur.com/SCB9iSz.jpg\"/>"
      ],
      "text/plain": [
       "<IPython.core.display.Image object>"
      ]
     },
     "metadata": {},
     "output_type": "display_data"
    },
    {
     "name": "stdout",
     "output_type": "stream",
     "text": [
      "[正妹] 峮峮 https://imgur.com/Fh2rrjQ.jpg\n"
     ]
    },
    {
     "data": {
      "text/html": [
       "<img src=\"https://imgur.com/Fh2rrjQ.jpg\"/>"
      ],
      "text/plain": [
       "<IPython.core.display.Image object>"
      ]
     },
     "metadata": {},
     "output_type": "display_data"
    },
    {
     "name": "stdout",
     "output_type": "stream",
     "text": [
      "[正妹] 峮峮 https://imgur.com/rUQRmVD.jpg\n"
     ]
    },
    {
     "data": {
      "text/html": [
       "<img src=\"https://imgur.com/rUQRmVD.jpg\"/>"
      ],
      "text/plain": [
       "<IPython.core.display.Image object>"
      ]
     },
     "metadata": {},
     "output_type": "display_data"
    },
    {
     "name": "stdout",
     "output_type": "stream",
     "text": [
      "[正妹] 峮峮 https://imgur.com/l51xMmQ.jpg\n"
     ]
    },
    {
     "data": {
      "text/html": [
       "<img src=\"https://imgur.com/l51xMmQ.jpg\"/>"
      ],
      "text/plain": [
       "<IPython.core.display.Image object>"
      ]
     },
     "metadata": {},
     "output_type": "display_data"
    },
    {
     "name": "stdout",
     "output_type": "stream",
     "text": [
      "[正妹] 峮峮 https://imgur.com/LeklTew.jpg\n"
     ]
    },
    {
     "data": {
      "text/html": [
       "<img src=\"https://imgur.com/LeklTew.jpg\"/>"
      ],
      "text/plain": [
       "<IPython.core.display.Image object>"
      ]
     },
     "metadata": {},
     "output_type": "display_data"
    },
    {
     "name": "stdout",
     "output_type": "stream",
     "text": [
      "[正妹] 峮峮 https://imgur.com/BhN5mm8.jpg\n"
     ]
    },
    {
     "data": {
      "text/html": [
       "<img src=\"https://imgur.com/BhN5mm8.jpg\"/>"
      ],
      "text/plain": [
       "<IPython.core.display.Image object>"
      ]
     },
     "metadata": {},
     "output_type": "display_data"
    },
    {
     "name": "stdout",
     "output_type": "stream",
     "text": [
      "https://www.ptt.cc/bbs/Beauty/M.1555686795.A.923.html [正妹] 國民老婆 秋本麗子\n",
      "https://i.imgur.com/1yiFddJ.jpg https://i.imgur.com/BdxaRH9.jpg https://i.imgur.com/jpUzBBm.jpg http://i.imgur.com/Th5ENMZ.gif https://i.imgur.com/JD5t8bP.jpg https://i.imgur.com/3V2bqSc.jpg http://i.imgur.com/8KSfvvY.jpg https://i.imgur.com/XfGaRLw.jpg https://i.imgur.com/mIREfpB.jpg https://i.imgur.com/wXKl1DI.jpg https://i.imgur.com/ULyACJY.jpg https://i.imgur.com/QbYrzAf.jpg https://i.imgur.com/xM1jwfy.png https://i.imgur.com/wwI0una.jpg http://i.imgur.com/XL1IWy6.jpg https://i.imgur.com/CQV4oV6.png https://i.imgur.com/Zm8F8ge.jpg https://i.imgur.com/HjyGwlx.jpg https://i.imgur.com/lnTFDAf.jpg https://i.imgur.com/XqeZMGA.jpg https://i.imgur.com/EUZNE5H.jpg https://i.imgur.com/pzeYjEV.jpg https://i.imgur.com/2Oo2swK.jpg https://i.imgur.com/udHgQqo.png http://i.imgur.com/SwkQNYN.jpg http://i.imgur.com/HkmOTDE.jpg https://i.imgur.com/uZCjqo5.jpg https://i.imgur.com/ojNFwoE.png https://i.imgur.com/J0p5CHp.gif https://i.imgur.com/9l6F4LT.png https://i.imgur.com/mPqapok.jpg https://i.imgur.com/Nari4Cf.jpg https://i.imgur.com/yp4ZCrB.jpg https://i.imgur.com/kGKngNy.jpg https://i.imgur.com/87p1YV4.jpg https://i.imgur.com/0OwBlTX.jpg https://i.imgur.com/kjt9w5s.png\n",
      "[正妹] 國民老婆 秋本麗子 https://i.imgur.com/1yiFddJ.jpg\n"
     ]
    },
    {
     "data": {
      "text/html": [
       "<img src=\"https://i.imgur.com/1yiFddJ.jpg\"/>"
      ],
      "text/plain": [
       "<IPython.core.display.Image object>"
      ]
     },
     "metadata": {},
     "output_type": "display_data"
    },
    {
     "name": "stdout",
     "output_type": "stream",
     "text": [
      "[正妹] 國民老婆 秋本麗子 https://i.imgur.com/BdxaRH9.jpg\n"
     ]
    },
    {
     "data": {
      "text/html": [
       "<img src=\"https://i.imgur.com/BdxaRH9.jpg\"/>"
      ],
      "text/plain": [
       "<IPython.core.display.Image object>"
      ]
     },
     "metadata": {},
     "output_type": "display_data"
    },
    {
     "name": "stdout",
     "output_type": "stream",
     "text": [
      "[正妹] 國民老婆 秋本麗子 https://i.imgur.com/jpUzBBm.jpg\n"
     ]
    },
    {
     "data": {
      "text/html": [
       "<img src=\"https://i.imgur.com/jpUzBBm.jpg\"/>"
      ],
      "text/plain": [
       "<IPython.core.display.Image object>"
      ]
     },
     "metadata": {},
     "output_type": "display_data"
    },
    {
     "name": "stdout",
     "output_type": "stream",
     "text": [
      "[正妹] 國民老婆 秋本麗子 http://i.imgur.com/Th5ENMZ.gif\n"
     ]
    },
    {
     "data": {
      "text/html": [
       "<img src=\"http://i.imgur.com/Th5ENMZ.gif\"/>"
      ],
      "text/plain": [
       "<IPython.core.display.Image object>"
      ]
     },
     "metadata": {},
     "output_type": "display_data"
    },
    {
     "name": "stdout",
     "output_type": "stream",
     "text": [
      "[正妹] 國民老婆 秋本麗子 https://i.imgur.com/JD5t8bP.jpg\n"
     ]
    },
    {
     "data": {
      "text/html": [
       "<img src=\"https://i.imgur.com/JD5t8bP.jpg\"/>"
      ],
      "text/plain": [
       "<IPython.core.display.Image object>"
      ]
     },
     "metadata": {},
     "output_type": "display_data"
    },
    {
     "name": "stdout",
     "output_type": "stream",
     "text": [
      "[正妹] 國民老婆 秋本麗子 https://i.imgur.com/3V2bqSc.jpg\n"
     ]
    },
    {
     "data": {
      "text/html": [
       "<img src=\"https://i.imgur.com/3V2bqSc.jpg\"/>"
      ],
      "text/plain": [
       "<IPython.core.display.Image object>"
      ]
     },
     "metadata": {},
     "output_type": "display_data"
    },
    {
     "name": "stdout",
     "output_type": "stream",
     "text": [
      "[正妹] 國民老婆 秋本麗子 http://i.imgur.com/8KSfvvY.jpg\n"
     ]
    },
    {
     "data": {
      "text/html": [
       "<img src=\"http://i.imgur.com/8KSfvvY.jpg\"/>"
      ],
      "text/plain": [
       "<IPython.core.display.Image object>"
      ]
     },
     "metadata": {},
     "output_type": "display_data"
    },
    {
     "name": "stdout",
     "output_type": "stream",
     "text": [
      "[正妹] 國民老婆 秋本麗子 https://i.imgur.com/XfGaRLw.jpg\n"
     ]
    },
    {
     "data": {
      "text/html": [
       "<img src=\"https://i.imgur.com/XfGaRLw.jpg\"/>"
      ],
      "text/plain": [
       "<IPython.core.display.Image object>"
      ]
     },
     "metadata": {},
     "output_type": "display_data"
    },
    {
     "name": "stdout",
     "output_type": "stream",
     "text": [
      "[正妹] 國民老婆 秋本麗子 https://i.imgur.com/mIREfpB.jpg\n"
     ]
    },
    {
     "data": {
      "text/html": [
       "<img src=\"https://i.imgur.com/mIREfpB.jpg\"/>"
      ],
      "text/plain": [
       "<IPython.core.display.Image object>"
      ]
     },
     "metadata": {},
     "output_type": "display_data"
    },
    {
     "name": "stdout",
     "output_type": "stream",
     "text": [
      "[正妹] 國民老婆 秋本麗子 https://i.imgur.com/wXKl1DI.jpg\n"
     ]
    },
    {
     "data": {
      "text/html": [
       "<img src=\"https://i.imgur.com/wXKl1DI.jpg\"/>"
      ],
      "text/plain": [
       "<IPython.core.display.Image object>"
      ]
     },
     "metadata": {},
     "output_type": "display_data"
    },
    {
     "name": "stdout",
     "output_type": "stream",
     "text": [
      "[正妹] 國民老婆 秋本麗子 https://i.imgur.com/ULyACJY.jpg\n"
     ]
    },
    {
     "data": {
      "text/html": [
       "<img src=\"https://i.imgur.com/ULyACJY.jpg\"/>"
      ],
      "text/plain": [
       "<IPython.core.display.Image object>"
      ]
     },
     "metadata": {},
     "output_type": "display_data"
    },
    {
     "name": "stdout",
     "output_type": "stream",
     "text": [
      "[正妹] 國民老婆 秋本麗子 https://i.imgur.com/QbYrzAf.jpg\n"
     ]
    },
    {
     "data": {
      "text/html": [
       "<img src=\"https://i.imgur.com/QbYrzAf.jpg\"/>"
      ],
      "text/plain": [
       "<IPython.core.display.Image object>"
      ]
     },
     "metadata": {},
     "output_type": "display_data"
    },
    {
     "name": "stdout",
     "output_type": "stream",
     "text": [
      "[正妹] 國民老婆 秋本麗子 https://i.imgur.com/xM1jwfy.png\n"
     ]
    },
    {
     "data": {
      "text/html": [
       "<img src=\"https://i.imgur.com/xM1jwfy.png\"/>"
      ],
      "text/plain": [
       "<IPython.core.display.Image object>"
      ]
     },
     "metadata": {},
     "output_type": "display_data"
    },
    {
     "name": "stdout",
     "output_type": "stream",
     "text": [
      "[正妹] 國民老婆 秋本麗子 https://i.imgur.com/wwI0una.jpg\n"
     ]
    },
    {
     "data": {
      "text/html": [
       "<img src=\"https://i.imgur.com/wwI0una.jpg\"/>"
      ],
      "text/plain": [
       "<IPython.core.display.Image object>"
      ]
     },
     "metadata": {},
     "output_type": "display_data"
    },
    {
     "name": "stdout",
     "output_type": "stream",
     "text": [
      "[正妹] 國民老婆 秋本麗子 http://i.imgur.com/XL1IWy6.jpg\n"
     ]
    },
    {
     "data": {
      "text/html": [
       "<img src=\"http://i.imgur.com/XL1IWy6.jpg\"/>"
      ],
      "text/plain": [
       "<IPython.core.display.Image object>"
      ]
     },
     "metadata": {},
     "output_type": "display_data"
    },
    {
     "name": "stdout",
     "output_type": "stream",
     "text": [
      "[正妹] 國民老婆 秋本麗子 https://i.imgur.com/CQV4oV6.png\n"
     ]
    },
    {
     "data": {
      "text/html": [
       "<img src=\"https://i.imgur.com/CQV4oV6.png\"/>"
      ],
      "text/plain": [
       "<IPython.core.display.Image object>"
      ]
     },
     "metadata": {},
     "output_type": "display_data"
    },
    {
     "name": "stdout",
     "output_type": "stream",
     "text": [
      "[正妹] 國民老婆 秋本麗子 https://i.imgur.com/Zm8F8ge.jpg\n"
     ]
    },
    {
     "data": {
      "text/html": [
       "<img src=\"https://i.imgur.com/Zm8F8ge.jpg\"/>"
      ],
      "text/plain": [
       "<IPython.core.display.Image object>"
      ]
     },
     "metadata": {},
     "output_type": "display_data"
    },
    {
     "name": "stdout",
     "output_type": "stream",
     "text": [
      "[正妹] 國民老婆 秋本麗子 https://i.imgur.com/HjyGwlx.jpg\n"
     ]
    },
    {
     "data": {
      "text/html": [
       "<img src=\"https://i.imgur.com/HjyGwlx.jpg\"/>"
      ],
      "text/plain": [
       "<IPython.core.display.Image object>"
      ]
     },
     "metadata": {},
     "output_type": "display_data"
    },
    {
     "name": "stdout",
     "output_type": "stream",
     "text": [
      "[正妹] 國民老婆 秋本麗子 https://i.imgur.com/lnTFDAf.jpg\n"
     ]
    },
    {
     "data": {
      "text/html": [
       "<img src=\"https://i.imgur.com/lnTFDAf.jpg\"/>"
      ],
      "text/plain": [
       "<IPython.core.display.Image object>"
      ]
     },
     "metadata": {},
     "output_type": "display_data"
    },
    {
     "name": "stdout",
     "output_type": "stream",
     "text": [
      "[正妹] 國民老婆 秋本麗子 https://i.imgur.com/XqeZMGA.jpg\n"
     ]
    },
    {
     "data": {
      "text/html": [
       "<img src=\"https://i.imgur.com/XqeZMGA.jpg\"/>"
      ],
      "text/plain": [
       "<IPython.core.display.Image object>"
      ]
     },
     "metadata": {},
     "output_type": "display_data"
    },
    {
     "name": "stdout",
     "output_type": "stream",
     "text": [
      "[正妹] 國民老婆 秋本麗子 https://i.imgur.com/EUZNE5H.jpg\n"
     ]
    },
    {
     "data": {
      "text/html": [
       "<img src=\"https://i.imgur.com/EUZNE5H.jpg\"/>"
      ],
      "text/plain": [
       "<IPython.core.display.Image object>"
      ]
     },
     "metadata": {},
     "output_type": "display_data"
    },
    {
     "name": "stdout",
     "output_type": "stream",
     "text": [
      "[正妹] 國民老婆 秋本麗子 https://i.imgur.com/pzeYjEV.jpg\n"
     ]
    },
    {
     "data": {
      "text/html": [
       "<img src=\"https://i.imgur.com/pzeYjEV.jpg\"/>"
      ],
      "text/plain": [
       "<IPython.core.display.Image object>"
      ]
     },
     "metadata": {},
     "output_type": "display_data"
    },
    {
     "name": "stdout",
     "output_type": "stream",
     "text": [
      "[正妹] 國民老婆 秋本麗子 https://i.imgur.com/2Oo2swK.jpg\n"
     ]
    },
    {
     "data": {
      "text/html": [
       "<img src=\"https://i.imgur.com/2Oo2swK.jpg\"/>"
      ],
      "text/plain": [
       "<IPython.core.display.Image object>"
      ]
     },
     "metadata": {},
     "output_type": "display_data"
    },
    {
     "name": "stdout",
     "output_type": "stream",
     "text": [
      "[正妹] 國民老婆 秋本麗子 https://i.imgur.com/udHgQqo.png\n"
     ]
    },
    {
     "data": {
      "text/html": [
       "<img src=\"https://i.imgur.com/udHgQqo.png\"/>"
      ],
      "text/plain": [
       "<IPython.core.display.Image object>"
      ]
     },
     "metadata": {},
     "output_type": "display_data"
    },
    {
     "name": "stdout",
     "output_type": "stream",
     "text": [
      "[正妹] 國民老婆 秋本麗子 http://i.imgur.com/SwkQNYN.jpg\n"
     ]
    },
    {
     "data": {
      "text/html": [
       "<img src=\"http://i.imgur.com/SwkQNYN.jpg\"/>"
      ],
      "text/plain": [
       "<IPython.core.display.Image object>"
      ]
     },
     "metadata": {},
     "output_type": "display_data"
    },
    {
     "name": "stdout",
     "output_type": "stream",
     "text": [
      "[正妹] 國民老婆 秋本麗子 http://i.imgur.com/HkmOTDE.jpg\n"
     ]
    },
    {
     "data": {
      "text/html": [
       "<img src=\"http://i.imgur.com/HkmOTDE.jpg\"/>"
      ],
      "text/plain": [
       "<IPython.core.display.Image object>"
      ]
     },
     "metadata": {},
     "output_type": "display_data"
    },
    {
     "name": "stdout",
     "output_type": "stream",
     "text": [
      "[正妹] 國民老婆 秋本麗子 https://i.imgur.com/uZCjqo5.jpg\n"
     ]
    },
    {
     "data": {
      "text/html": [
       "<img src=\"https://i.imgur.com/uZCjqo5.jpg\"/>"
      ],
      "text/plain": [
       "<IPython.core.display.Image object>"
      ]
     },
     "metadata": {},
     "output_type": "display_data"
    },
    {
     "name": "stdout",
     "output_type": "stream",
     "text": [
      "[正妹] 國民老婆 秋本麗子 https://i.imgur.com/ojNFwoE.png\n"
     ]
    },
    {
     "data": {
      "text/html": [
       "<img src=\"https://i.imgur.com/ojNFwoE.png\"/>"
      ],
      "text/plain": [
       "<IPython.core.display.Image object>"
      ]
     },
     "metadata": {},
     "output_type": "display_data"
    },
    {
     "name": "stdout",
     "output_type": "stream",
     "text": [
      "[正妹] 國民老婆 秋本麗子 https://i.imgur.com/J0p5CHp.gif\n"
     ]
    },
    {
     "data": {
      "text/html": [
       "<img src=\"https://i.imgur.com/J0p5CHp.gif\"/>"
      ],
      "text/plain": [
       "<IPython.core.display.Image object>"
      ]
     },
     "metadata": {},
     "output_type": "display_data"
    },
    {
     "name": "stdout",
     "output_type": "stream",
     "text": [
      "[正妹] 國民老婆 秋本麗子 https://i.imgur.com/9l6F4LT.png\n"
     ]
    },
    {
     "data": {
      "text/html": [
       "<img src=\"https://i.imgur.com/9l6F4LT.png\"/>"
      ],
      "text/plain": [
       "<IPython.core.display.Image object>"
      ]
     },
     "metadata": {},
     "output_type": "display_data"
    },
    {
     "name": "stdout",
     "output_type": "stream",
     "text": [
      "[正妹] 國民老婆 秋本麗子 https://i.imgur.com/mPqapok.jpg\n"
     ]
    },
    {
     "data": {
      "text/html": [
       "<img src=\"https://i.imgur.com/mPqapok.jpg\"/>"
      ],
      "text/plain": [
       "<IPython.core.display.Image object>"
      ]
     },
     "metadata": {},
     "output_type": "display_data"
    },
    {
     "name": "stdout",
     "output_type": "stream",
     "text": [
      "[正妹] 國民老婆 秋本麗子 https://i.imgur.com/Nari4Cf.jpg\n"
     ]
    },
    {
     "data": {
      "text/html": [
       "<img src=\"https://i.imgur.com/Nari4Cf.jpg\"/>"
      ],
      "text/plain": [
       "<IPython.core.display.Image object>"
      ]
     },
     "metadata": {},
     "output_type": "display_data"
    },
    {
     "name": "stdout",
     "output_type": "stream",
     "text": [
      "[正妹] 國民老婆 秋本麗子 https://i.imgur.com/yp4ZCrB.jpg\n"
     ]
    },
    {
     "data": {
      "text/html": [
       "<img src=\"https://i.imgur.com/yp4ZCrB.jpg\"/>"
      ],
      "text/plain": [
       "<IPython.core.display.Image object>"
      ]
     },
     "metadata": {},
     "output_type": "display_data"
    },
    {
     "name": "stdout",
     "output_type": "stream",
     "text": [
      "[正妹] 國民老婆 秋本麗子 https://i.imgur.com/kGKngNy.jpg\n"
     ]
    },
    {
     "data": {
      "text/html": [
       "<img src=\"https://i.imgur.com/kGKngNy.jpg\"/>"
      ],
      "text/plain": [
       "<IPython.core.display.Image object>"
      ]
     },
     "metadata": {},
     "output_type": "display_data"
    },
    {
     "name": "stdout",
     "output_type": "stream",
     "text": [
      "[正妹] 國民老婆 秋本麗子 https://i.imgur.com/87p1YV4.jpg\n"
     ]
    },
    {
     "data": {
      "text/html": [
       "<img src=\"https://i.imgur.com/87p1YV4.jpg\"/>"
      ],
      "text/plain": [
       "<IPython.core.display.Image object>"
      ]
     },
     "metadata": {},
     "output_type": "display_data"
    },
    {
     "name": "stdout",
     "output_type": "stream",
     "text": [
      "[正妹] 國民老婆 秋本麗子 https://i.imgur.com/0OwBlTX.jpg\n"
     ]
    },
    {
     "data": {
      "text/html": [
       "<img src=\"https://i.imgur.com/0OwBlTX.jpg\"/>"
      ],
      "text/plain": [
       "<IPython.core.display.Image object>"
      ]
     },
     "metadata": {},
     "output_type": "display_data"
    },
    {
     "name": "stdout",
     "output_type": "stream",
     "text": [
      "[正妹] 國民老婆 秋本麗子 https://i.imgur.com/kjt9w5s.png\n"
     ]
    },
    {
     "data": {
      "text/html": [
       "<img src=\"https://i.imgur.com/kjt9w5s.png\"/>"
      ],
      "text/plain": [
       "<IPython.core.display.Image object>"
      ]
     },
     "metadata": {},
     "output_type": "display_data"
    },
    {
     "name": "stdout",
     "output_type": "stream",
     "text": [
      "https://www.ptt.cc/bbs/Beauty/M.1555688100.A.FE4.html [帥哥] 日本最強胖子們\n",
      "https://i.imgur.com/XSWQW8Z.jpg https://i.imgur.com/PYtmcqz.jpg https://i.imgur.com/C4l9i6g.jpg https://i.imgur.com/2drkQhb.jpg https://i.imgur.com/hNEj0Ln.jpg https://i.imgur.com/QD9qKLG.jpg https://i.imgur.com/aPXgcw7.jpg https://imgur.com/5W02n6M.jpg\n",
      "[帥哥] 日本最強胖子們 https://i.imgur.com/XSWQW8Z.jpg\n"
     ]
    },
    {
     "data": {
      "text/html": [
       "<img src=\"https://i.imgur.com/XSWQW8Z.jpg\"/>"
      ],
      "text/plain": [
       "<IPython.core.display.Image object>"
      ]
     },
     "metadata": {},
     "output_type": "display_data"
    },
    {
     "name": "stdout",
     "output_type": "stream",
     "text": [
      "[帥哥] 日本最強胖子們 https://i.imgur.com/PYtmcqz.jpg\n"
     ]
    },
    {
     "data": {
      "text/html": [
       "<img src=\"https://i.imgur.com/PYtmcqz.jpg\"/>"
      ],
      "text/plain": [
       "<IPython.core.display.Image object>"
      ]
     },
     "metadata": {},
     "output_type": "display_data"
    },
    {
     "name": "stdout",
     "output_type": "stream",
     "text": [
      "[帥哥] 日本最強胖子們 https://i.imgur.com/C4l9i6g.jpg\n"
     ]
    },
    {
     "data": {
      "text/html": [
       "<img src=\"https://i.imgur.com/C4l9i6g.jpg\"/>"
      ],
      "text/plain": [
       "<IPython.core.display.Image object>"
      ]
     },
     "metadata": {},
     "output_type": "display_data"
    },
    {
     "name": "stdout",
     "output_type": "stream",
     "text": [
      "[帥哥] 日本最強胖子們 https://i.imgur.com/2drkQhb.jpg\n"
     ]
    },
    {
     "data": {
      "text/html": [
       "<img src=\"https://i.imgur.com/2drkQhb.jpg\"/>"
      ],
      "text/plain": [
       "<IPython.core.display.Image object>"
      ]
     },
     "metadata": {},
     "output_type": "display_data"
    },
    {
     "name": "stdout",
     "output_type": "stream",
     "text": [
      "[帥哥] 日本最強胖子們 https://i.imgur.com/hNEj0Ln.jpg\n"
     ]
    },
    {
     "data": {
      "text/html": [
       "<img src=\"https://i.imgur.com/hNEj0Ln.jpg\"/>"
      ],
      "text/plain": [
       "<IPython.core.display.Image object>"
      ]
     },
     "metadata": {},
     "output_type": "display_data"
    },
    {
     "name": "stdout",
     "output_type": "stream",
     "text": [
      "[帥哥] 日本最強胖子們 https://i.imgur.com/QD9qKLG.jpg\n"
     ]
    },
    {
     "data": {
      "text/html": [
       "<img src=\"https://i.imgur.com/QD9qKLG.jpg\"/>"
      ],
      "text/plain": [
       "<IPython.core.display.Image object>"
      ]
     },
     "metadata": {},
     "output_type": "display_data"
    },
    {
     "name": "stdout",
     "output_type": "stream",
     "text": [
      "[帥哥] 日本最強胖子們 https://i.imgur.com/aPXgcw7.jpg\n"
     ]
    },
    {
     "data": {
      "text/html": [
       "<img src=\"https://i.imgur.com/aPXgcw7.jpg\"/>"
      ],
      "text/plain": [
       "<IPython.core.display.Image object>"
      ]
     },
     "metadata": {},
     "output_type": "display_data"
    },
    {
     "name": "stdout",
     "output_type": "stream",
     "text": [
      "[帥哥] 日本最強胖子們 https://imgur.com/5W02n6M.jpg\n"
     ]
    },
    {
     "data": {
      "text/html": [
       "<img src=\"https://imgur.com/5W02n6M.jpg\"/>"
      ],
      "text/plain": [
       "<IPython.core.display.Image object>"
      ]
     },
     "metadata": {},
     "output_type": "display_data"
    },
    {
     "name": "stdout",
     "output_type": "stream",
     "text": [
      "https://www.ptt.cc/bbs/Beauty/M.1555688900.A.EEB.html [正妹] 女神們\n",
      "https://i.imgur.com/H9s9iaG.jpg https://i.imgur.com/m1E8kRV.jpg https://i.imgur.com/EWwsRK3.jpg https://i.imgur.com/Ii3NaNy.jpg https://i.imgur.com/M2XW1Pr.jpg https://i.imgur.com/5Bq4wqV.jpg https://i.imgur.com/aUeCUFD.jpg https://i.imgur.com/8AsxZva.jpg https://i.imgur.com/hRNwpCp.jpg https://i.imgur.com/SjDlAhz.jpg https://i.imgur.com/55oRZfc.jpg https://i.imgur.com/m8Q3xWz.jpg https://i.imgur.com/TX43TPm.jpg\n",
      "[正妹] 女神們 https://i.imgur.com/H9s9iaG.jpg\n"
     ]
    },
    {
     "data": {
      "text/html": [
       "<img src=\"https://i.imgur.com/H9s9iaG.jpg\"/>"
      ],
      "text/plain": [
       "<IPython.core.display.Image object>"
      ]
     },
     "metadata": {},
     "output_type": "display_data"
    },
    {
     "name": "stdout",
     "output_type": "stream",
     "text": [
      "[正妹] 女神們 https://i.imgur.com/m1E8kRV.jpg\n"
     ]
    },
    {
     "data": {
      "text/html": [
       "<img src=\"https://i.imgur.com/m1E8kRV.jpg\"/>"
      ],
      "text/plain": [
       "<IPython.core.display.Image object>"
      ]
     },
     "metadata": {},
     "output_type": "display_data"
    },
    {
     "name": "stdout",
     "output_type": "stream",
     "text": [
      "[正妹] 女神們 https://i.imgur.com/EWwsRK3.jpg\n"
     ]
    },
    {
     "data": {
      "text/html": [
       "<img src=\"https://i.imgur.com/EWwsRK3.jpg\"/>"
      ],
      "text/plain": [
       "<IPython.core.display.Image object>"
      ]
     },
     "metadata": {},
     "output_type": "display_data"
    },
    {
     "name": "stdout",
     "output_type": "stream",
     "text": [
      "[正妹] 女神們 https://i.imgur.com/Ii3NaNy.jpg\n"
     ]
    },
    {
     "data": {
      "text/html": [
       "<img src=\"https://i.imgur.com/Ii3NaNy.jpg\"/>"
      ],
      "text/plain": [
       "<IPython.core.display.Image object>"
      ]
     },
     "metadata": {},
     "output_type": "display_data"
    },
    {
     "name": "stdout",
     "output_type": "stream",
     "text": [
      "[正妹] 女神們 https://i.imgur.com/M2XW1Pr.jpg\n"
     ]
    },
    {
     "data": {
      "text/html": [
       "<img src=\"https://i.imgur.com/M2XW1Pr.jpg\"/>"
      ],
      "text/plain": [
       "<IPython.core.display.Image object>"
      ]
     },
     "metadata": {},
     "output_type": "display_data"
    },
    {
     "name": "stdout",
     "output_type": "stream",
     "text": [
      "[正妹] 女神們 https://i.imgur.com/5Bq4wqV.jpg\n"
     ]
    },
    {
     "data": {
      "text/html": [
       "<img src=\"https://i.imgur.com/5Bq4wqV.jpg\"/>"
      ],
      "text/plain": [
       "<IPython.core.display.Image object>"
      ]
     },
     "metadata": {},
     "output_type": "display_data"
    },
    {
     "name": "stdout",
     "output_type": "stream",
     "text": [
      "[正妹] 女神們 https://i.imgur.com/aUeCUFD.jpg\n"
     ]
    },
    {
     "data": {
      "text/html": [
       "<img src=\"https://i.imgur.com/aUeCUFD.jpg\"/>"
      ],
      "text/plain": [
       "<IPython.core.display.Image object>"
      ]
     },
     "metadata": {},
     "output_type": "display_data"
    },
    {
     "name": "stdout",
     "output_type": "stream",
     "text": [
      "[正妹] 女神們 https://i.imgur.com/8AsxZva.jpg\n"
     ]
    },
    {
     "data": {
      "text/html": [
       "<img src=\"https://i.imgur.com/8AsxZva.jpg\"/>"
      ],
      "text/plain": [
       "<IPython.core.display.Image object>"
      ]
     },
     "metadata": {},
     "output_type": "display_data"
    },
    {
     "name": "stdout",
     "output_type": "stream",
     "text": [
      "[正妹] 女神們 https://i.imgur.com/hRNwpCp.jpg\n"
     ]
    },
    {
     "data": {
      "text/html": [
       "<img src=\"https://i.imgur.com/hRNwpCp.jpg\"/>"
      ],
      "text/plain": [
       "<IPython.core.display.Image object>"
      ]
     },
     "metadata": {},
     "output_type": "display_data"
    },
    {
     "name": "stdout",
     "output_type": "stream",
     "text": [
      "[正妹] 女神們 https://i.imgur.com/SjDlAhz.jpg\n"
     ]
    },
    {
     "data": {
      "text/html": [
       "<img src=\"https://i.imgur.com/SjDlAhz.jpg\"/>"
      ],
      "text/plain": [
       "<IPython.core.display.Image object>"
      ]
     },
     "metadata": {},
     "output_type": "display_data"
    },
    {
     "name": "stdout",
     "output_type": "stream",
     "text": [
      "[正妹] 女神們 https://i.imgur.com/55oRZfc.jpg\n"
     ]
    },
    {
     "data": {
      "text/html": [
       "<img src=\"https://i.imgur.com/55oRZfc.jpg\"/>"
      ],
      "text/plain": [
       "<IPython.core.display.Image object>"
      ]
     },
     "metadata": {},
     "output_type": "display_data"
    },
    {
     "name": "stdout",
     "output_type": "stream",
     "text": [
      "[正妹] 女神們 https://i.imgur.com/m8Q3xWz.jpg\n"
     ]
    },
    {
     "data": {
      "text/html": [
       "<img src=\"https://i.imgur.com/m8Q3xWz.jpg\"/>"
      ],
      "text/plain": [
       "<IPython.core.display.Image object>"
      ]
     },
     "metadata": {},
     "output_type": "display_data"
    },
    {
     "name": "stdout",
     "output_type": "stream",
     "text": [
      "[正妹] 女神們 https://i.imgur.com/TX43TPm.jpg\n"
     ]
    },
    {
     "data": {
      "text/html": [
       "<img src=\"https://i.imgur.com/TX43TPm.jpg\"/>"
      ],
      "text/plain": [
       "<IPython.core.display.Image object>"
      ]
     },
     "metadata": {},
     "output_type": "display_data"
    },
    {
     "name": "stdout",
     "output_type": "stream",
     "text": [
      "https://www.ptt.cc/bbs/Beauty/M.1555695073.A.678.html [正妹] 嫂子\n",
      "https://i.imgur.com/3Yjem0I.png https://i.imgur.com/IMY2WMZ.png https://i.imgur.com/ATuRopY.jpg https://i.imgur.com/zo0Llou.png https://i.imgur.com/KfBzgsr.png https://i.imgur.com/PQfEAx6.jpg\n",
      "[正妹] 嫂子 https://i.imgur.com/3Yjem0I.png\n"
     ]
    },
    {
     "data": {
      "text/html": [
       "<img src=\"https://i.imgur.com/3Yjem0I.png\"/>"
      ],
      "text/plain": [
       "<IPython.core.display.Image object>"
      ]
     },
     "metadata": {},
     "output_type": "display_data"
    },
    {
     "name": "stdout",
     "output_type": "stream",
     "text": [
      "[正妹] 嫂子 https://i.imgur.com/IMY2WMZ.png\n"
     ]
    },
    {
     "data": {
      "text/html": [
       "<img src=\"https://i.imgur.com/IMY2WMZ.png\"/>"
      ],
      "text/plain": [
       "<IPython.core.display.Image object>"
      ]
     },
     "metadata": {},
     "output_type": "display_data"
    },
    {
     "name": "stdout",
     "output_type": "stream",
     "text": [
      "[正妹] 嫂子 https://i.imgur.com/ATuRopY.jpg\n"
     ]
    },
    {
     "data": {
      "text/html": [
       "<img src=\"https://i.imgur.com/ATuRopY.jpg\"/>"
      ],
      "text/plain": [
       "<IPython.core.display.Image object>"
      ]
     },
     "metadata": {},
     "output_type": "display_data"
    },
    {
     "name": "stdout",
     "output_type": "stream",
     "text": [
      "[正妹] 嫂子 https://i.imgur.com/zo0Llou.png\n"
     ]
    },
    {
     "data": {
      "text/html": [
       "<img src=\"https://i.imgur.com/zo0Llou.png\"/>"
      ],
      "text/plain": [
       "<IPython.core.display.Image object>"
      ]
     },
     "metadata": {},
     "output_type": "display_data"
    },
    {
     "name": "stdout",
     "output_type": "stream",
     "text": [
      "[正妹] 嫂子 https://i.imgur.com/KfBzgsr.png\n"
     ]
    },
    {
     "data": {
      "text/html": [
       "<img src=\"https://i.imgur.com/KfBzgsr.png\"/>"
      ],
      "text/plain": [
       "<IPython.core.display.Image object>"
      ]
     },
     "metadata": {},
     "output_type": "display_data"
    },
    {
     "name": "stdout",
     "output_type": "stream",
     "text": [
      "[正妹] 嫂子 https://i.imgur.com/PQfEAx6.jpg\n"
     ]
    },
    {
     "data": {
      "text/html": [
       "<img src=\"https://i.imgur.com/PQfEAx6.jpg\"/>"
      ],
      "text/plain": [
       "<IPython.core.display.Image object>"
      ]
     },
     "metadata": {},
     "output_type": "display_data"
    },
    {
     "name": "stdout",
     "output_type": "stream",
     "text": [
      "https://www.ptt.cc/bbs/Beauty/M.1555695735.A.5DE.html [帥哥] 那個多妻的男人\n",
      "https://imgur.com/bn2gyID.jpg\n",
      "[帥哥] 那個多妻的男人 https://imgur.com/bn2gyID.jpg\n"
     ]
    },
    {
     "data": {
      "text/html": [
       "<img src=\"https://imgur.com/bn2gyID.jpg\"/>"
      ],
      "text/plain": [
       "<IPython.core.display.Image object>"
      ]
     },
     "metadata": {},
     "output_type": "display_data"
    },
    {
     "name": "stdout",
     "output_type": "stream",
     "text": [
      "https://www.ptt.cc/bbs/Beauty/M.1555696263.A.6B2.html [帥哥] 那個跟101一樣可靠的人\n",
      "https://i.imgur.com/CW8PJfz.gif https://i.imgur.com/DR6VYxN.jpg https://i.imgur.com/kZhFatT.jpg\n",
      "[帥哥] 那個跟101一樣可靠的人 https://i.imgur.com/CW8PJfz.gif\n"
     ]
    },
    {
     "data": {
      "text/html": [
       "<img src=\"https://i.imgur.com/CW8PJfz.gif\"/>"
      ],
      "text/plain": [
       "<IPython.core.display.Image object>"
      ]
     },
     "metadata": {},
     "output_type": "display_data"
    },
    {
     "name": "stdout",
     "output_type": "stream",
     "text": [
      "[帥哥] 那個跟101一樣可靠的人 https://i.imgur.com/DR6VYxN.jpg\n"
     ]
    },
    {
     "data": {
      "text/html": [
       "<img src=\"https://i.imgur.com/DR6VYxN.jpg\"/>"
      ],
      "text/plain": [
       "<IPython.core.display.Image object>"
      ]
     },
     "metadata": {},
     "output_type": "display_data"
    },
    {
     "name": "stdout",
     "output_type": "stream",
     "text": [
      "[帥哥] 那個跟101一樣可靠的人 https://i.imgur.com/kZhFatT.jpg\n"
     ]
    },
    {
     "data": {
      "text/html": [
       "<img src=\"https://i.imgur.com/kZhFatT.jpg\"/>"
      ],
      "text/plain": [
       "<IPython.core.display.Image object>"
      ]
     },
     "metadata": {},
     "output_type": "display_data"
    },
    {
     "name": "stdout",
     "output_type": "stream",
     "text": [
      "https://www.ptt.cc/bbs/Beauty/M.1555696629.A.DF1.html [帥哥] 小熊維尼\n",
      "http://i.imgur.com/v9vM5x7.jpg http://i.imgur.com/8WK9d2p.jpg http://i.imgur.com/N1qSOhZ.jpg http://i.imgur.com/sqx06qu.jpg http://i.imgur.com/O8kXmSy.jpg http://i.imgur.com/feMZGNk.jpg http://i.imgur.com/1zIBcMb.jpg http://i.imgur.com/IbD1oHZ.jpg\n",
      "[帥哥] 小熊維尼 http://i.imgur.com/v9vM5x7.jpg\n"
     ]
    },
    {
     "data": {
      "text/html": [
       "<img src=\"http://i.imgur.com/v9vM5x7.jpg\"/>"
      ],
      "text/plain": [
       "<IPython.core.display.Image object>"
      ]
     },
     "metadata": {},
     "output_type": "display_data"
    },
    {
     "name": "stdout",
     "output_type": "stream",
     "text": [
      "[帥哥] 小熊維尼 http://i.imgur.com/8WK9d2p.jpg\n"
     ]
    },
    {
     "data": {
      "text/html": [
       "<img src=\"http://i.imgur.com/8WK9d2p.jpg\"/>"
      ],
      "text/plain": [
       "<IPython.core.display.Image object>"
      ]
     },
     "metadata": {},
     "output_type": "display_data"
    },
    {
     "name": "stdout",
     "output_type": "stream",
     "text": [
      "[帥哥] 小熊維尼 http://i.imgur.com/N1qSOhZ.jpg\n"
     ]
    },
    {
     "data": {
      "text/html": [
       "<img src=\"http://i.imgur.com/N1qSOhZ.jpg\"/>"
      ],
      "text/plain": [
       "<IPython.core.display.Image object>"
      ]
     },
     "metadata": {},
     "output_type": "display_data"
    },
    {
     "name": "stdout",
     "output_type": "stream",
     "text": [
      "[帥哥] 小熊維尼 http://i.imgur.com/sqx06qu.jpg\n"
     ]
    },
    {
     "data": {
      "text/html": [
       "<img src=\"http://i.imgur.com/sqx06qu.jpg\"/>"
      ],
      "text/plain": [
       "<IPython.core.display.Image object>"
      ]
     },
     "metadata": {},
     "output_type": "display_data"
    },
    {
     "name": "stdout",
     "output_type": "stream",
     "text": [
      "[帥哥] 小熊維尼 http://i.imgur.com/O8kXmSy.jpg\n"
     ]
    },
    {
     "data": {
      "text/html": [
       "<img src=\"http://i.imgur.com/O8kXmSy.jpg\"/>"
      ],
      "text/plain": [
       "<IPython.core.display.Image object>"
      ]
     },
     "metadata": {},
     "output_type": "display_data"
    },
    {
     "name": "stdout",
     "output_type": "stream",
     "text": [
      "[帥哥] 小熊維尼 http://i.imgur.com/feMZGNk.jpg\n"
     ]
    },
    {
     "data": {
      "text/html": [
       "<img src=\"http://i.imgur.com/feMZGNk.jpg\"/>"
      ],
      "text/plain": [
       "<IPython.core.display.Image object>"
      ]
     },
     "metadata": {},
     "output_type": "display_data"
    },
    {
     "name": "stdout",
     "output_type": "stream",
     "text": [
      "[帥哥] 小熊維尼 http://i.imgur.com/1zIBcMb.jpg\n"
     ]
    },
    {
     "data": {
      "text/html": [
       "<img src=\"http://i.imgur.com/1zIBcMb.jpg\"/>"
      ],
      "text/plain": [
       "<IPython.core.display.Image object>"
      ]
     },
     "metadata": {},
     "output_type": "display_data"
    },
    {
     "name": "stdout",
     "output_type": "stream",
     "text": [
      "[帥哥] 小熊維尼 http://i.imgur.com/IbD1oHZ.jpg\n"
     ]
    },
    {
     "data": {
      "text/html": [
       "<img src=\"http://i.imgur.com/IbD1oHZ.jpg\"/>"
      ],
      "text/plain": [
       "<IPython.core.display.Image object>"
      ]
     },
     "metadata": {},
     "output_type": "display_data"
    }
   ],
   "source": [
    "import requests\n",
    "from bs4 import BeautifulSoup\n",
    "import re\n",
    "from IPython.display import Image\n",
    "from IPython.core.display import HTML\n",
    "from IPython.core.display import Image, display\n",
    "\n",
    "host = 'https://www.ptt.cc'\n",
    "url = '/bbs/Beauty/index.html'\n",
    "pages = 1\n",
    "regex_img = re.compile('http[s]?://i.imgur.com/\\w+\\.(?:jpg|png|gif)')\n",
    "regex_img2 = re.compile('http[s]?://imgur.com/\\w+')\n",
    "\n",
    "def readPage(url):\n",
    "    print('開始讀取頁面:', url)\n",
    "    result = requests.get(url)\n",
    "    soup = BeautifulSoup(result.text, 'lxml')\n",
    "    selector = \"div.title a\"\n",
    "    tags = soup.select(selector) # 取得一組 bs4.element.Tag 的 list\n",
    "    for tag in tags:\n",
    "        print(host+tag['href'], tag.text)\n",
    "        readImage(host+tag['href'], tag.text)\n",
    "\n",
    "def readImage(pageUrl, title):\n",
    "    result = requests.get(pageUrl)\n",
    "    images = regex_img.findall(result.text)\n",
    "    image2s = regex_img2.findall(result.text)\n",
    "    image3s = []\n",
    "    for image2 in image2s:\n",
    "        image3s.append(image2+\".jpg\")\n",
    "    images = set(images).union(set(image3s))\n",
    "    print(*images)\n",
    "    for image in images:\n",
    "        print(title, image)\n",
    "        display(Image(url= image))\n",
    "\n",
    "readPage(host+url)\n",
    "\n",
    "for i in range(pages):\n",
    "    result = requests.get(host + url)\n",
    "    soup = BeautifulSoup(result.text, 'lxml')\n",
    "\n",
    "    # 面對多個 class name 的兩種寫法\n",
    "    selector = \"div[class='btn-group btn-group-paging'] a\"\n",
    "    #selector = \"div.btn-group.btn-group-paging a\"\n",
    "\n",
    "    tags = soup.select(selector) # 取得一組 bs4.element.Tag 的 list\n",
    "        \n",
    "    url = tags[1]['href']\n",
    "    print(url)\n",
    "    readPage(host+url)\n"
   ]
  },
  {
   "cell_type": "code",
   "execution_count": null,
   "metadata": {},
   "outputs": [],
   "source": []
  }
 ],
 "metadata": {
  "kernelspec": {
   "display_name": "Python 3",
   "language": "python",
   "name": "python3"
  },
  "language_info": {
   "codemirror_mode": {
    "name": "ipython",
    "version": 3
   },
   "file_extension": ".py",
   "mimetype": "text/x-python",
   "name": "python",
   "nbconvert_exporter": "python",
   "pygments_lexer": "ipython3",
   "version": "3.6.5"
  }
 },
 "nbformat": 4,
 "nbformat_minor": 2
}
