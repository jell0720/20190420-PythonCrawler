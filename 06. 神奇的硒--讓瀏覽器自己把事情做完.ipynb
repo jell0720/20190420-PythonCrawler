{
 "cells": [
  {
   "cell_type": "markdown",
   "metadata": {},
   "source": [
    "# 首先安裝必要的套件\n"
   ]
  },
  {
   "cell_type": "markdown",
   "metadata": {},
   "source": [
    "## 安裝 selenium"
   ]
  },
  {
   "cell_type": "code",
   "execution_count": 11,
   "metadata": {},
   "outputs": [
    {
     "name": "stdout",
     "output_type": "stream",
     "text": [
      "Collecting selenium\n",
      "  Downloading https://files.pythonhosted.org/packages/b0/c9/52390baa8d6b65c3e3b89f522c3a0fcf58f2b4faf37893ef9d97cddde699/selenium-3.14.1-py2.py3-none-any.whl (902kB)\n",
      "Requirement already satisfied: urllib3 in c:\\users\\jiangsir\\anaconda3\\lib\\site-packages (from selenium) (1.22)\n",
      "Installing collected packages: selenium\n",
      "Successfully installed selenium-3.14.1\n"
     ]
    },
    {
     "name": "stderr",
     "output_type": "stream",
     "text": [
      "You are using pip version 18.0, however version 18.1 is available.\n",
      "You should consider upgrading via the 'python -m pip install --upgrade pip' command.\n"
     ]
    }
   ],
   "source": [
    "!pip install selenium"
   ]
  },
  {
   "cell_type": "markdown",
   "metadata": {},
   "source": [
    "# 下載瀏覽器控制器\n",
    "\n",
    " [files/chromedriver.exe](files/chromedriver.exe)\n",
    " \n",
    " 將 chromedriver.exe 複製到 C:\\\\Users\\\\jiangsir\\\\Anaconda3\\\\  以便未來使用"
   ]
  },
  {
   "cell_type": "code",
   "execution_count": 1,
   "metadata": {},
   "outputs": [
    {
     "data": {
      "text/plain": [
       "'C:\\\\Users\\\\jiangsir\\\\Anaconda3\\\\python.exe'"
      ]
     },
     "execution_count": 1,
     "metadata": {},
     "output_type": "execute_result"
    }
   ],
   "source": [
    "## 找到使用的是哪一個 python\n",
    "\n",
    "import sys\n",
    "sys.executable"
   ]
  },
  {
   "cell_type": "markdown",
   "metadata": {},
   "source": [
    "# 打開瀏覽器，連線到 google"
   ]
  },
  {
   "cell_type": "code",
   "execution_count": 2,
   "metadata": {},
   "outputs": [
    {
     "name": "stdout",
     "output_type": "stream",
     "text": [
      "Google\n"
     ]
    }
   ],
   "source": [
    "from selenium import webdriver\n",
    "from selenium.common.exceptions import TimeoutException\n",
    " \n",
    "# available since 2.4.0\n",
    "from selenium.webdriver.support.ui import WebDriverWait\n",
    " \n",
    "# available since 2.26.0\n",
    "from selenium.webdriver.support import expected_conditions as EC\n",
    " \n",
    "# 建立 driver\n",
    "# 需下載 Browser Drivers http://www.seleniumhq.org/download/ \n",
    "# 若 geckodriver 有在 PATH 中， firefox 可不帶路徑參數\n",
    "driver = webdriver.Chrome(executable_path=\"C:\\\\Users\\\\jiangsir\\\\Anaconda3\\\\chromedriver.exe\")\n",
    "\n",
    "# 去 google\n",
    "driver.get(\"http://www.google.com\")\n",
    " \n",
    "# 顯示標題\n",
    "print(driver.title)\n",
    "\n",
    "# 關閉瀏覽器\n",
    "driver.close()"
   ]
  },
  {
   "cell_type": "markdown",
   "metadata": {},
   "source": [
    "## 打開 chrome 查詢關鍵字"
   ]
  },
  {
   "cell_type": "code",
   "execution_count": 3,
   "metadata": {},
   "outputs": [
    {
     "name": "stdout",
     "output_type": "stream",
     "text": [
      "三國演義- 維基百科，自由的百科全書 - Wikipedia https://zh.wikipedia.org/zh-tw/%E4%B8%89%E5%9B%BD%E6%BC%94%E4%B9%89\n",
      "三國演義- 中國哲學書電子化計劃 https://ctext.org/sanguo-yanyi/zh\n",
      "三國演義- 维基文库，自由的图书馆 https://zh.wikisource.org/zh-hant/%E4%B8%89%E5%9C%8B%E6%BC%94%E7%BE%A9\n",
      "博客來-目前您搜尋的關鍵字為: 三國演義 https://search.books.com.tw/search/query/key/%E4%B8%89%E5%9C%8B%E6%BC%94%E7%BE%A9/cat/all\n",
      "三国演义（罗贯中著长篇小说）_百度百科 https://baike.baidu.com/item/%E4%B8%89%E5%9B%BD%E6%BC%94%E4%B9%89\n",
      "羅貫中【三國演義】- 好讀 http://www.haodoo.net/?M=book&P=84\n",
      "漢川草廬-中國古典小說-三國演義目錄 http://www.xn--5rtnx620bw5s.tw/e/e5/e05.htm\n",
      "《三國演義》 - 中國文化研究院 https://www.chiculture.net/index.php?file=topic_description&old_id=0416\n",
      "三國演義| 誠品網路書店 http://www.eslite.com/Search_BW.aspx?query=%E4%B8%89%E5%9C%8B%E6%BC%94%E7%BE%A9\n"
     ]
    }
   ],
   "source": [
    "from selenium import webdriver\n",
    "import requests\n",
    "from bs4 import BeautifulSoup\n",
    "\n",
    "\n",
    "driver = webdriver.Chrome()\n",
    "driver.get(\"https://www.google.com\")\n",
    "#找到輸入框\n",
    "element = driver.find_element_by_name(\"q\")\n",
    "#輸入內容\n",
    "element.send_keys(\"三國演義\");\n",
    "#提交表單\n",
    "element.submit();\n",
    "\n",
    "results = driver.find_element_by_id('rso')\n",
    "html = results.get_attribute('outerHTML')\n",
    "\n",
    "#driver.close()\n",
    "\n",
    "soup = BeautifulSoup(html, 'lxml')\n",
    "tags = soup.select('div.r a')\n",
    "\n",
    "for tag in tags:\n",
    "    if tag.find('h3') != None:\n",
    "        print(tag.find('h3').text, tag['href'])\n"
   ]
  },
  {
   "cell_type": "code",
   "execution_count": null,
   "metadata": {},
   "outputs": [],
   "source": []
  }
 ],
 "metadata": {
  "kernelspec": {
   "display_name": "Python 3",
   "language": "python",
   "name": "python3"
  },
  "language_info": {
   "codemirror_mode": {
    "name": "ipython",
    "version": 3
   },
   "file_extension": ".py",
   "mimetype": "text/x-python",
   "name": "python",
   "nbconvert_exporter": "python",
   "pygments_lexer": "ipython3",
   "version": "3.6.5"
  }
 },
 "nbformat": 4,
 "nbformat_minor": 2
}
