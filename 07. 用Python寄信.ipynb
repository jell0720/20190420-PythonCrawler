{
 "cells": [
  {
   "cell_type": "markdown",
   "metadata": {},
   "source": [
    "# 要讓 Python 寄信，需先申請應用程式密碼\n",
    "\n",
    "## 要申請應用程式密碼，必須先開通二步驟認證。\n",
    "\n",
    "### 登入 Google 帳戶 --> Goolge 帳戶\n",
    "\n",
    "\n",
    "![GoogleLogin.PNG](images/GoogleLogin.PNG)\n",
    "\n",
    "![GoogleLogin2.PNG](images/GoogleLogin2.PNG)\n",
    "\n",
    "### 自訂應用程式\n",
    "\n",
    "![GoogleLogin3.PNG](images/GoogleLogin3.PNG)\n",
    "\n",
    "![GoogleLogin4.PNG](images/GoogleLogin4.PNG)\n"
   ]
  },
  {
   "cell_type": "markdown",
   "metadata": {},
   "source": [
    "# 跟郵件伺服器打招呼"
   ]
  },
  {
   "cell_type": "code",
   "execution_count": 11,
   "metadata": {},
   "outputs": [
    {
     "data": {
      "text/plain": [
       "(250,\n",
       " b'smtp.gmail.com at your service, [2001:b400:e709:56c1:391c:ed31:4dca:ab2c]\\nSIZE 35882577\\n8BITMIME\\nSTARTTLS\\nENHANCEDSTATUSCODES\\nPIPELINING\\nCHUNKING\\nSMTPUTF8')"
      ]
     },
     "execution_count": 11,
     "metadata": {},
     "output_type": "execute_result"
    }
   ],
   "source": [
    "import smtplib  \n",
    "smtp=smtplib.SMTP(\"smtp.gmail.com\", 587)     #TSL\n",
    "\n",
    "smtp.ehlo()"
   ]
  },
  {
   "cell_type": "markdown",
   "metadata": {},
   "source": [
    "# 嘗試用帳號密碼登入 -- 不允許用密碼登入"
   ]
  },
  {
   "cell_type": "code",
   "execution_count": 9,
   "metadata": {},
   "outputs": [
    {
     "ename": "SMTPServerDisconnected",
     "evalue": "please run connect() first",
     "output_type": "error",
     "traceback": [
      "\u001b[1;31m---------------------------------------------------------------------------\u001b[0m",
      "\u001b[1;31mSMTPServerDisconnected\u001b[0m                    Traceback (most recent call last)",
      "\u001b[1;32m<ipython-input-9-d1fec45ca82d>\u001b[0m in \u001b[0;36m<module>\u001b[1;34m()\u001b[0m\n\u001b[1;32m----> 1\u001b[1;33m \u001b[0msmtp\u001b[0m\u001b[1;33m.\u001b[0m\u001b[0mstarttls\u001b[0m\u001b[1;33m(\u001b[0m\u001b[1;33m)\u001b[0m\u001b[1;33m\u001b[0m\u001b[0m\n\u001b[0m\u001b[0;32m      2\u001b[0m \u001b[0msmtp\u001b[0m\u001b[1;33m.\u001b[0m\u001b[0mlogin\u001b[0m\u001b[1;33m(\u001b[0m\u001b[1;34m\"jiangsir@tea.nknush.kh.edu.tw\"\u001b[0m\u001b[1;33m,\u001b[0m \u001b[1;34m\"ashsashs\"\u001b[0m\u001b[1;33m)\u001b[0m\u001b[1;33m\u001b[0m\u001b[0m\n",
      "\u001b[1;32m~\\Anaconda3\\lib\\smtplib.py\u001b[0m in \u001b[0;36mstarttls\u001b[1;34m(self, keyfile, certfile, context)\u001b[0m\n\u001b[0;32m    751\u001b[0m             raise SMTPNotSupportedError(\n\u001b[0;32m    752\u001b[0m                 \"STARTTLS extension not supported by server.\")\n\u001b[1;32m--> 753\u001b[1;33m         \u001b[1;33m(\u001b[0m\u001b[0mresp\u001b[0m\u001b[1;33m,\u001b[0m \u001b[0mreply\u001b[0m\u001b[1;33m)\u001b[0m \u001b[1;33m=\u001b[0m \u001b[0mself\u001b[0m\u001b[1;33m.\u001b[0m\u001b[0mdocmd\u001b[0m\u001b[1;33m(\u001b[0m\u001b[1;34m\"STARTTLS\"\u001b[0m\u001b[1;33m)\u001b[0m\u001b[1;33m\u001b[0m\u001b[0m\n\u001b[0m\u001b[0;32m    754\u001b[0m         \u001b[1;32mif\u001b[0m \u001b[0mresp\u001b[0m \u001b[1;33m==\u001b[0m \u001b[1;36m220\u001b[0m\u001b[1;33m:\u001b[0m\u001b[1;33m\u001b[0m\u001b[0m\n\u001b[0;32m    755\u001b[0m             \u001b[1;32mif\u001b[0m \u001b[1;32mnot\u001b[0m \u001b[0m_have_ssl\u001b[0m\u001b[1;33m:\u001b[0m\u001b[1;33m\u001b[0m\u001b[0m\n",
      "\u001b[1;32m~\\Anaconda3\\lib\\smtplib.py\u001b[0m in \u001b[0;36mdocmd\u001b[1;34m(self, cmd, args)\u001b[0m\n\u001b[0;32m    418\u001b[0m     \u001b[1;32mdef\u001b[0m \u001b[0mdocmd\u001b[0m\u001b[1;33m(\u001b[0m\u001b[0mself\u001b[0m\u001b[1;33m,\u001b[0m \u001b[0mcmd\u001b[0m\u001b[1;33m,\u001b[0m \u001b[0margs\u001b[0m\u001b[1;33m=\u001b[0m\u001b[1;34m\"\"\u001b[0m\u001b[1;33m)\u001b[0m\u001b[1;33m:\u001b[0m\u001b[1;33m\u001b[0m\u001b[0m\n\u001b[0;32m    419\u001b[0m         \u001b[1;34m\"\"\"Send a command, and return its response code.\"\"\"\u001b[0m\u001b[1;33m\u001b[0m\u001b[0m\n\u001b[1;32m--> 420\u001b[1;33m         \u001b[0mself\u001b[0m\u001b[1;33m.\u001b[0m\u001b[0mputcmd\u001b[0m\u001b[1;33m(\u001b[0m\u001b[0mcmd\u001b[0m\u001b[1;33m,\u001b[0m \u001b[0margs\u001b[0m\u001b[1;33m)\u001b[0m\u001b[1;33m\u001b[0m\u001b[0m\n\u001b[0m\u001b[0;32m    421\u001b[0m         \u001b[1;32mreturn\u001b[0m \u001b[0mself\u001b[0m\u001b[1;33m.\u001b[0m\u001b[0mgetreply\u001b[0m\u001b[1;33m(\u001b[0m\u001b[1;33m)\u001b[0m\u001b[1;33m\u001b[0m\u001b[0m\n\u001b[0;32m    422\u001b[0m \u001b[1;33m\u001b[0m\u001b[0m\n",
      "\u001b[1;32m~\\Anaconda3\\lib\\smtplib.py\u001b[0m in \u001b[0;36mputcmd\u001b[1;34m(self, cmd, args)\u001b[0m\n\u001b[0;32m    365\u001b[0m         \u001b[1;32melse\u001b[0m\u001b[1;33m:\u001b[0m\u001b[1;33m\u001b[0m\u001b[0m\n\u001b[0;32m    366\u001b[0m             \u001b[0mstr\u001b[0m \u001b[1;33m=\u001b[0m \u001b[1;34m'%s %s%s'\u001b[0m \u001b[1;33m%\u001b[0m \u001b[1;33m(\u001b[0m\u001b[0mcmd\u001b[0m\u001b[1;33m,\u001b[0m \u001b[0margs\u001b[0m\u001b[1;33m,\u001b[0m \u001b[0mCRLF\u001b[0m\u001b[1;33m)\u001b[0m\u001b[1;33m\u001b[0m\u001b[0m\n\u001b[1;32m--> 367\u001b[1;33m         \u001b[0mself\u001b[0m\u001b[1;33m.\u001b[0m\u001b[0msend\u001b[0m\u001b[1;33m(\u001b[0m\u001b[0mstr\u001b[0m\u001b[1;33m)\u001b[0m\u001b[1;33m\u001b[0m\u001b[0m\n\u001b[0m\u001b[0;32m    368\u001b[0m \u001b[1;33m\u001b[0m\u001b[0m\n\u001b[0;32m    369\u001b[0m     \u001b[1;32mdef\u001b[0m \u001b[0mgetreply\u001b[0m\u001b[1;33m(\u001b[0m\u001b[0mself\u001b[0m\u001b[1;33m)\u001b[0m\u001b[1;33m:\u001b[0m\u001b[1;33m\u001b[0m\u001b[0m\n",
      "\u001b[1;32m~\\Anaconda3\\lib\\smtplib.py\u001b[0m in \u001b[0;36msend\u001b[1;34m(self, s)\u001b[0m\n\u001b[0;32m    357\u001b[0m                 \u001b[1;32mraise\u001b[0m \u001b[0mSMTPServerDisconnected\u001b[0m\u001b[1;33m(\u001b[0m\u001b[1;34m'Server not connected'\u001b[0m\u001b[1;33m)\u001b[0m\u001b[1;33m\u001b[0m\u001b[0m\n\u001b[0;32m    358\u001b[0m         \u001b[1;32melse\u001b[0m\u001b[1;33m:\u001b[0m\u001b[1;33m\u001b[0m\u001b[0m\n\u001b[1;32m--> 359\u001b[1;33m             \u001b[1;32mraise\u001b[0m \u001b[0mSMTPServerDisconnected\u001b[0m\u001b[1;33m(\u001b[0m\u001b[1;34m'please run connect() first'\u001b[0m\u001b[1;33m)\u001b[0m\u001b[1;33m\u001b[0m\u001b[0m\n\u001b[0m\u001b[0;32m    360\u001b[0m \u001b[1;33m\u001b[0m\u001b[0m\n\u001b[0;32m    361\u001b[0m     \u001b[1;32mdef\u001b[0m \u001b[0mputcmd\u001b[0m\u001b[1;33m(\u001b[0m\u001b[0mself\u001b[0m\u001b[1;33m,\u001b[0m \u001b[0mcmd\u001b[0m\u001b[1;33m,\u001b[0m \u001b[0margs\u001b[0m\u001b[1;33m=\u001b[0m\u001b[1;34m\"\"\u001b[0m\u001b[1;33m)\u001b[0m\u001b[1;33m:\u001b[0m\u001b[1;33m\u001b[0m\u001b[0m\n",
      "\u001b[1;31mSMTPServerDisconnected\u001b[0m: please run connect() first"
     ]
    }
   ],
   "source": [
    "smtp.starttls() \n",
    "smtp.login(\"jiangsir@tea.nknush.kh.edu.tw\", \"xxxxxxxxx\")  "
   ]
  },
  {
   "cell_type": "markdown",
   "metadata": {},
   "source": [
    "# oops! 出錯了!\n",
    "\n",
    "### 必須進入 Google 帳號管理為應用程式產生特別的密碼才行\n",
    "\n",
    "但要注意! 帳戶要先設定兩階段驗證後才會出現 應用程式密碼。\n",
    "\n",
    "在彈出頁面中顯示了一組應用程式專用密碼, 須立即複製到記事本中儲存, 因為只要關閉此頁面便無法查出此密碼, 只能刪除再重新產生 :\n",
    "\n",
    "    igajmuqzhnhuyzil\n"
   ]
  },
  {
   "cell_type": "markdown",
   "metadata": {},
   "source": [
    "# 用 SSL 連線，看看伺服器是否有回應"
   ]
  },
  {
   "cell_type": "code",
   "execution_count": 12,
   "metadata": {},
   "outputs": [
    {
     "data": {
      "text/plain": [
       "(250,\n",
       " b'smtp.gmail.com at your service, [2001:b400:e709:56c1:391c:ed31:4dca:ab2c]\\nSIZE 35882577\\n8BITMIME\\nAUTH LOGIN PLAIN XOAUTH2 PLAIN-CLIENTTOKEN OAUTHBEARER XOAUTH\\nENHANCEDSTATUSCODES\\nPIPELINING\\nCHUNKING\\nSMTPUTF8')"
      ]
     },
     "execution_count": 12,
     "metadata": {},
     "output_type": "execute_result"
    }
   ],
   "source": [
    "import smtplib \n",
    "smtpssl=smtplib.SMTP_SSL(\"smtp.gmail.com\", 465) \n",
    "smtpssl.ehlo()"
   ]
  },
  {
   "cell_type": "markdown",
   "metadata": {},
   "source": [
    "# 嘗試用(信箱/應用程式密碼)登入伺服器"
   ]
  },
  {
   "cell_type": "code",
   "execution_count": 1,
   "metadata": {},
   "outputs": [
    {
     "data": {
      "text/plain": [
       "(235, b'2.7.0 Accepted')"
      ]
     },
     "execution_count": 1,
     "metadata": {},
     "output_type": "execute_result"
    }
   ],
   "source": [
    "import smtplib \n",
    "smtpssl=smtplib.SMTP_SSL(\"smtp.gmail.com\", 465) \n",
    "smtpssl.login(\"jiangsir@tea.nknush.kh.edu.tw\", \"igajmuqzhnhuyzil\")"
   ]
  },
  {
   "cell_type": "markdown",
   "metadata": {},
   "source": [
    "# 寄一封信試試看"
   ]
  },
  {
   "cell_type": "code",
   "execution_count": 2,
   "metadata": {},
   "outputs": [
    {
     "data": {
      "text/plain": [
       "(221, b'2.0.0 closing connection b14sm9903339pfi.92 - gsmtp')"
      ]
     },
     "execution_count": 2,
     "metadata": {},
     "output_type": "execute_result"
    }
   ],
   "source": [
    "import smtplib \n",
    "smtpssl=smtplib.SMTP_SSL(\"smtp.gmail.com\", 465) \n",
    "smtpssl.login(\"jiangsir@tea.nknush.kh.edu.tw\", \"igajmuqzhnhuyzil\")\n",
    "from_addr = 'jiangsir@tea.nknush.kh.edu.tw'\n",
    "to_addr = 'jiangzero@gmail.com'\n",
    "msg = 'Subject:Python Test mail!!!\\n'\n",
    "msg += 'test mail content'\n",
    "smtpssl.sendmail(from_addr, to_addr, msg, mail_options=(), rcpt_options=())\n",
    "smtpssl.quit() "
   ]
  },
  {
   "cell_type": "markdown",
   "metadata": {},
   "source": [
    "# 寄送中文信件 -- 用 MIME 協定\n",
    "\n",
    "解決此問題的辦法是使用多用途郵件擴展協定 MIME (Multiplepurpose Internet Mail Extensions), "
   ]
  },
  {
   "cell_type": "code",
   "execution_count": 21,
   "metadata": {},
   "outputs": [
    {
     "data": {
      "text/plain": [
       "(221, b'2.0.0 closing connection s21sm38823568pfm.3 - gsmtp')"
      ]
     },
     "execution_count": 21,
     "metadata": {},
     "output_type": "execute_result"
    }
   ],
   "source": [
    "import smtplib \n",
    "from email.mime.text import MIMEText  \n",
    "\n",
    "smtpssl=smtplib.SMTP_SSL(\"smtp.gmail.com\", 465) \n",
    "smtpssl.login(\"jiangsir@tea.nknush.kh.edu.tw\", \"igajmuqzhnhuyzil\")\n",
    "msg = 'test mail 中文內容測試'\n",
    "mime=MIMEText(msg, \"plain\", \"utf-8\")  \n",
    "mime[\"Subject\"]=\"Python中文信件!!!(MIME)\"\n",
    "\n",
    "# 顯示的名稱\n",
    "mime[\"From\"]=\"我是誰?\"\n",
    "mime[\"To\"]=\"jiangzero@gmail.com\"\n",
    "\n",
    "# 寄件者，收件者\n",
    "from_addr = 'jiangsir@tea.nknush.kh.edu.tw'\n",
    "to_addr = 'jiangzero@gmail.com'\n",
    "\n",
    "smtpssl.sendmail(from_addr, to_addr, mime.as_string())\n",
    "smtpssl.quit() "
   ]
  },
  {
   "cell_type": "markdown",
   "metadata": {},
   "source": [
    "# 傳送 HTML 信件 -- 使用 MIME 協定"
   ]
  },
  {
   "cell_type": "code",
   "execution_count": 3,
   "metadata": {},
   "outputs": [
    {
     "name": "stdout",
     "output_type": "stream",
     "text": [
      "郵件傳送成功!\n"
     ]
    },
    {
     "data": {
      "text/plain": [
       "(221, b'2.0.0 closing connection t24sm4190990pfe.110 - gsmtp')"
      ]
     },
     "execution_count": 3,
     "metadata": {},
     "output_type": "execute_result"
    }
   ],
   "source": [
    "import smtplib\n",
    "from email.mime.text import MIMEText\n",
    "\n",
    "html=\"\"\"\n",
    "<!doctype html>\n",
    "<html>\n",
    "<head>\n",
    "  <meta charset='utf-8'>\n",
    "  <title>HTML mail</title>\n",
    "</head>\n",
    "<body>\n",
    "  <b>HTML 郵件測試</b>\n",
    "</body>\n",
    "</html>\n",
    "\"\"\"\n",
    "mime=MIMEText(html, \"html\", \"utf-8\")\n",
    "mime[\"Subject\"]=\"寄送HTML 郵件(MIME)\"\n",
    "mime[\"From\"]=\"我是誰?\"\n",
    "mime[\"To\"]=\"你是誰?\"\n",
    "msg=mime.as_string()\n",
    "\n",
    "smtpssl=smtplib.SMTP_SSL(\"smtp.gmail.com\", 465) \n",
    "smtpssl.login(\"jiangsir@tea.nknush.kh.edu.tw\", \"igajmuqzhnhuyzil\")\n",
    "\n",
    "from_addr=\"jiangsir@tea.nknush.kh.edu.tw\"\n",
    "to_addr=[\"jiangzero@gmail.com\"]\n",
    "status=smtpssl.sendmail(from_addr, to_addr, msg)\n",
    "if status=={}:\n",
    "    print(\"郵件傳送成功!\")\n",
    "else:\n",
    "    print(\"郵件傳送失敗!\")\n",
    "smtpssl.quit()"
   ]
  },
  {
   "cell_type": "markdown",
   "metadata": {},
   "source": [
    "### 參考文獻\n",
    "\n",
    "http://yhhuang1966.blogspot.com/2018/10/python-gmail.html\n"
   ]
  }
 ],
 "metadata": {
  "kernelspec": {
   "display_name": "Python 3",
   "language": "python",
   "name": "python3"
  },
  "language_info": {
   "codemirror_mode": {
    "name": "ipython",
    "version": 3
   },
   "file_extension": ".py",
   "mimetype": "text/x-python",
   "name": "python",
   "nbconvert_exporter": "python",
   "pygments_lexer": "ipython3",
   "version": "3.6.5"
  }
 },
 "nbformat": 4,
 "nbformat_minor": 2
}
